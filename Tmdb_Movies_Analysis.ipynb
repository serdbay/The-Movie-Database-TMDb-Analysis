{
 "cells": [
  {
   "cell_type": "markdown",
   "id": "ad4ee3de",
   "metadata": {
    "tags": []
   },
   "source": [
    "# TMDb Movies Dataset Analysis\n",
    "\n",
    "## Table of Contents\n",
    "<ul>\n",
    "<li><a href=\"#intro\">Introduction</a></li>\n",
    "<li><a href=\"#wrangling\">Data Wrangling</a></li>\n",
    "<li><a href=\"#eda\">Exploratory Data Analysis</a></li>\n",
    "<li><a href=\"#conclusions\">Conclusions</a></li>\n",
    "</ul>"
   ]
  },
  {
   "cell_type": "markdown",
   "id": "09d870cb",
   "metadata": {},
   "source": [
    "<a id='intro'></a>\n",
    "## Introduction\n",
    "\n",
    "### Dataset Description \n",
    "\n",
    "The Tmdb Movies dataset describes the data collection of several columns including detailed information about the movies, genres, performers, movie budgets, user ratings and revenue. In this project we will be analyzing data associated with the movies and in particular we will be interested in finding trends and relationship(s) among the popular actors/actresses, genres and incomes. \n",
    "\n",
    "This data set contains information about 10,000 movies collected from The Movie Database (TMDb), including user ratings and revenue.\n",
    "\n",
    "● Certain columns, like ‘cast’ and ‘genres’, contain multiple values separated by pipe (|) characters.\n",
    "\n",
    "● There are some odd characters in the ‘cast’ column. Don’t worry about cleaning them. You can leave them as is.\n",
    "\n",
    "● The final two columns ending with “_adj” show the budget and revenue of the associated movie in terms of 2010 dollars, accounting for inflation over time. \n",
    "\n",
    "### Question(s) for Analysis\n",
    "\n",
    "In this project we will be analyzing data associated with such as movies, genres, performers, popularity and votes. In particular we will be interested in finding some questions about their relationships. \n",
    "\n",
    "Besides, to say in more detail we will be analyzing genres, actors/actresses and directors' performances and movies' net incomes according to this dataset. "
   ]
  },
  {
   "cell_type": "markdown",
   "id": "eb6bb3f7",
   "metadata": {
    "tags": []
   },
   "source": [
    "<a id='wrangling'></a>\n",
    "## Data Wrangling\n",
    "\n",
    "### General Properties"
   ]
  },
  {
   "cell_type": "code",
   "execution_count": 113,
   "id": "bc77d89c",
   "metadata": {},
   "outputs": [],
   "source": [
    "import numpy as np\n",
    "import pandas as pd\n",
    "import matplotlib.pyplot as plt\n",
    "import seaborn as sns\n",
    "%matplotlib inline"
   ]
  },
  {
   "cell_type": "code",
   "execution_count": 114,
   "id": "0ea77817",
   "metadata": {},
   "outputs": [
    {
     "data": {
      "application/com.datacamp.data-table.v1+json": {
       "is_truncated": false,
       "table": {
        "data": [
         {
          "budget": 150000000,
          "budget_adj": 137999939.280026,
          "cast": "Chris Pratt|Bryce Dallas Howard|Irrfan Khan|Vincent D'Onofrio|Nick Robinson",
          "director": "Colin Trevorrow",
          "genres": "Action|Adventure|Science Fiction|Thriller",
          "homepage": "http://www.jurassicworld.com/",
          "id": 135397,
          "imdb_id": "tt0369610",
          "index": 0,
          "keywords": "monster|dna|tyrannosaurus rex|velociraptor|island",
          "original_title": "Jurassic World",
          "overview": "Twenty-two years after the events of Jurassic Park, Isla Nublar now features a fully functioning dinosaur theme park, Jurassic World, as originally envisioned by John Hammond.",
          "popularity": 32.985763,
          "production_companies": "Universal Studios|Amblin Entertainment|Legendary Pictures|Fuji Television Network|Dentsu",
          "release_date": "6/9/15",
          "release_year": 2015,
          "revenue": 1513528810,
          "revenue_adj": 1392445892.5238,
          "runtime": 124,
          "tagline": "The park is open.",
          "vote_average": 6.5,
          "vote_count": 5562
         },
         {
          "budget": 150000000,
          "budget_adj": 137999939.280026,
          "cast": "Tom Hardy|Charlize Theron|Hugh Keays-Byrne|Nicholas Hoult|Josh Helman",
          "director": "George Miller",
          "genres": "Action|Adventure|Science Fiction|Thriller",
          "homepage": "http://www.madmaxmovie.com/",
          "id": 76341,
          "imdb_id": "tt1392190",
          "index": 1,
          "keywords": "future|chase|post-apocalyptic|dystopia|australia",
          "original_title": "Mad Max: Fury Road",
          "overview": "An apocalyptic story set in the furthest reaches of our planet, in a stark desert landscape where humanity is broken, and most everyone is crazed fighting for the necessities of life. Within this world exist two rebels on the run who just might be able to restore order. There's Max, a man of action and a man of few words, who seeks peace of mind following the loss of his wife and child in the aftermath of the chaos. And Furiosa, a woman of action and a woman who believes her path to survival may be achieved if she can make it across the desert back to her childhood homeland.",
          "popularity": 28.419936,
          "production_companies": "Village Roadshow Pictures|Kennedy Miller Productions",
          "release_date": "5/13/15",
          "release_year": 2015,
          "revenue": 378436354,
          "revenue_adj": 348161292.489031,
          "runtime": 120,
          "tagline": "What a Lovely Day.",
          "vote_average": 7.1,
          "vote_count": 6185
         },
         {
          "budget": 110000000,
          "budget_adj": 101199955.472019,
          "cast": "Shailene Woodley|Theo James|Kate Winslet|Ansel Elgort|Miles Teller",
          "director": "Robert Schwentke",
          "genres": "Adventure|Science Fiction|Thriller",
          "homepage": "http://www.thedivergentseries.movie/#insurgent",
          "id": 262500,
          "imdb_id": "tt2908446",
          "index": 2,
          "keywords": "based on novel|revolution|dystopia|sequel|dystopic future",
          "original_title": "Insurgent",
          "overview": "Beatrice Prior must confront her inner demons and continue her fight against a powerful alliance which threatens to tear her society apart.",
          "popularity": 13.112507,
          "production_companies": "Summit Entertainment|Mandeville Films|Red Wagon Entertainment|NeoReel",
          "release_date": "3/18/15",
          "release_year": 2015,
          "revenue": 295238201,
          "revenue_adj": 271619025.407628,
          "runtime": 119,
          "tagline": "One Choice Can Destroy You",
          "vote_average": 6.3,
          "vote_count": 2480
         },
         {
          "budget": 200000000,
          "budget_adj": 183999919.040035,
          "cast": "Harrison Ford|Mark Hamill|Carrie Fisher|Adam Driver|Daisy Ridley",
          "director": "J.J. Abrams",
          "genres": "Action|Adventure|Science Fiction|Fantasy",
          "homepage": "http://www.starwars.com/films/star-wars-episode-vii",
          "id": 140607,
          "imdb_id": "tt2488496",
          "index": 3,
          "keywords": "android|spaceship|jedi|space opera|3d",
          "original_title": "Star Wars: The Force Awakens",
          "overview": "Thirty years after defeating the Galactic Empire, Han Solo and his allies face a new threat from the evil Kylo Ren and his army of Stormtroopers.",
          "popularity": 11.173104,
          "production_companies": "Lucasfilm|Truenorth Productions|Bad Robot",
          "release_date": "12/15/15",
          "release_year": 2015,
          "revenue": 2068178225,
          "revenue_adj": 1902723129.80182,
          "runtime": 136,
          "tagline": "Every generation has a story.",
          "vote_average": 7.5,
          "vote_count": 5292
         },
         {
          "budget": 190000000,
          "budget_adj": 174799923.088033,
          "cast": "Vin Diesel|Paul Walker|Jason Statham|Michelle Rodriguez|Dwayne Johnson",
          "director": "James Wan",
          "genres": "Action|Crime|Thriller",
          "homepage": "http://www.furious7.com/",
          "id": 168259,
          "imdb_id": "tt2820852",
          "index": 4,
          "keywords": "car race|speed|revenge|suspense|car",
          "original_title": "Furious 7",
          "overview": "Deckard Shaw seeks revenge against Dominic Toretto and his family for his comatose brother.",
          "popularity": 9.335014,
          "production_companies": "Universal Pictures|Original Film|Media Rights Capital|Dentsu|One Race Films",
          "release_date": "4/1/15",
          "release_year": 2015,
          "revenue": 1506249360,
          "revenue_adj": 1385748801.47052,
          "runtime": 137,
          "tagline": "Vengeance Hits Home",
          "vote_average": 7.3,
          "vote_count": 2947
         }
        ],
        "schema": {
         "fields": [
          {
           "name": "index",
           "type": "integer"
          },
          {
           "name": "id",
           "type": "integer"
          },
          {
           "name": "imdb_id",
           "type": "string"
          },
          {
           "name": "popularity",
           "type": "number"
          },
          {
           "name": "budget",
           "type": "integer"
          },
          {
           "name": "revenue",
           "type": "integer"
          },
          {
           "name": "original_title",
           "type": "string"
          },
          {
           "name": "cast",
           "type": "string"
          },
          {
           "name": "homepage",
           "type": "string"
          },
          {
           "name": "director",
           "type": "string"
          },
          {
           "name": "tagline",
           "type": "string"
          },
          {
           "name": "keywords",
           "type": "string"
          },
          {
           "name": "overview",
           "type": "string"
          },
          {
           "name": "runtime",
           "type": "integer"
          },
          {
           "name": "genres",
           "type": "string"
          },
          {
           "name": "production_companies",
           "type": "string"
          },
          {
           "name": "release_date",
           "type": "string"
          },
          {
           "name": "vote_count",
           "type": "integer"
          },
          {
           "name": "vote_average",
           "type": "number"
          },
          {
           "name": "release_year",
           "type": "integer"
          },
          {
           "name": "budget_adj",
           "type": "number"
          },
          {
           "name": "revenue_adj",
           "type": "number"
          }
         ],
         "pandas_version": "0.20.0",
         "primaryKey": [
          "index"
         ]
        }
       },
       "total_rows": 5
      },
      "text/html": [
       "<div>\n",
       "<style scoped>\n",
       "    .dataframe tbody tr th:only-of-type {\n",
       "        vertical-align: middle;\n",
       "    }\n",
       "\n",
       "    .dataframe tbody tr th {\n",
       "        vertical-align: top;\n",
       "    }\n",
       "\n",
       "    .dataframe thead th {\n",
       "        text-align: right;\n",
       "    }\n",
       "</style>\n",
       "<table border=\"1\" class=\"dataframe\">\n",
       "  <thead>\n",
       "    <tr style=\"text-align: right;\">\n",
       "      <th></th>\n",
       "      <th>id</th>\n",
       "      <th>imdb_id</th>\n",
       "      <th>popularity</th>\n",
       "      <th>budget</th>\n",
       "      <th>revenue</th>\n",
       "      <th>original_title</th>\n",
       "      <th>cast</th>\n",
       "      <th>homepage</th>\n",
       "      <th>director</th>\n",
       "      <th>tagline</th>\n",
       "      <th>...</th>\n",
       "      <th>overview</th>\n",
       "      <th>runtime</th>\n",
       "      <th>genres</th>\n",
       "      <th>production_companies</th>\n",
       "      <th>release_date</th>\n",
       "      <th>vote_count</th>\n",
       "      <th>vote_average</th>\n",
       "      <th>release_year</th>\n",
       "      <th>budget_adj</th>\n",
       "      <th>revenue_adj</th>\n",
       "    </tr>\n",
       "  </thead>\n",
       "  <tbody>\n",
       "    <tr>\n",
       "      <th>0</th>\n",
       "      <td>135397</td>\n",
       "      <td>tt0369610</td>\n",
       "      <td>32.985763</td>\n",
       "      <td>150000000</td>\n",
       "      <td>1513528810</td>\n",
       "      <td>Jurassic World</td>\n",
       "      <td>Chris Pratt|Bryce Dallas Howard|Irrfan Khan|Vi...</td>\n",
       "      <td>http://www.jurassicworld.com/</td>\n",
       "      <td>Colin Trevorrow</td>\n",
       "      <td>The park is open.</td>\n",
       "      <td>...</td>\n",
       "      <td>Twenty-two years after the events of Jurassic ...</td>\n",
       "      <td>124</td>\n",
       "      <td>Action|Adventure|Science Fiction|Thriller</td>\n",
       "      <td>Universal Studios|Amblin Entertainment|Legenda...</td>\n",
       "      <td>6/9/15</td>\n",
       "      <td>5562</td>\n",
       "      <td>6.5</td>\n",
       "      <td>2015</td>\n",
       "      <td>1.379999e+08</td>\n",
       "      <td>1.392446e+09</td>\n",
       "    </tr>\n",
       "    <tr>\n",
       "      <th>1</th>\n",
       "      <td>76341</td>\n",
       "      <td>tt1392190</td>\n",
       "      <td>28.419936</td>\n",
       "      <td>150000000</td>\n",
       "      <td>378436354</td>\n",
       "      <td>Mad Max: Fury Road</td>\n",
       "      <td>Tom Hardy|Charlize Theron|Hugh Keays-Byrne|Nic...</td>\n",
       "      <td>http://www.madmaxmovie.com/</td>\n",
       "      <td>George Miller</td>\n",
       "      <td>What a Lovely Day.</td>\n",
       "      <td>...</td>\n",
       "      <td>An apocalyptic story set in the furthest reach...</td>\n",
       "      <td>120</td>\n",
       "      <td>Action|Adventure|Science Fiction|Thriller</td>\n",
       "      <td>Village Roadshow Pictures|Kennedy Miller Produ...</td>\n",
       "      <td>5/13/15</td>\n",
       "      <td>6185</td>\n",
       "      <td>7.1</td>\n",
       "      <td>2015</td>\n",
       "      <td>1.379999e+08</td>\n",
       "      <td>3.481613e+08</td>\n",
       "    </tr>\n",
       "    <tr>\n",
       "      <th>2</th>\n",
       "      <td>262500</td>\n",
       "      <td>tt2908446</td>\n",
       "      <td>13.112507</td>\n",
       "      <td>110000000</td>\n",
       "      <td>295238201</td>\n",
       "      <td>Insurgent</td>\n",
       "      <td>Shailene Woodley|Theo James|Kate Winslet|Ansel...</td>\n",
       "      <td>http://www.thedivergentseries.movie/#insurgent</td>\n",
       "      <td>Robert Schwentke</td>\n",
       "      <td>One Choice Can Destroy You</td>\n",
       "      <td>...</td>\n",
       "      <td>Beatrice Prior must confront her inner demons ...</td>\n",
       "      <td>119</td>\n",
       "      <td>Adventure|Science Fiction|Thriller</td>\n",
       "      <td>Summit Entertainment|Mandeville Films|Red Wago...</td>\n",
       "      <td>3/18/15</td>\n",
       "      <td>2480</td>\n",
       "      <td>6.3</td>\n",
       "      <td>2015</td>\n",
       "      <td>1.012000e+08</td>\n",
       "      <td>2.716190e+08</td>\n",
       "    </tr>\n",
       "    <tr>\n",
       "      <th>3</th>\n",
       "      <td>140607</td>\n",
       "      <td>tt2488496</td>\n",
       "      <td>11.173104</td>\n",
       "      <td>200000000</td>\n",
       "      <td>2068178225</td>\n",
       "      <td>Star Wars: The Force Awakens</td>\n",
       "      <td>Harrison Ford|Mark Hamill|Carrie Fisher|Adam D...</td>\n",
       "      <td>http://www.starwars.com/films/star-wars-episod...</td>\n",
       "      <td>J.J. Abrams</td>\n",
       "      <td>Every generation has a story.</td>\n",
       "      <td>...</td>\n",
       "      <td>Thirty years after defeating the Galactic Empi...</td>\n",
       "      <td>136</td>\n",
       "      <td>Action|Adventure|Science Fiction|Fantasy</td>\n",
       "      <td>Lucasfilm|Truenorth Productions|Bad Robot</td>\n",
       "      <td>12/15/15</td>\n",
       "      <td>5292</td>\n",
       "      <td>7.5</td>\n",
       "      <td>2015</td>\n",
       "      <td>1.839999e+08</td>\n",
       "      <td>1.902723e+09</td>\n",
       "    </tr>\n",
       "    <tr>\n",
       "      <th>4</th>\n",
       "      <td>168259</td>\n",
       "      <td>tt2820852</td>\n",
       "      <td>9.335014</td>\n",
       "      <td>190000000</td>\n",
       "      <td>1506249360</td>\n",
       "      <td>Furious 7</td>\n",
       "      <td>Vin Diesel|Paul Walker|Jason Statham|Michelle ...</td>\n",
       "      <td>http://www.furious7.com/</td>\n",
       "      <td>James Wan</td>\n",
       "      <td>Vengeance Hits Home</td>\n",
       "      <td>...</td>\n",
       "      <td>Deckard Shaw seeks revenge against Dominic Tor...</td>\n",
       "      <td>137</td>\n",
       "      <td>Action|Crime|Thriller</td>\n",
       "      <td>Universal Pictures|Original Film|Media Rights ...</td>\n",
       "      <td>4/1/15</td>\n",
       "      <td>2947</td>\n",
       "      <td>7.3</td>\n",
       "      <td>2015</td>\n",
       "      <td>1.747999e+08</td>\n",
       "      <td>1.385749e+09</td>\n",
       "    </tr>\n",
       "  </tbody>\n",
       "</table>\n",
       "<p>5 rows × 21 columns</p>\n",
       "</div>"
      ],
      "text/plain": [
       "       id    imdb_id  popularity     budget     revenue  \\\n",
       "0  135397  tt0369610   32.985763  150000000  1513528810   \n",
       "1   76341  tt1392190   28.419936  150000000   378436354   \n",
       "2  262500  tt2908446   13.112507  110000000   295238201   \n",
       "3  140607  tt2488496   11.173104  200000000  2068178225   \n",
       "4  168259  tt2820852    9.335014  190000000  1506249360   \n",
       "\n",
       "                 original_title  \\\n",
       "0                Jurassic World   \n",
       "1            Mad Max: Fury Road   \n",
       "2                     Insurgent   \n",
       "3  Star Wars: The Force Awakens   \n",
       "4                     Furious 7   \n",
       "\n",
       "                                                cast  \\\n",
       "0  Chris Pratt|Bryce Dallas Howard|Irrfan Khan|Vi...   \n",
       "1  Tom Hardy|Charlize Theron|Hugh Keays-Byrne|Nic...   \n",
       "2  Shailene Woodley|Theo James|Kate Winslet|Ansel...   \n",
       "3  Harrison Ford|Mark Hamill|Carrie Fisher|Adam D...   \n",
       "4  Vin Diesel|Paul Walker|Jason Statham|Michelle ...   \n",
       "\n",
       "                                            homepage          director  \\\n",
       "0                      http://www.jurassicworld.com/   Colin Trevorrow   \n",
       "1                        http://www.madmaxmovie.com/     George Miller   \n",
       "2     http://www.thedivergentseries.movie/#insurgent  Robert Schwentke   \n",
       "3  http://www.starwars.com/films/star-wars-episod...       J.J. Abrams   \n",
       "4                           http://www.furious7.com/         James Wan   \n",
       "\n",
       "                         tagline  ...  \\\n",
       "0              The park is open.  ...   \n",
       "1             What a Lovely Day.  ...   \n",
       "2     One Choice Can Destroy You  ...   \n",
       "3  Every generation has a story.  ...   \n",
       "4            Vengeance Hits Home  ...   \n",
       "\n",
       "                                            overview runtime  \\\n",
       "0  Twenty-two years after the events of Jurassic ...     124   \n",
       "1  An apocalyptic story set in the furthest reach...     120   \n",
       "2  Beatrice Prior must confront her inner demons ...     119   \n",
       "3  Thirty years after defeating the Galactic Empi...     136   \n",
       "4  Deckard Shaw seeks revenge against Dominic Tor...     137   \n",
       "\n",
       "                                      genres  \\\n",
       "0  Action|Adventure|Science Fiction|Thriller   \n",
       "1  Action|Adventure|Science Fiction|Thriller   \n",
       "2         Adventure|Science Fiction|Thriller   \n",
       "3   Action|Adventure|Science Fiction|Fantasy   \n",
       "4                      Action|Crime|Thriller   \n",
       "\n",
       "                                production_companies release_date vote_count  \\\n",
       "0  Universal Studios|Amblin Entertainment|Legenda...       6/9/15       5562   \n",
       "1  Village Roadshow Pictures|Kennedy Miller Produ...      5/13/15       6185   \n",
       "2  Summit Entertainment|Mandeville Films|Red Wago...      3/18/15       2480   \n",
       "3          Lucasfilm|Truenorth Productions|Bad Robot     12/15/15       5292   \n",
       "4  Universal Pictures|Original Film|Media Rights ...       4/1/15       2947   \n",
       "\n",
       "   vote_average  release_year    budget_adj   revenue_adj  \n",
       "0           6.5          2015  1.379999e+08  1.392446e+09  \n",
       "1           7.1          2015  1.379999e+08  3.481613e+08  \n",
       "2           6.3          2015  1.012000e+08  2.716190e+08  \n",
       "3           7.5          2015  1.839999e+08  1.902723e+09  \n",
       "4           7.3          2015  1.747999e+08  1.385749e+09  \n",
       "\n",
       "[5 rows x 21 columns]"
      ]
     },
     "execution_count": 114,
     "metadata": {},
     "output_type": "execute_result"
    }
   ],
   "source": [
    "df=pd.read_csv(r'tmdb-movies.csv')\n",
    "df.head()"
   ]
  },
  {
   "cell_type": "code",
   "execution_count": 115,
   "id": "264a8566",
   "metadata": {},
   "outputs": [
    {
     "data": {
      "text/plain": [
       "Index(['id', 'imdb_id', 'popularity', 'budget', 'revenue', 'original_title',\n",
       "       'cast', 'homepage', 'director', 'tagline', 'keywords', 'overview',\n",
       "       'runtime', 'genres', 'production_companies', 'release_date',\n",
       "       'vote_count', 'vote_average', 'release_year', 'budget_adj',\n",
       "       'revenue_adj'],\n",
       "      dtype='object')"
      ]
     },
     "execution_count": 115,
     "metadata": {},
     "output_type": "execute_result"
    }
   ],
   "source": [
    "df.columns"
   ]
  },
  {
   "cell_type": "code",
   "execution_count": 116,
   "id": "b3e23b4e",
   "metadata": {},
   "outputs": [
    {
     "data": {
      "text/plain": [
       "(10866, 21)"
      ]
     },
     "execution_count": 116,
     "metadata": {},
     "output_type": "execute_result"
    }
   ],
   "source": [
    "df.shape"
   ]
  },
  {
   "cell_type": "code",
   "execution_count": 117,
   "id": "1433e217",
   "metadata": {
    "scrolled": true
   },
   "outputs": [
    {
     "data": {
      "text/plain": [
       "id                        int64\n",
       "imdb_id                  object\n",
       "popularity              float64\n",
       "budget                    int64\n",
       "revenue                   int64\n",
       "original_title           object\n",
       "cast                     object\n",
       "homepage                 object\n",
       "director                 object\n",
       "tagline                  object\n",
       "keywords                 object\n",
       "overview                 object\n",
       "runtime                   int64\n",
       "genres                   object\n",
       "production_companies     object\n",
       "release_date             object\n",
       "vote_count                int64\n",
       "vote_average            float64\n",
       "release_year              int64\n",
       "budget_adj              float64\n",
       "revenue_adj             float64\n",
       "dtype: object"
      ]
     },
     "execution_count": 117,
     "metadata": {},
     "output_type": "execute_result"
    }
   ],
   "source": [
    "df.dtypes"
   ]
  },
  {
   "cell_type": "markdown",
   "id": "5b4e602f",
   "metadata": {},
   "source": [
    "### Data Cleaning "
   ]
  },
  {
   "cell_type": "markdown",
   "id": "9e5f4c59",
   "metadata": {},
   "source": [
    "Now that my data is loaded, I checked some info about it as we can see above such as its columns, shape and types. After quick checking I will make the following changes on my data: \n",
    "\n",
    "* I will drop/remove some columns as I think of them that they are unnecessary for my analysis. \n",
    "I will drop the columns 'id', 'overview','budget', 'revenue','homepage','tagline' and 'release_date'. It may be weird when you \n",
    "see that I dropped 'budget' and 'revenue' but I will keep the columns 'budget_adj' and 'revenue_adj' and will use them for my \n",
    "analysis later in my questions. \n",
    "\n",
    "* I will check the NaN/missing values. I will drop some subsets such as 'cast', 'director', 'genres', 'imdb_id' because they are related to my analysis questions. I will try to find precise answers for my questions about cast (performers), directors and genres that is why I dropped these missing values. \n",
    "\n",
    "* As you can see I did not change the NaN/missing values in 'keywords' and 'production_companies' columns. I didn't remove the NaN/missing values in them because I didn't think these values would affect my analysis. \n",
    "\n",
    "* Lastly, I will drop the duplicated values and check my data shape again. \n"
   ]
  },
  {
   "cell_type": "code",
   "execution_count": 118,
   "id": "55d2cff8",
   "metadata": {
    "scrolled": true
   },
   "outputs": [
    {
     "data": {
      "application/com.datacamp.data-table.v1+json": {
       "is_truncated": false,
       "table": {
        "data": [
         {
          "budget_adj": 137999939.280026,
          "cast": "Chris Pratt|Bryce Dallas Howard|Irrfan Khan|Vincent D'Onofrio|Nick Robinson",
          "director": "Colin Trevorrow",
          "genres": "Action|Adventure|Science Fiction|Thriller",
          "imdb_id": "tt0369610",
          "index": 0,
          "keywords": "monster|dna|tyrannosaurus rex|velociraptor|island",
          "original_title": "Jurassic World",
          "popularity": 32.985763,
          "production_companies": "Universal Studios|Amblin Entertainment|Legendary Pictures|Fuji Television Network|Dentsu",
          "release_year": 2015,
          "revenue_adj": 1392445892.5238,
          "runtime": 124,
          "vote_average": 6.5,
          "vote_count": 5562
         },
         {
          "budget_adj": 137999939.280026,
          "cast": "Tom Hardy|Charlize Theron|Hugh Keays-Byrne|Nicholas Hoult|Josh Helman",
          "director": "George Miller",
          "genres": "Action|Adventure|Science Fiction|Thriller",
          "imdb_id": "tt1392190",
          "index": 1,
          "keywords": "future|chase|post-apocalyptic|dystopia|australia",
          "original_title": "Mad Max: Fury Road",
          "popularity": 28.419936,
          "production_companies": "Village Roadshow Pictures|Kennedy Miller Productions",
          "release_year": 2015,
          "revenue_adj": 348161292.489031,
          "runtime": 120,
          "vote_average": 7.1,
          "vote_count": 6185
         },
         {
          "budget_adj": 101199955.472019,
          "cast": "Shailene Woodley|Theo James|Kate Winslet|Ansel Elgort|Miles Teller",
          "director": "Robert Schwentke",
          "genres": "Adventure|Science Fiction|Thriller",
          "imdb_id": "tt2908446",
          "index": 2,
          "keywords": "based on novel|revolution|dystopia|sequel|dystopic future",
          "original_title": "Insurgent",
          "popularity": 13.112507,
          "production_companies": "Summit Entertainment|Mandeville Films|Red Wagon Entertainment|NeoReel",
          "release_year": 2015,
          "revenue_adj": 271619025.407628,
          "runtime": 119,
          "vote_average": 6.3,
          "vote_count": 2480
         },
         {
          "budget_adj": 183999919.040035,
          "cast": "Harrison Ford|Mark Hamill|Carrie Fisher|Adam Driver|Daisy Ridley",
          "director": "J.J. Abrams",
          "genres": "Action|Adventure|Science Fiction|Fantasy",
          "imdb_id": "tt2488496",
          "index": 3,
          "keywords": "android|spaceship|jedi|space opera|3d",
          "original_title": "Star Wars: The Force Awakens",
          "popularity": 11.173104,
          "production_companies": "Lucasfilm|Truenorth Productions|Bad Robot",
          "release_year": 2015,
          "revenue_adj": 1902723129.80182,
          "runtime": 136,
          "vote_average": 7.5,
          "vote_count": 5292
         },
         {
          "budget_adj": 174799923.088033,
          "cast": "Vin Diesel|Paul Walker|Jason Statham|Michelle Rodriguez|Dwayne Johnson",
          "director": "James Wan",
          "genres": "Action|Crime|Thriller",
          "imdb_id": "tt2820852",
          "index": 4,
          "keywords": "car race|speed|revenge|suspense|car",
          "original_title": "Furious 7",
          "popularity": 9.335014,
          "production_companies": "Universal Pictures|Original Film|Media Rights Capital|Dentsu|One Race Films",
          "release_year": 2015,
          "revenue_adj": 1385748801.47052,
          "runtime": 137,
          "vote_average": 7.3,
          "vote_count": 2947
         }
        ],
        "schema": {
         "fields": [
          {
           "name": "index",
           "type": "integer"
          },
          {
           "name": "imdb_id",
           "type": "string"
          },
          {
           "name": "popularity",
           "type": "number"
          },
          {
           "name": "original_title",
           "type": "string"
          },
          {
           "name": "cast",
           "type": "string"
          },
          {
           "name": "director",
           "type": "string"
          },
          {
           "name": "keywords",
           "type": "string"
          },
          {
           "name": "runtime",
           "type": "integer"
          },
          {
           "name": "genres",
           "type": "string"
          },
          {
           "name": "production_companies",
           "type": "string"
          },
          {
           "name": "vote_count",
           "type": "integer"
          },
          {
           "name": "vote_average",
           "type": "number"
          },
          {
           "name": "release_year",
           "type": "integer"
          },
          {
           "name": "budget_adj",
           "type": "number"
          },
          {
           "name": "revenue_adj",
           "type": "number"
          }
         ],
         "pandas_version": "0.20.0",
         "primaryKey": [
          "index"
         ]
        }
       },
       "total_rows": 5
      },
      "text/html": [
       "<div>\n",
       "<style scoped>\n",
       "    .dataframe tbody tr th:only-of-type {\n",
       "        vertical-align: middle;\n",
       "    }\n",
       "\n",
       "    .dataframe tbody tr th {\n",
       "        vertical-align: top;\n",
       "    }\n",
       "\n",
       "    .dataframe thead th {\n",
       "        text-align: right;\n",
       "    }\n",
       "</style>\n",
       "<table border=\"1\" class=\"dataframe\">\n",
       "  <thead>\n",
       "    <tr style=\"text-align: right;\">\n",
       "      <th></th>\n",
       "      <th>imdb_id</th>\n",
       "      <th>popularity</th>\n",
       "      <th>original_title</th>\n",
       "      <th>cast</th>\n",
       "      <th>director</th>\n",
       "      <th>keywords</th>\n",
       "      <th>runtime</th>\n",
       "      <th>genres</th>\n",
       "      <th>production_companies</th>\n",
       "      <th>vote_count</th>\n",
       "      <th>vote_average</th>\n",
       "      <th>release_year</th>\n",
       "      <th>budget_adj</th>\n",
       "      <th>revenue_adj</th>\n",
       "    </tr>\n",
       "  </thead>\n",
       "  <tbody>\n",
       "    <tr>\n",
       "      <th>0</th>\n",
       "      <td>tt0369610</td>\n",
       "      <td>32.985763</td>\n",
       "      <td>Jurassic World</td>\n",
       "      <td>Chris Pratt|Bryce Dallas Howard|Irrfan Khan|Vi...</td>\n",
       "      <td>Colin Trevorrow</td>\n",
       "      <td>monster|dna|tyrannosaurus rex|velociraptor|island</td>\n",
       "      <td>124</td>\n",
       "      <td>Action|Adventure|Science Fiction|Thriller</td>\n",
       "      <td>Universal Studios|Amblin Entertainment|Legenda...</td>\n",
       "      <td>5562</td>\n",
       "      <td>6.5</td>\n",
       "      <td>2015</td>\n",
       "      <td>1.379999e+08</td>\n",
       "      <td>1.392446e+09</td>\n",
       "    </tr>\n",
       "    <tr>\n",
       "      <th>1</th>\n",
       "      <td>tt1392190</td>\n",
       "      <td>28.419936</td>\n",
       "      <td>Mad Max: Fury Road</td>\n",
       "      <td>Tom Hardy|Charlize Theron|Hugh Keays-Byrne|Nic...</td>\n",
       "      <td>George Miller</td>\n",
       "      <td>future|chase|post-apocalyptic|dystopia|australia</td>\n",
       "      <td>120</td>\n",
       "      <td>Action|Adventure|Science Fiction|Thriller</td>\n",
       "      <td>Village Roadshow Pictures|Kennedy Miller Produ...</td>\n",
       "      <td>6185</td>\n",
       "      <td>7.1</td>\n",
       "      <td>2015</td>\n",
       "      <td>1.379999e+08</td>\n",
       "      <td>3.481613e+08</td>\n",
       "    </tr>\n",
       "    <tr>\n",
       "      <th>2</th>\n",
       "      <td>tt2908446</td>\n",
       "      <td>13.112507</td>\n",
       "      <td>Insurgent</td>\n",
       "      <td>Shailene Woodley|Theo James|Kate Winslet|Ansel...</td>\n",
       "      <td>Robert Schwentke</td>\n",
       "      <td>based on novel|revolution|dystopia|sequel|dyst...</td>\n",
       "      <td>119</td>\n",
       "      <td>Adventure|Science Fiction|Thriller</td>\n",
       "      <td>Summit Entertainment|Mandeville Films|Red Wago...</td>\n",
       "      <td>2480</td>\n",
       "      <td>6.3</td>\n",
       "      <td>2015</td>\n",
       "      <td>1.012000e+08</td>\n",
       "      <td>2.716190e+08</td>\n",
       "    </tr>\n",
       "    <tr>\n",
       "      <th>3</th>\n",
       "      <td>tt2488496</td>\n",
       "      <td>11.173104</td>\n",
       "      <td>Star Wars: The Force Awakens</td>\n",
       "      <td>Harrison Ford|Mark Hamill|Carrie Fisher|Adam D...</td>\n",
       "      <td>J.J. Abrams</td>\n",
       "      <td>android|spaceship|jedi|space opera|3d</td>\n",
       "      <td>136</td>\n",
       "      <td>Action|Adventure|Science Fiction|Fantasy</td>\n",
       "      <td>Lucasfilm|Truenorth Productions|Bad Robot</td>\n",
       "      <td>5292</td>\n",
       "      <td>7.5</td>\n",
       "      <td>2015</td>\n",
       "      <td>1.839999e+08</td>\n",
       "      <td>1.902723e+09</td>\n",
       "    </tr>\n",
       "    <tr>\n",
       "      <th>4</th>\n",
       "      <td>tt2820852</td>\n",
       "      <td>9.335014</td>\n",
       "      <td>Furious 7</td>\n",
       "      <td>Vin Diesel|Paul Walker|Jason Statham|Michelle ...</td>\n",
       "      <td>James Wan</td>\n",
       "      <td>car race|speed|revenge|suspense|car</td>\n",
       "      <td>137</td>\n",
       "      <td>Action|Crime|Thriller</td>\n",
       "      <td>Universal Pictures|Original Film|Media Rights ...</td>\n",
       "      <td>2947</td>\n",
       "      <td>7.3</td>\n",
       "      <td>2015</td>\n",
       "      <td>1.747999e+08</td>\n",
       "      <td>1.385749e+09</td>\n",
       "    </tr>\n",
       "  </tbody>\n",
       "</table>\n",
       "</div>"
      ],
      "text/plain": [
       "     imdb_id  popularity                original_title  \\\n",
       "0  tt0369610   32.985763                Jurassic World   \n",
       "1  tt1392190   28.419936            Mad Max: Fury Road   \n",
       "2  tt2908446   13.112507                     Insurgent   \n",
       "3  tt2488496   11.173104  Star Wars: The Force Awakens   \n",
       "4  tt2820852    9.335014                     Furious 7   \n",
       "\n",
       "                                                cast          director  \\\n",
       "0  Chris Pratt|Bryce Dallas Howard|Irrfan Khan|Vi...   Colin Trevorrow   \n",
       "1  Tom Hardy|Charlize Theron|Hugh Keays-Byrne|Nic...     George Miller   \n",
       "2  Shailene Woodley|Theo James|Kate Winslet|Ansel...  Robert Schwentke   \n",
       "3  Harrison Ford|Mark Hamill|Carrie Fisher|Adam D...       J.J. Abrams   \n",
       "4  Vin Diesel|Paul Walker|Jason Statham|Michelle ...         James Wan   \n",
       "\n",
       "                                            keywords  runtime  \\\n",
       "0  monster|dna|tyrannosaurus rex|velociraptor|island      124   \n",
       "1   future|chase|post-apocalyptic|dystopia|australia      120   \n",
       "2  based on novel|revolution|dystopia|sequel|dyst...      119   \n",
       "3              android|spaceship|jedi|space opera|3d      136   \n",
       "4                car race|speed|revenge|suspense|car      137   \n",
       "\n",
       "                                      genres  \\\n",
       "0  Action|Adventure|Science Fiction|Thriller   \n",
       "1  Action|Adventure|Science Fiction|Thriller   \n",
       "2         Adventure|Science Fiction|Thriller   \n",
       "3   Action|Adventure|Science Fiction|Fantasy   \n",
       "4                      Action|Crime|Thriller   \n",
       "\n",
       "                                production_companies  vote_count  \\\n",
       "0  Universal Studios|Amblin Entertainment|Legenda...        5562   \n",
       "1  Village Roadshow Pictures|Kennedy Miller Produ...        6185   \n",
       "2  Summit Entertainment|Mandeville Films|Red Wago...        2480   \n",
       "3          Lucasfilm|Truenorth Productions|Bad Robot        5292   \n",
       "4  Universal Pictures|Original Film|Media Rights ...        2947   \n",
       "\n",
       "   vote_average  release_year    budget_adj   revenue_adj  \n",
       "0           6.5          2015  1.379999e+08  1.392446e+09  \n",
       "1           7.1          2015  1.379999e+08  3.481613e+08  \n",
       "2           6.3          2015  1.012000e+08  2.716190e+08  \n",
       "3           7.5          2015  1.839999e+08  1.902723e+09  \n",
       "4           7.3          2015  1.747999e+08  1.385749e+09  "
      ]
     },
     "execution_count": 118,
     "metadata": {},
     "output_type": "execute_result"
    }
   ],
   "source": [
    "df.drop(['id','overview','budget', 'revenue','homepage','tagline','release_date'],axis=1,inplace=True)\n",
    "df.head()"
   ]
  },
  {
   "cell_type": "code",
   "execution_count": 119,
   "id": "5c84d63a",
   "metadata": {
    "scrolled": true
   },
   "outputs": [
    {
     "data": {
      "text/plain": [
       "imdb_id                   10\n",
       "popularity                 0\n",
       "original_title             0\n",
       "cast                      76\n",
       "director                  44\n",
       "keywords                1493\n",
       "runtime                    0\n",
       "genres                    23\n",
       "production_companies    1030\n",
       "vote_count                 0\n",
       "vote_average               0\n",
       "release_year               0\n",
       "budget_adj                 0\n",
       "revenue_adj                0\n",
       "dtype: int64"
      ]
     },
     "execution_count": 119,
     "metadata": {},
     "output_type": "execute_result"
    }
   ],
   "source": [
    "df.isnull().sum()"
   ]
  },
  {
   "cell_type": "code",
   "execution_count": 120,
   "id": "ef5afe84",
   "metadata": {},
   "outputs": [
    {
     "data": {
      "application/com.datacamp.data-table.v1+json": {
       "is_truncated": false,
       "table": {
        "data": [
         {
          "budget_adj": 137999939.280026,
          "cast": "Chris Pratt|Bryce Dallas Howard|Irrfan Khan|Vincent D'Onofrio|Nick Robinson",
          "director": "Colin Trevorrow",
          "genres": "Action|Adventure|Science Fiction|Thriller",
          "imdb_id": "tt0369610",
          "index": 0,
          "keywords": "monster|dna|tyrannosaurus rex|velociraptor|island",
          "original_title": "Jurassic World",
          "popularity": 32.985763,
          "production_companies": "Universal Studios|Amblin Entertainment|Legendary Pictures|Fuji Television Network|Dentsu",
          "release_year": 2015,
          "revenue_adj": 1392445892.5238,
          "runtime": 124,
          "vote_average": 6.5,
          "vote_count": 5562
         },
         {
          "budget_adj": 137999939.280026,
          "cast": "Tom Hardy|Charlize Theron|Hugh Keays-Byrne|Nicholas Hoult|Josh Helman",
          "director": "George Miller",
          "genres": "Action|Adventure|Science Fiction|Thriller",
          "imdb_id": "tt1392190",
          "index": 1,
          "keywords": "future|chase|post-apocalyptic|dystopia|australia",
          "original_title": "Mad Max: Fury Road",
          "popularity": 28.419936,
          "production_companies": "Village Roadshow Pictures|Kennedy Miller Productions",
          "release_year": 2015,
          "revenue_adj": 348161292.489031,
          "runtime": 120,
          "vote_average": 7.1,
          "vote_count": 6185
         },
         {
          "budget_adj": 101199955.472019,
          "cast": "Shailene Woodley|Theo James|Kate Winslet|Ansel Elgort|Miles Teller",
          "director": "Robert Schwentke",
          "genres": "Adventure|Science Fiction|Thriller",
          "imdb_id": "tt2908446",
          "index": 2,
          "keywords": "based on novel|revolution|dystopia|sequel|dystopic future",
          "original_title": "Insurgent",
          "popularity": 13.112507,
          "production_companies": "Summit Entertainment|Mandeville Films|Red Wagon Entertainment|NeoReel",
          "release_year": 2015,
          "revenue_adj": 271619025.407628,
          "runtime": 119,
          "vote_average": 6.3,
          "vote_count": 2480
         },
         {
          "budget_adj": 183999919.040035,
          "cast": "Harrison Ford|Mark Hamill|Carrie Fisher|Adam Driver|Daisy Ridley",
          "director": "J.J. Abrams",
          "genres": "Action|Adventure|Science Fiction|Fantasy",
          "imdb_id": "tt2488496",
          "index": 3,
          "keywords": "android|spaceship|jedi|space opera|3d",
          "original_title": "Star Wars: The Force Awakens",
          "popularity": 11.173104,
          "production_companies": "Lucasfilm|Truenorth Productions|Bad Robot",
          "release_year": 2015,
          "revenue_adj": 1902723129.80182,
          "runtime": 136,
          "vote_average": 7.5,
          "vote_count": 5292
         },
         {
          "budget_adj": 174799923.088033,
          "cast": "Vin Diesel|Paul Walker|Jason Statham|Michelle Rodriguez|Dwayne Johnson",
          "director": "James Wan",
          "genres": "Action|Crime|Thriller",
          "imdb_id": "tt2820852",
          "index": 4,
          "keywords": "car race|speed|revenge|suspense|car",
          "original_title": "Furious 7",
          "popularity": 9.335014,
          "production_companies": "Universal Pictures|Original Film|Media Rights Capital|Dentsu|One Race Films",
          "release_year": 2015,
          "revenue_adj": 1385748801.47052,
          "runtime": 137,
          "vote_average": 7.3,
          "vote_count": 2947
         }
        ],
        "schema": {
         "fields": [
          {
           "name": "index",
           "type": "integer"
          },
          {
           "name": "imdb_id",
           "type": "string"
          },
          {
           "name": "popularity",
           "type": "number"
          },
          {
           "name": "original_title",
           "type": "string"
          },
          {
           "name": "cast",
           "type": "string"
          },
          {
           "name": "director",
           "type": "string"
          },
          {
           "name": "keywords",
           "type": "string"
          },
          {
           "name": "runtime",
           "type": "integer"
          },
          {
           "name": "genres",
           "type": "string"
          },
          {
           "name": "production_companies",
           "type": "string"
          },
          {
           "name": "vote_count",
           "type": "integer"
          },
          {
           "name": "vote_average",
           "type": "number"
          },
          {
           "name": "release_year",
           "type": "integer"
          },
          {
           "name": "budget_adj",
           "type": "number"
          },
          {
           "name": "revenue_adj",
           "type": "number"
          }
         ],
         "pandas_version": "0.20.0",
         "primaryKey": [
          "index"
         ]
        }
       },
       "total_rows": 5
      },
      "text/html": [
       "<div>\n",
       "<style scoped>\n",
       "    .dataframe tbody tr th:only-of-type {\n",
       "        vertical-align: middle;\n",
       "    }\n",
       "\n",
       "    .dataframe tbody tr th {\n",
       "        vertical-align: top;\n",
       "    }\n",
       "\n",
       "    .dataframe thead th {\n",
       "        text-align: right;\n",
       "    }\n",
       "</style>\n",
       "<table border=\"1\" class=\"dataframe\">\n",
       "  <thead>\n",
       "    <tr style=\"text-align: right;\">\n",
       "      <th></th>\n",
       "      <th>imdb_id</th>\n",
       "      <th>popularity</th>\n",
       "      <th>original_title</th>\n",
       "      <th>cast</th>\n",
       "      <th>director</th>\n",
       "      <th>keywords</th>\n",
       "      <th>runtime</th>\n",
       "      <th>genres</th>\n",
       "      <th>production_companies</th>\n",
       "      <th>vote_count</th>\n",
       "      <th>vote_average</th>\n",
       "      <th>release_year</th>\n",
       "      <th>budget_adj</th>\n",
       "      <th>revenue_adj</th>\n",
       "    </tr>\n",
       "  </thead>\n",
       "  <tbody>\n",
       "    <tr>\n",
       "      <th>0</th>\n",
       "      <td>tt0369610</td>\n",
       "      <td>32.985763</td>\n",
       "      <td>Jurassic World</td>\n",
       "      <td>Chris Pratt|Bryce Dallas Howard|Irrfan Khan|Vi...</td>\n",
       "      <td>Colin Trevorrow</td>\n",
       "      <td>monster|dna|tyrannosaurus rex|velociraptor|island</td>\n",
       "      <td>124</td>\n",
       "      <td>Action|Adventure|Science Fiction|Thriller</td>\n",
       "      <td>Universal Studios|Amblin Entertainment|Legenda...</td>\n",
       "      <td>5562</td>\n",
       "      <td>6.5</td>\n",
       "      <td>2015</td>\n",
       "      <td>1.379999e+08</td>\n",
       "      <td>1.392446e+09</td>\n",
       "    </tr>\n",
       "    <tr>\n",
       "      <th>1</th>\n",
       "      <td>tt1392190</td>\n",
       "      <td>28.419936</td>\n",
       "      <td>Mad Max: Fury Road</td>\n",
       "      <td>Tom Hardy|Charlize Theron|Hugh Keays-Byrne|Nic...</td>\n",
       "      <td>George Miller</td>\n",
       "      <td>future|chase|post-apocalyptic|dystopia|australia</td>\n",
       "      <td>120</td>\n",
       "      <td>Action|Adventure|Science Fiction|Thriller</td>\n",
       "      <td>Village Roadshow Pictures|Kennedy Miller Produ...</td>\n",
       "      <td>6185</td>\n",
       "      <td>7.1</td>\n",
       "      <td>2015</td>\n",
       "      <td>1.379999e+08</td>\n",
       "      <td>3.481613e+08</td>\n",
       "    </tr>\n",
       "    <tr>\n",
       "      <th>2</th>\n",
       "      <td>tt2908446</td>\n",
       "      <td>13.112507</td>\n",
       "      <td>Insurgent</td>\n",
       "      <td>Shailene Woodley|Theo James|Kate Winslet|Ansel...</td>\n",
       "      <td>Robert Schwentke</td>\n",
       "      <td>based on novel|revolution|dystopia|sequel|dyst...</td>\n",
       "      <td>119</td>\n",
       "      <td>Adventure|Science Fiction|Thriller</td>\n",
       "      <td>Summit Entertainment|Mandeville Films|Red Wago...</td>\n",
       "      <td>2480</td>\n",
       "      <td>6.3</td>\n",
       "      <td>2015</td>\n",
       "      <td>1.012000e+08</td>\n",
       "      <td>2.716190e+08</td>\n",
       "    </tr>\n",
       "    <tr>\n",
       "      <th>3</th>\n",
       "      <td>tt2488496</td>\n",
       "      <td>11.173104</td>\n",
       "      <td>Star Wars: The Force Awakens</td>\n",
       "      <td>Harrison Ford|Mark Hamill|Carrie Fisher|Adam D...</td>\n",
       "      <td>J.J. Abrams</td>\n",
       "      <td>android|spaceship|jedi|space opera|3d</td>\n",
       "      <td>136</td>\n",
       "      <td>Action|Adventure|Science Fiction|Fantasy</td>\n",
       "      <td>Lucasfilm|Truenorth Productions|Bad Robot</td>\n",
       "      <td>5292</td>\n",
       "      <td>7.5</td>\n",
       "      <td>2015</td>\n",
       "      <td>1.839999e+08</td>\n",
       "      <td>1.902723e+09</td>\n",
       "    </tr>\n",
       "    <tr>\n",
       "      <th>4</th>\n",
       "      <td>tt2820852</td>\n",
       "      <td>9.335014</td>\n",
       "      <td>Furious 7</td>\n",
       "      <td>Vin Diesel|Paul Walker|Jason Statham|Michelle ...</td>\n",
       "      <td>James Wan</td>\n",
       "      <td>car race|speed|revenge|suspense|car</td>\n",
       "      <td>137</td>\n",
       "      <td>Action|Crime|Thriller</td>\n",
       "      <td>Universal Pictures|Original Film|Media Rights ...</td>\n",
       "      <td>2947</td>\n",
       "      <td>7.3</td>\n",
       "      <td>2015</td>\n",
       "      <td>1.747999e+08</td>\n",
       "      <td>1.385749e+09</td>\n",
       "    </tr>\n",
       "  </tbody>\n",
       "</table>\n",
       "</div>"
      ],
      "text/plain": [
       "     imdb_id  popularity                original_title  \\\n",
       "0  tt0369610   32.985763                Jurassic World   \n",
       "1  tt1392190   28.419936            Mad Max: Fury Road   \n",
       "2  tt2908446   13.112507                     Insurgent   \n",
       "3  tt2488496   11.173104  Star Wars: The Force Awakens   \n",
       "4  tt2820852    9.335014                     Furious 7   \n",
       "\n",
       "                                                cast          director  \\\n",
       "0  Chris Pratt|Bryce Dallas Howard|Irrfan Khan|Vi...   Colin Trevorrow   \n",
       "1  Tom Hardy|Charlize Theron|Hugh Keays-Byrne|Nic...     George Miller   \n",
       "2  Shailene Woodley|Theo James|Kate Winslet|Ansel...  Robert Schwentke   \n",
       "3  Harrison Ford|Mark Hamill|Carrie Fisher|Adam D...       J.J. Abrams   \n",
       "4  Vin Diesel|Paul Walker|Jason Statham|Michelle ...         James Wan   \n",
       "\n",
       "                                            keywords  runtime  \\\n",
       "0  monster|dna|tyrannosaurus rex|velociraptor|island      124   \n",
       "1   future|chase|post-apocalyptic|dystopia|australia      120   \n",
       "2  based on novel|revolution|dystopia|sequel|dyst...      119   \n",
       "3              android|spaceship|jedi|space opera|3d      136   \n",
       "4                car race|speed|revenge|suspense|car      137   \n",
       "\n",
       "                                      genres  \\\n",
       "0  Action|Adventure|Science Fiction|Thriller   \n",
       "1  Action|Adventure|Science Fiction|Thriller   \n",
       "2         Adventure|Science Fiction|Thriller   \n",
       "3   Action|Adventure|Science Fiction|Fantasy   \n",
       "4                      Action|Crime|Thriller   \n",
       "\n",
       "                                production_companies  vote_count  \\\n",
       "0  Universal Studios|Amblin Entertainment|Legenda...        5562   \n",
       "1  Village Roadshow Pictures|Kennedy Miller Produ...        6185   \n",
       "2  Summit Entertainment|Mandeville Films|Red Wago...        2480   \n",
       "3          Lucasfilm|Truenorth Productions|Bad Robot        5292   \n",
       "4  Universal Pictures|Original Film|Media Rights ...        2947   \n",
       "\n",
       "   vote_average  release_year    budget_adj   revenue_adj  \n",
       "0           6.5          2015  1.379999e+08  1.392446e+09  \n",
       "1           7.1          2015  1.379999e+08  3.481613e+08  \n",
       "2           6.3          2015  1.012000e+08  2.716190e+08  \n",
       "3           7.5          2015  1.839999e+08  1.902723e+09  \n",
       "4           7.3          2015  1.747999e+08  1.385749e+09  "
      ]
     },
     "execution_count": 120,
     "metadata": {},
     "output_type": "execute_result"
    }
   ],
   "source": [
    "df.dropna(subset=['cast','director','genres','imdb_id'],inplace=True)\n",
    "df.head()"
   ]
  },
  {
   "cell_type": "code",
   "execution_count": 121,
   "id": "a080beb3",
   "metadata": {},
   "outputs": [
    {
     "data": {
      "text/plain": [
       "imdb_id                    0\n",
       "popularity                 0\n",
       "original_title             0\n",
       "cast                       0\n",
       "director                   0\n",
       "keywords                1423\n",
       "runtime                    0\n",
       "genres                     0\n",
       "production_companies     956\n",
       "vote_count                 0\n",
       "vote_average               0\n",
       "release_year               0\n",
       "budget_adj                 0\n",
       "revenue_adj                0\n",
       "dtype: int64"
      ]
     },
     "execution_count": 121,
     "metadata": {},
     "output_type": "execute_result"
    }
   ],
   "source": [
    "df.isna().sum()"
   ]
  },
  {
   "cell_type": "code",
   "execution_count": 122,
   "id": "af4e8cd3",
   "metadata": {
    "scrolled": true
   },
   "outputs": [
    {
     "data": {
      "text/plain": [
       "False    10726\n",
       "True         1\n",
       "dtype: int64"
      ]
     },
     "execution_count": 122,
     "metadata": {},
     "output_type": "execute_result"
    }
   ],
   "source": [
    "df.duplicated().value_counts()"
   ]
  },
  {
   "cell_type": "code",
   "execution_count": 123,
   "id": "417d3b18",
   "metadata": {},
   "outputs": [
    {
     "data": {
      "text/plain": [
       "(False    10726\n",
       " dtype: int64,\n",
       " 0)"
      ]
     },
     "execution_count": 123,
     "metadata": {},
     "output_type": "execute_result"
    }
   ],
   "source": [
    "df.drop_duplicates(inplace=True)\n",
    "df.duplicated().value_counts(), df.duplicated().sum()"
   ]
  },
  {
   "cell_type": "code",
   "execution_count": 124,
   "id": "753b882b",
   "metadata": {},
   "outputs": [
    {
     "data": {
      "application/com.datacamp.data-table.v1+json": {
       "is_truncated": false,
       "table": {
        "data": [
         {
          "budget_adj": 10726,
          "index": "count",
          "popularity": 10726,
          "release_year": 10726,
          "revenue_adj": 10726,
          "runtime": 10726,
          "vote_average": 10726,
          "vote_count": 10726
         },
         {
          "budget_adj": 17773584.649817083,
          "index": "mean",
          "popularity": 0.6527790815,
          "release_year": 2001.2560134253,
          "revenue_adj": 52030472.504764736,
          "runtime": 102.4936602648,
          "vote_average": 5.9642177886,
          "vote_count": 219.9050904345
         },
         {
          "budget_adj": 34472199.747320674,
          "index": "std",
          "popularity": 1.0049946216,
          "release_year": 12.8219617361,
          "revenue_adj": 145454712.2988266,
          "runtime": 30.4733550455,
          "vote_average": 0.9301851728,
          "vote_count": 578.9344325901
         },
         {
          "budget_adj": 0,
          "index": "min",
          "popularity": 0.000188,
          "release_year": 1960,
          "revenue_adj": 0,
          "runtime": 0,
          "vote_average": 1.5,
          "vote_count": 10
         },
         {
          "budget_adj": 0,
          "index": "25%",
          "popularity": 0.210766,
          "release_year": 1995,
          "revenue_adj": 0,
          "runtime": 90,
          "vote_average": 5.4,
          "vote_count": 17
         },
         {
          "budget_adj": 0,
          "index": "50%",
          "popularity": 0.3871355,
          "release_year": 2006,
          "revenue_adj": 0,
          "runtime": 99,
          "vote_average": 6,
          "vote_count": 39
         },
         {
          "budget_adj": 21126905.8025142,
          "index": "75%",
          "popularity": 0.72151775,
          "release_year": 2011,
          "revenue_adj": 34750610.738639526,
          "runtime": 112,
          "vote_average": 6.6,
          "vote_count": 148
         },
         {
          "budget_adj": 425000000,
          "index": "max",
          "popularity": 32.985763,
          "release_year": 2015,
          "revenue_adj": 2827123750.41189,
          "runtime": 900,
          "vote_average": 9.2,
          "vote_count": 9767
         }
        ],
        "schema": {
         "fields": [
          {
           "name": "index",
           "type": "string"
          },
          {
           "name": "popularity",
           "type": "number"
          },
          {
           "name": "runtime",
           "type": "number"
          },
          {
           "name": "vote_count",
           "type": "number"
          },
          {
           "name": "vote_average",
           "type": "number"
          },
          {
           "name": "release_year",
           "type": "number"
          },
          {
           "name": "budget_adj",
           "type": "number"
          },
          {
           "name": "revenue_adj",
           "type": "number"
          }
         ],
         "pandas_version": "0.20.0",
         "primaryKey": [
          "index"
         ]
        }
       },
       "total_rows": 8
      },
      "text/html": [
       "<div>\n",
       "<style scoped>\n",
       "    .dataframe tbody tr th:only-of-type {\n",
       "        vertical-align: middle;\n",
       "    }\n",
       "\n",
       "    .dataframe tbody tr th {\n",
       "        vertical-align: top;\n",
       "    }\n",
       "\n",
       "    .dataframe thead th {\n",
       "        text-align: right;\n",
       "    }\n",
       "</style>\n",
       "<table border=\"1\" class=\"dataframe\">\n",
       "  <thead>\n",
       "    <tr style=\"text-align: right;\">\n",
       "      <th></th>\n",
       "      <th>popularity</th>\n",
       "      <th>runtime</th>\n",
       "      <th>vote_count</th>\n",
       "      <th>vote_average</th>\n",
       "      <th>release_year</th>\n",
       "      <th>budget_adj</th>\n",
       "      <th>revenue_adj</th>\n",
       "    </tr>\n",
       "  </thead>\n",
       "  <tbody>\n",
       "    <tr>\n",
       "      <th>count</th>\n",
       "      <td>10726.000000</td>\n",
       "      <td>10726.000000</td>\n",
       "      <td>10726.000000</td>\n",
       "      <td>10726.000000</td>\n",
       "      <td>10726.000000</td>\n",
       "      <td>1.072600e+04</td>\n",
       "      <td>1.072600e+04</td>\n",
       "    </tr>\n",
       "    <tr>\n",
       "      <th>mean</th>\n",
       "      <td>0.652779</td>\n",
       "      <td>102.493660</td>\n",
       "      <td>219.905090</td>\n",
       "      <td>5.964218</td>\n",
       "      <td>2001.256013</td>\n",
       "      <td>1.777358e+07</td>\n",
       "      <td>5.203047e+07</td>\n",
       "    </tr>\n",
       "    <tr>\n",
       "      <th>std</th>\n",
       "      <td>1.004995</td>\n",
       "      <td>30.473355</td>\n",
       "      <td>578.934433</td>\n",
       "      <td>0.930185</td>\n",
       "      <td>12.821962</td>\n",
       "      <td>3.447220e+07</td>\n",
       "      <td>1.454547e+08</td>\n",
       "    </tr>\n",
       "    <tr>\n",
       "      <th>min</th>\n",
       "      <td>0.000188</td>\n",
       "      <td>0.000000</td>\n",
       "      <td>10.000000</td>\n",
       "      <td>1.500000</td>\n",
       "      <td>1960.000000</td>\n",
       "      <td>0.000000e+00</td>\n",
       "      <td>0.000000e+00</td>\n",
       "    </tr>\n",
       "    <tr>\n",
       "      <th>25%</th>\n",
       "      <td>0.210766</td>\n",
       "      <td>90.000000</td>\n",
       "      <td>17.000000</td>\n",
       "      <td>5.400000</td>\n",
       "      <td>1995.000000</td>\n",
       "      <td>0.000000e+00</td>\n",
       "      <td>0.000000e+00</td>\n",
       "    </tr>\n",
       "    <tr>\n",
       "      <th>50%</th>\n",
       "      <td>0.387135</td>\n",
       "      <td>99.000000</td>\n",
       "      <td>39.000000</td>\n",
       "      <td>6.000000</td>\n",
       "      <td>2006.000000</td>\n",
       "      <td>0.000000e+00</td>\n",
       "      <td>0.000000e+00</td>\n",
       "    </tr>\n",
       "    <tr>\n",
       "      <th>75%</th>\n",
       "      <td>0.721518</td>\n",
       "      <td>112.000000</td>\n",
       "      <td>148.000000</td>\n",
       "      <td>6.600000</td>\n",
       "      <td>2011.000000</td>\n",
       "      <td>2.112691e+07</td>\n",
       "      <td>3.475061e+07</td>\n",
       "    </tr>\n",
       "    <tr>\n",
       "      <th>max</th>\n",
       "      <td>32.985763</td>\n",
       "      <td>900.000000</td>\n",
       "      <td>9767.000000</td>\n",
       "      <td>9.200000</td>\n",
       "      <td>2015.000000</td>\n",
       "      <td>4.250000e+08</td>\n",
       "      <td>2.827124e+09</td>\n",
       "    </tr>\n",
       "  </tbody>\n",
       "</table>\n",
       "</div>"
      ],
      "text/plain": [
       "         popularity       runtime    vote_count  vote_average  release_year  \\\n",
       "count  10726.000000  10726.000000  10726.000000  10726.000000  10726.000000   \n",
       "mean       0.652779    102.493660    219.905090      5.964218   2001.256013   \n",
       "std        1.004995     30.473355    578.934433      0.930185     12.821962   \n",
       "min        0.000188      0.000000     10.000000      1.500000   1960.000000   \n",
       "25%        0.210766     90.000000     17.000000      5.400000   1995.000000   \n",
       "50%        0.387135     99.000000     39.000000      6.000000   2006.000000   \n",
       "75%        0.721518    112.000000    148.000000      6.600000   2011.000000   \n",
       "max       32.985763    900.000000   9767.000000      9.200000   2015.000000   \n",
       "\n",
       "         budget_adj   revenue_adj  \n",
       "count  1.072600e+04  1.072600e+04  \n",
       "mean   1.777358e+07  5.203047e+07  \n",
       "std    3.447220e+07  1.454547e+08  \n",
       "min    0.000000e+00  0.000000e+00  \n",
       "25%    0.000000e+00  0.000000e+00  \n",
       "50%    0.000000e+00  0.000000e+00  \n",
       "75%    2.112691e+07  3.475061e+07  \n",
       "max    4.250000e+08  2.827124e+09  "
      ]
     },
     "execution_count": 124,
     "metadata": {},
     "output_type": "execute_result"
    }
   ],
   "source": [
    "df.describe()"
   ]
  },
  {
   "cell_type": "markdown",
   "id": "b7ac7b99",
   "metadata": {},
   "source": [
    "<a id='eda'></a>\n",
    "## Exploratory Data Analysis"
   ]
  },
  {
   "cell_type": "markdown",
   "id": "495054bd",
   "metadata": {},
   "source": [
    "Question 1-Who Are The Most Popular Top 3 Performers According To The Appearances In The Movies ? "
   ]
  },
  {
   "cell_type": "code",
   "execution_count": 125,
   "id": "e0d375f4-8fde-4d69-8188-08558a56878d",
   "metadata": {},
   "outputs": [
    {
     "data": {
      "application/com.datacamp.data-table.v1+json": {
       "is_truncated": false,
       "table": {
        "data": [
         {
          "budget_adj": 137999939.280026,
          "cast": "Chris Pratt|Bryce Dallas Howard|Irrfan Khan|Vincent D'Onofrio|Nick Robinson",
          "director": "Colin Trevorrow",
          "genres": "Action|Adventure|Science Fiction|Thriller",
          "imdb_id": "tt0369610",
          "index": 0,
          "keywords": "monster|dna|tyrannosaurus rex|velociraptor|island",
          "original_title": "Jurassic World",
          "popularity": 32.985763,
          "production_companies": "Universal Studios|Amblin Entertainment|Legendary Pictures|Fuji Television Network|Dentsu",
          "release_year": 2015,
          "revenue_adj": 1392445892.5238,
          "runtime": 124,
          "vote_average": 6.5,
          "vote_count": 5562
         },
         {
          "budget_adj": 137999939.280026,
          "cast": "Tom Hardy|Charlize Theron|Hugh Keays-Byrne|Nicholas Hoult|Josh Helman",
          "director": "George Miller",
          "genres": "Action|Adventure|Science Fiction|Thriller",
          "imdb_id": "tt1392190",
          "index": 1,
          "keywords": "future|chase|post-apocalyptic|dystopia|australia",
          "original_title": "Mad Max: Fury Road",
          "popularity": 28.419936,
          "production_companies": "Village Roadshow Pictures|Kennedy Miller Productions",
          "release_year": 2015,
          "revenue_adj": 348161292.489031,
          "runtime": 120,
          "vote_average": 7.1,
          "vote_count": 6185
         },
         {
          "budget_adj": 101199955.472019,
          "cast": "Shailene Woodley|Theo James|Kate Winslet|Ansel Elgort|Miles Teller",
          "director": "Robert Schwentke",
          "genres": "Adventure|Science Fiction|Thriller",
          "imdb_id": "tt2908446",
          "index": 2,
          "keywords": "based on novel|revolution|dystopia|sequel|dystopic future",
          "original_title": "Insurgent",
          "popularity": 13.112507,
          "production_companies": "Summit Entertainment|Mandeville Films|Red Wagon Entertainment|NeoReel",
          "release_year": 2015,
          "revenue_adj": 271619025.407628,
          "runtime": 119,
          "vote_average": 6.3,
          "vote_count": 2480
         },
         {
          "budget_adj": 183999919.040035,
          "cast": "Harrison Ford|Mark Hamill|Carrie Fisher|Adam Driver|Daisy Ridley",
          "director": "J.J. Abrams",
          "genres": "Action|Adventure|Science Fiction|Fantasy",
          "imdb_id": "tt2488496",
          "index": 3,
          "keywords": "android|spaceship|jedi|space opera|3d",
          "original_title": "Star Wars: The Force Awakens",
          "popularity": 11.173104,
          "production_companies": "Lucasfilm|Truenorth Productions|Bad Robot",
          "release_year": 2015,
          "revenue_adj": 1902723129.80182,
          "runtime": 136,
          "vote_average": 7.5,
          "vote_count": 5292
         },
         {
          "budget_adj": 174799923.088033,
          "cast": "Vin Diesel|Paul Walker|Jason Statham|Michelle Rodriguez|Dwayne Johnson",
          "director": "James Wan",
          "genres": "Action|Crime|Thriller",
          "imdb_id": "tt2820852",
          "index": 4,
          "keywords": "car race|speed|revenge|suspense|car",
          "original_title": "Furious 7",
          "popularity": 9.335014,
          "production_companies": "Universal Pictures|Original Film|Media Rights Capital|Dentsu|One Race Films",
          "release_year": 2015,
          "revenue_adj": 1385748801.47052,
          "runtime": 137,
          "vote_average": 7.3,
          "vote_count": 2947
         }
        ],
        "schema": {
         "fields": [
          {
           "name": "index",
           "type": "integer"
          },
          {
           "name": "imdb_id",
           "type": "string"
          },
          {
           "name": "popularity",
           "type": "number"
          },
          {
           "name": "original_title",
           "type": "string"
          },
          {
           "name": "cast",
           "type": "string"
          },
          {
           "name": "director",
           "type": "string"
          },
          {
           "name": "keywords",
           "type": "string"
          },
          {
           "name": "runtime",
           "type": "integer"
          },
          {
           "name": "genres",
           "type": "string"
          },
          {
           "name": "production_companies",
           "type": "string"
          },
          {
           "name": "vote_count",
           "type": "integer"
          },
          {
           "name": "vote_average",
           "type": "number"
          },
          {
           "name": "release_year",
           "type": "integer"
          },
          {
           "name": "budget_adj",
           "type": "number"
          },
          {
           "name": "revenue_adj",
           "type": "number"
          }
         ],
         "pandas_version": "0.20.0",
         "primaryKey": [
          "index"
         ]
        }
       },
       "total_rows": 5
      },
      "text/html": [
       "<div>\n",
       "<style scoped>\n",
       "    .dataframe tbody tr th:only-of-type {\n",
       "        vertical-align: middle;\n",
       "    }\n",
       "\n",
       "    .dataframe tbody tr th {\n",
       "        vertical-align: top;\n",
       "    }\n",
       "\n",
       "    .dataframe thead th {\n",
       "        text-align: right;\n",
       "    }\n",
       "</style>\n",
       "<table border=\"1\" class=\"dataframe\">\n",
       "  <thead>\n",
       "    <tr style=\"text-align: right;\">\n",
       "      <th></th>\n",
       "      <th>imdb_id</th>\n",
       "      <th>popularity</th>\n",
       "      <th>original_title</th>\n",
       "      <th>cast</th>\n",
       "      <th>director</th>\n",
       "      <th>keywords</th>\n",
       "      <th>runtime</th>\n",
       "      <th>genres</th>\n",
       "      <th>production_companies</th>\n",
       "      <th>vote_count</th>\n",
       "      <th>vote_average</th>\n",
       "      <th>release_year</th>\n",
       "      <th>budget_adj</th>\n",
       "      <th>revenue_adj</th>\n",
       "    </tr>\n",
       "  </thead>\n",
       "  <tbody>\n",
       "    <tr>\n",
       "      <th>0</th>\n",
       "      <td>tt0369610</td>\n",
       "      <td>32.985763</td>\n",
       "      <td>Jurassic World</td>\n",
       "      <td>Chris Pratt|Bryce Dallas Howard|Irrfan Khan|Vi...</td>\n",
       "      <td>Colin Trevorrow</td>\n",
       "      <td>monster|dna|tyrannosaurus rex|velociraptor|island</td>\n",
       "      <td>124</td>\n",
       "      <td>Action|Adventure|Science Fiction|Thriller</td>\n",
       "      <td>Universal Studios|Amblin Entertainment|Legenda...</td>\n",
       "      <td>5562</td>\n",
       "      <td>6.5</td>\n",
       "      <td>2015</td>\n",
       "      <td>1.379999e+08</td>\n",
       "      <td>1.392446e+09</td>\n",
       "    </tr>\n",
       "    <tr>\n",
       "      <th>1</th>\n",
       "      <td>tt1392190</td>\n",
       "      <td>28.419936</td>\n",
       "      <td>Mad Max: Fury Road</td>\n",
       "      <td>Tom Hardy|Charlize Theron|Hugh Keays-Byrne|Nic...</td>\n",
       "      <td>George Miller</td>\n",
       "      <td>future|chase|post-apocalyptic|dystopia|australia</td>\n",
       "      <td>120</td>\n",
       "      <td>Action|Adventure|Science Fiction|Thriller</td>\n",
       "      <td>Village Roadshow Pictures|Kennedy Miller Produ...</td>\n",
       "      <td>6185</td>\n",
       "      <td>7.1</td>\n",
       "      <td>2015</td>\n",
       "      <td>1.379999e+08</td>\n",
       "      <td>3.481613e+08</td>\n",
       "    </tr>\n",
       "    <tr>\n",
       "      <th>2</th>\n",
       "      <td>tt2908446</td>\n",
       "      <td>13.112507</td>\n",
       "      <td>Insurgent</td>\n",
       "      <td>Shailene Woodley|Theo James|Kate Winslet|Ansel...</td>\n",
       "      <td>Robert Schwentke</td>\n",
       "      <td>based on novel|revolution|dystopia|sequel|dyst...</td>\n",
       "      <td>119</td>\n",
       "      <td>Adventure|Science Fiction|Thriller</td>\n",
       "      <td>Summit Entertainment|Mandeville Films|Red Wago...</td>\n",
       "      <td>2480</td>\n",
       "      <td>6.3</td>\n",
       "      <td>2015</td>\n",
       "      <td>1.012000e+08</td>\n",
       "      <td>2.716190e+08</td>\n",
       "    </tr>\n",
       "    <tr>\n",
       "      <th>3</th>\n",
       "      <td>tt2488496</td>\n",
       "      <td>11.173104</td>\n",
       "      <td>Star Wars: The Force Awakens</td>\n",
       "      <td>Harrison Ford|Mark Hamill|Carrie Fisher|Adam D...</td>\n",
       "      <td>J.J. Abrams</td>\n",
       "      <td>android|spaceship|jedi|space opera|3d</td>\n",
       "      <td>136</td>\n",
       "      <td>Action|Adventure|Science Fiction|Fantasy</td>\n",
       "      <td>Lucasfilm|Truenorth Productions|Bad Robot</td>\n",
       "      <td>5292</td>\n",
       "      <td>7.5</td>\n",
       "      <td>2015</td>\n",
       "      <td>1.839999e+08</td>\n",
       "      <td>1.902723e+09</td>\n",
       "    </tr>\n",
       "    <tr>\n",
       "      <th>4</th>\n",
       "      <td>tt2820852</td>\n",
       "      <td>9.335014</td>\n",
       "      <td>Furious 7</td>\n",
       "      <td>Vin Diesel|Paul Walker|Jason Statham|Michelle ...</td>\n",
       "      <td>James Wan</td>\n",
       "      <td>car race|speed|revenge|suspense|car</td>\n",
       "      <td>137</td>\n",
       "      <td>Action|Crime|Thriller</td>\n",
       "      <td>Universal Pictures|Original Film|Media Rights ...</td>\n",
       "      <td>2947</td>\n",
       "      <td>7.3</td>\n",
       "      <td>2015</td>\n",
       "      <td>1.747999e+08</td>\n",
       "      <td>1.385749e+09</td>\n",
       "    </tr>\n",
       "  </tbody>\n",
       "</table>\n",
       "</div>"
      ],
      "text/plain": [
       "     imdb_id  popularity                original_title  \\\n",
       "0  tt0369610   32.985763                Jurassic World   \n",
       "1  tt1392190   28.419936            Mad Max: Fury Road   \n",
       "2  tt2908446   13.112507                     Insurgent   \n",
       "3  tt2488496   11.173104  Star Wars: The Force Awakens   \n",
       "4  tt2820852    9.335014                     Furious 7   \n",
       "\n",
       "                                                cast          director  \\\n",
       "0  Chris Pratt|Bryce Dallas Howard|Irrfan Khan|Vi...   Colin Trevorrow   \n",
       "1  Tom Hardy|Charlize Theron|Hugh Keays-Byrne|Nic...     George Miller   \n",
       "2  Shailene Woodley|Theo James|Kate Winslet|Ansel...  Robert Schwentke   \n",
       "3  Harrison Ford|Mark Hamill|Carrie Fisher|Adam D...       J.J. Abrams   \n",
       "4  Vin Diesel|Paul Walker|Jason Statham|Michelle ...         James Wan   \n",
       "\n",
       "                                            keywords  runtime  \\\n",
       "0  monster|dna|tyrannosaurus rex|velociraptor|island      124   \n",
       "1   future|chase|post-apocalyptic|dystopia|australia      120   \n",
       "2  based on novel|revolution|dystopia|sequel|dyst...      119   \n",
       "3              android|spaceship|jedi|space opera|3d      136   \n",
       "4                car race|speed|revenge|suspense|car      137   \n",
       "\n",
       "                                      genres  \\\n",
       "0  Action|Adventure|Science Fiction|Thriller   \n",
       "1  Action|Adventure|Science Fiction|Thriller   \n",
       "2         Adventure|Science Fiction|Thriller   \n",
       "3   Action|Adventure|Science Fiction|Fantasy   \n",
       "4                      Action|Crime|Thriller   \n",
       "\n",
       "                                production_companies  vote_count  \\\n",
       "0  Universal Studios|Amblin Entertainment|Legenda...        5562   \n",
       "1  Village Roadshow Pictures|Kennedy Miller Produ...        6185   \n",
       "2  Summit Entertainment|Mandeville Films|Red Wago...        2480   \n",
       "3          Lucasfilm|Truenorth Productions|Bad Robot        5292   \n",
       "4  Universal Pictures|Original Film|Media Rights ...        2947   \n",
       "\n",
       "   vote_average  release_year    budget_adj   revenue_adj  \n",
       "0           6.5          2015  1.379999e+08  1.392446e+09  \n",
       "1           7.1          2015  1.379999e+08  3.481613e+08  \n",
       "2           6.3          2015  1.012000e+08  2.716190e+08  \n",
       "3           7.5          2015  1.839999e+08  1.902723e+09  \n",
       "4           7.3          2015  1.747999e+08  1.385749e+09  "
      ]
     },
     "execution_count": 125,
     "metadata": {},
     "output_type": "execute_result"
    }
   ],
   "source": [
    "df.head()"
   ]
  },
  {
   "cell_type": "code",
   "execution_count": 126,
   "id": "5040f667",
   "metadata": {},
   "outputs": [
    {
     "data": {
      "text/plain": [
       "0        [Chris Pratt, Bryce Dallas Howard, Irrfan Khan...\n",
       "1        [Tom Hardy, Charlize Theron, Hugh Keays-Byrne,...\n",
       "2        [Shailene Woodley, Theo James, Kate Winslet, A...\n",
       "3        [Harrison Ford, Mark Hamill, Carrie Fisher, Ad...\n",
       "4        [Vin Diesel, Paul Walker, Jason Statham, Miche...\n",
       "                               ...                        \n",
       "10861    [Michael Hynson, Robert August, Lord 'Tally Ho...\n",
       "10862    [James Garner, Eva Marie Saint, Yves Montand, ...\n",
       "10863    [Innokentiy Smoktunovskiy, Oleg Efremov, Georg...\n",
       "10864    [Tatsuya Mihashi, Akiko Wakabayashi, Mie Hama,...\n",
       "10865    [Harold P. Warren, Tom Neyman, John Reynolds, ...\n",
       "Name: cast, Length: 10726, dtype: object"
      ]
     },
     "execution_count": 126,
     "metadata": {},
     "output_type": "execute_result"
    }
   ],
   "source": [
    "performers=df['cast'].str.split('|')\n",
    "performers"
   ]
  },
  {
   "cell_type": "code",
   "execution_count": 127,
   "id": "64edaa53",
   "metadata": {},
   "outputs": [
    {
     "data": {
      "text/plain": [
       "['Chris Pratt',\n",
       " 'Bryce Dallas Howard',\n",
       " 'Irrfan Khan',\n",
       " \"Vincent D'Onofrio\",\n",
       " 'Nick Robinson']"
      ]
     },
     "execution_count": 127,
     "metadata": {},
     "output_type": "execute_result"
    }
   ],
   "source": [
    "performers[0]"
   ]
  },
  {
   "cell_type": "code",
   "execution_count": 128,
   "id": "bfdef11f",
   "metadata": {},
   "outputs": [],
   "source": [
    "#We see list in list in here so we can create a dict for our performers. \n",
    "dict={}\n",
    "for stars in performers:\n",
    "    for i in stars:\n",
    "        if i in dict:\n",
    "            dict[i]+=1\n",
    "        else:\n",
    "            dict[i]=1"
   ]
  },
  {
   "cell_type": "code",
   "execution_count": 129,
   "id": "39b664a4",
   "metadata": {},
   "outputs": [
    {
     "data": {
      "text/plain": [
       "[('Chris Pratt', 10),\n",
       " ('Bryce Dallas Howard', 7),\n",
       " ('Irrfan Khan', 6),\n",
       " (\"Vincent D'Onofrio\", 24),\n",
       " ('Nick Robinson', 5),\n",
       " ('Tom Hardy', 21),\n",
       " ('Charlize Theron', 31),\n",
       " ('Hugh Keays-Byrne', 3),\n",
       " ('Nicholas Hoult', 10),\n",
       " ('Josh Helman', 1)]"
      ]
     },
     "execution_count": 129,
     "metadata": {},
     "output_type": "execute_result"
    }
   ],
   "source": [
    "list(dict.items())[0:10] #We see the first 10 items in our dictionary. "
   ]
  },
  {
   "cell_type": "code",
   "execution_count": 130,
   "id": "9cacba32",
   "metadata": {
    "scrolled": true
   },
   "outputs": [
    {
     "data": {
      "text/plain": [
       "[('Robert De Niro', 72),\n",
       " ('Samuel L. Jackson', 71),\n",
       " ('Bruce Willis', 62),\n",
       " ('Nicolas Cage', 61),\n",
       " ('Michael Caine', 53),\n",
       " ('Robin Williams', 51),\n",
       " ('John Cusack', 50),\n",
       " ('John Goodman', 49),\n",
       " ('Morgan Freeman', 49),\n",
       " ('Liam Neeson', 48)]"
      ]
     },
     "execution_count": 130,
     "metadata": {},
     "output_type": "execute_result"
    }
   ],
   "source": [
    "#To get the most popular 10 we need to sort them \n",
    "performers=sorted(dict.items(),key=lambda x:x[1],reverse=True) #We sort by value in here and reverse flag can be set to request the result in descending order.\n",
    "performers[0:10]"
   ]
  },
  {
   "cell_type": "code",
   "execution_count": 131,
   "id": "65a4af6a",
   "metadata": {},
   "outputs": [],
   "source": [
    "#We can use this as a function like this \n",
    "def get_number(df): #Our original df in here we need to parse\n",
    "    a=df.str.split('|')\n",
    "    dict ={}\n",
    "    for stars in a:\n",
    "        for i in stars:\n",
    "            if i in dict:\n",
    "                dict[i]+=1\n",
    "            else:\n",
    "                dict[i]=1                \n",
    "    return sorted(dict.items(),key=lambda x:x[1],reverse=True)"
   ]
  },
  {
   "cell_type": "code",
   "execution_count": 132,
   "id": "cba4d80a",
   "metadata": {},
   "outputs": [
    {
     "data": {
      "text/plain": [
       "[('Robert De Niro', 72),\n",
       " ('Samuel L. Jackson', 71),\n",
       " ('Bruce Willis', 62),\n",
       " ('Nicolas Cage', 61),\n",
       " ('Michael Caine', 53),\n",
       " ('Robin Williams', 51),\n",
       " ('John Cusack', 50),\n",
       " ('John Goodman', 49),\n",
       " ('Morgan Freeman', 49),\n",
       " ('Liam Neeson', 48)]"
      ]
     },
     "execution_count": 132,
     "metadata": {},
     "output_type": "execute_result"
    }
   ],
   "source": [
    "get_number(df['cast'])[0:10]"
   ]
  },
  {
   "cell_type": "code",
   "execution_count": 133,
   "id": "29786731",
   "metadata": {},
   "outputs": [],
   "source": [
    "x=[] #To define axes of plot\n",
    "y=[]\n",
    "\n",
    "for i in performers[0:10]:\n",
    "    x.append(i[0]),y.append(i[1])"
   ]
  },
  {
   "cell_type": "code",
   "execution_count": 134,
   "id": "f3a055aa",
   "metadata": {
    "scrolled": true
   },
   "outputs": [
    {
     "name": "stdout",
     "output_type": "stream",
     "text": [
      "['Robert De Niro', 'Samuel L. Jackson', 'Bruce Willis', 'Nicolas Cage', 'Michael Caine', 'Robin Williams', 'John Cusack', 'John Goodman', 'Morgan Freeman', 'Liam Neeson'] [72, 71, 62, 61, 53, 51, 50, 49, 49, 48]\n"
     ]
    }
   ],
   "source": [
    "print(x,y)"
   ]
  },
  {
   "cell_type": "code",
   "execution_count": 135,
   "id": "bd55ac8f",
   "metadata": {},
   "outputs": [
    {
     "data": {
      "application/com.datacamp.data-table.v1+json": {
       "is_truncated": false,
       "table": {
        "data": [
         {
          "name": "Robert De Niro",
          "number_of_appearances": 72
         },
         {
          "name": "Samuel L. Jackson",
          "number_of_appearances": 71
         },
         {
          "name": "Bruce Willis",
          "number_of_appearances": 62
         },
         {
          "name": "Nicolas Cage",
          "number_of_appearances": 61
         },
         {
          "name": "Michael Caine",
          "number_of_appearances": 53
         }
        ],
        "schema": {
         "fields": [
          {
           "name": "name",
           "type": "string"
          },
          {
           "name": "number_of_appearances",
           "type": "integer"
          }
         ],
         "pandas_version": "0.20.0",
         "primaryKey": [
          "name"
         ]
        }
       },
       "total_rows": 5
      },
      "text/html": [
       "<div>\n",
       "<style scoped>\n",
       "    .dataframe tbody tr th:only-of-type {\n",
       "        vertical-align: middle;\n",
       "    }\n",
       "\n",
       "    .dataframe tbody tr th {\n",
       "        vertical-align: top;\n",
       "    }\n",
       "\n",
       "    .dataframe thead th {\n",
       "        text-align: right;\n",
       "    }\n",
       "</style>\n",
       "<table border=\"1\" class=\"dataframe\">\n",
       "  <thead>\n",
       "    <tr style=\"text-align: right;\">\n",
       "      <th></th>\n",
       "      <th>number_of_appearances</th>\n",
       "    </tr>\n",
       "    <tr>\n",
       "      <th>name</th>\n",
       "      <th></th>\n",
       "    </tr>\n",
       "  </thead>\n",
       "  <tbody>\n",
       "    <tr>\n",
       "      <th>Robert De Niro</th>\n",
       "      <td>72</td>\n",
       "    </tr>\n",
       "    <tr>\n",
       "      <th>Samuel L. Jackson</th>\n",
       "      <td>71</td>\n",
       "    </tr>\n",
       "    <tr>\n",
       "      <th>Bruce Willis</th>\n",
       "      <td>62</td>\n",
       "    </tr>\n",
       "    <tr>\n",
       "      <th>Nicolas Cage</th>\n",
       "      <td>61</td>\n",
       "    </tr>\n",
       "    <tr>\n",
       "      <th>Michael Caine</th>\n",
       "      <td>53</td>\n",
       "    </tr>\n",
       "  </tbody>\n",
       "</table>\n",
       "</div>"
      ],
      "text/plain": [
       "                   number_of_appearances\n",
       "name                                    \n",
       "Robert De Niro                        72\n",
       "Samuel L. Jackson                     71\n",
       "Bruce Willis                          62\n",
       "Nicolas Cage                          61\n",
       "Michael Caine                         53"
      ]
     },
     "execution_count": 135,
     "metadata": {},
     "output_type": "execute_result"
    }
   ],
   "source": [
    "df_perf=pd.DataFrame(zip(x,y))\n",
    "df_perf.columns=['name','number_of_appearances']\n",
    "df_perf.set_index('name', inplace=True)\n",
    "df_perf.head(5)"
   ]
  },
  {
   "cell_type": "code",
   "execution_count": 136,
   "id": "d6a5785e",
   "metadata": {},
   "outputs": [
    {
     "data": {
      "image/png": "[encoded data removed]",
      "text/plain": [
       "<Figure size 720x504 with 1 Axes>"
      ]
     },
     "metadata": {
      "needs_background": "light"
     },
     "output_type": "display_data"
    }
   ],
   "source": [
    "fig=df_perf.plot(kind='barh',color='pink',figsize=(10,7))\n",
    "plt.xlabel('Name Of Performers')\n",
    "plt.ylabel('Number Of Appearances')\n",
    "\n",
    "for i, v in enumerate(df_perf['number_of_appearances']):\n",
    "    plt.annotate(str(v), xy=(v+0.19, i))\n",
    "plt.title(\"Number Of Performers' Appearances In The Movies\")\n",
    "plt.show()"
   ]
  },
  {
   "cell_type": "markdown",
   "id": "8dc5cef0-3f3a-441e-9555-67316cfd2261",
   "metadata": {},
   "source": [
    "We can infere from this plot that the top 3 performers are Robert De Niro, Samuel L. Jackson and Bruce Willis."
   ]
  },
  {
   "cell_type": "markdown",
   "id": "952bee37",
   "metadata": {},
   "source": [
    "Question 2-Which Genres Are The Most Common In Movies According To Their Top 5 Popularity ? (Top 3)"
   ]
  },
  {
   "cell_type": "code",
   "execution_count": 137,
   "id": "36583c6b",
   "metadata": {
    "scrolled": true
   },
   "outputs": [
    {
     "data": {
      "application/com.datacamp.data-table.v1+json": {
       "is_truncated": false,
       "table": {
        "data": [
         {
          "budget_adj": 137999939.280026,
          "cast": "Chris Pratt|Bryce Dallas Howard|Irrfan Khan|Vincent D'Onofrio|Nick Robinson",
          "director": "Colin Trevorrow",
          "genres": "Action|Adventure|Science Fiction|Thriller",
          "imdb_id": "tt0369610",
          "index": 0,
          "keywords": "monster|dna|tyrannosaurus rex|velociraptor|island",
          "original_title": "Jurassic World",
          "popularity": 32.985763,
          "production_companies": "Universal Studios|Amblin Entertainment|Legendary Pictures|Fuji Television Network|Dentsu",
          "release_year": 2015,
          "revenue_adj": 1392445892.5238,
          "runtime": 124,
          "vote_average": 6.5,
          "vote_count": 5562
         },
         {
          "budget_adj": 137999939.280026,
          "cast": "Tom Hardy|Charlize Theron|Hugh Keays-Byrne|Nicholas Hoult|Josh Helman",
          "director": "George Miller",
          "genres": "Action|Adventure|Science Fiction|Thriller",
          "imdb_id": "tt1392190",
          "index": 1,
          "keywords": "future|chase|post-apocalyptic|dystopia|australia",
          "original_title": "Mad Max: Fury Road",
          "popularity": 28.419936,
          "production_companies": "Village Roadshow Pictures|Kennedy Miller Productions",
          "release_year": 2015,
          "revenue_adj": 348161292.489031,
          "runtime": 120,
          "vote_average": 7.1,
          "vote_count": 6185
         },
         {
          "budget_adj": 101199955.472019,
          "cast": "Shailene Woodley|Theo James|Kate Winslet|Ansel Elgort|Miles Teller",
          "director": "Robert Schwentke",
          "genres": "Adventure|Science Fiction|Thriller",
          "imdb_id": "tt2908446",
          "index": 2,
          "keywords": "based on novel|revolution|dystopia|sequel|dystopic future",
          "original_title": "Insurgent",
          "popularity": 13.112507,
          "production_companies": "Summit Entertainment|Mandeville Films|Red Wagon Entertainment|NeoReel",
          "release_year": 2015,
          "revenue_adj": 271619025.407628,
          "runtime": 119,
          "vote_average": 6.3,
          "vote_count": 2480
         },
         {
          "budget_adj": 183999919.040035,
          "cast": "Harrison Ford|Mark Hamill|Carrie Fisher|Adam Driver|Daisy Ridley",
          "director": "J.J. Abrams",
          "genres": "Action|Adventure|Science Fiction|Fantasy",
          "imdb_id": "tt2488496",
          "index": 3,
          "keywords": "android|spaceship|jedi|space opera|3d",
          "original_title": "Star Wars: The Force Awakens",
          "popularity": 11.173104,
          "production_companies": "Lucasfilm|Truenorth Productions|Bad Robot",
          "release_year": 2015,
          "revenue_adj": 1902723129.80182,
          "runtime": 136,
          "vote_average": 7.5,
          "vote_count": 5292
         },
         {
          "budget_adj": 174799923.088033,
          "cast": "Vin Diesel|Paul Walker|Jason Statham|Michelle Rodriguez|Dwayne Johnson",
          "director": "James Wan",
          "genres": "Action|Crime|Thriller",
          "imdb_id": "tt2820852",
          "index": 4,
          "keywords": "car race|speed|revenge|suspense|car",
          "original_title": "Furious 7",
          "popularity": 9.335014,
          "production_companies": "Universal Pictures|Original Film|Media Rights Capital|Dentsu|One Race Films",
          "release_year": 2015,
          "revenue_adj": 1385748801.47052,
          "runtime": 137,
          "vote_average": 7.3,
          "vote_count": 2947
         }
        ],
        "schema": {
         "fields": [
          {
           "name": "index",
           "type": "integer"
          },
          {
           "name": "imdb_id",
           "type": "string"
          },
          {
           "name": "popularity",
           "type": "number"
          },
          {
           "name": "original_title",
           "type": "string"
          },
          {
           "name": "cast",
           "type": "string"
          },
          {
           "name": "director",
           "type": "string"
          },
          {
           "name": "keywords",
           "type": "string"
          },
          {
           "name": "runtime",
           "type": "integer"
          },
          {
           "name": "genres",
           "type": "string"
          },
          {
           "name": "production_companies",
           "type": "string"
          },
          {
           "name": "vote_count",
           "type": "integer"
          },
          {
           "name": "vote_average",
           "type": "number"
          },
          {
           "name": "release_year",
           "type": "integer"
          },
          {
           "name": "budget_adj",
           "type": "number"
          },
          {
           "name": "revenue_adj",
           "type": "number"
          }
         ],
         "pandas_version": "0.20.0",
         "primaryKey": [
          "index"
         ]
        }
       },
       "total_rows": 5
      },
      "text/html": [
       "<div>\n",
       "<style scoped>\n",
       "    .dataframe tbody tr th:only-of-type {\n",
       "        vertical-align: middle;\n",
       "    }\n",
       "\n",
       "    .dataframe tbody tr th {\n",
       "        vertical-align: top;\n",
       "    }\n",
       "\n",
       "    .dataframe thead th {\n",
       "        text-align: right;\n",
       "    }\n",
       "</style>\n",
       "<table border=\"1\" class=\"dataframe\">\n",
       "  <thead>\n",
       "    <tr style=\"text-align: right;\">\n",
       "      <th></th>\n",
       "      <th>imdb_id</th>\n",
       "      <th>popularity</th>\n",
       "      <th>original_title</th>\n",
       "      <th>cast</th>\n",
       "      <th>director</th>\n",
       "      <th>keywords</th>\n",
       "      <th>runtime</th>\n",
       "      <th>genres</th>\n",
       "      <th>production_companies</th>\n",
       "      <th>vote_count</th>\n",
       "      <th>vote_average</th>\n",
       "      <th>release_year</th>\n",
       "      <th>budget_adj</th>\n",
       "      <th>revenue_adj</th>\n",
       "    </tr>\n",
       "  </thead>\n",
       "  <tbody>\n",
       "    <tr>\n",
       "      <th>0</th>\n",
       "      <td>tt0369610</td>\n",
       "      <td>32.985763</td>\n",
       "      <td>Jurassic World</td>\n",
       "      <td>Chris Pratt|Bryce Dallas Howard|Irrfan Khan|Vi...</td>\n",
       "      <td>Colin Trevorrow</td>\n",
       "      <td>monster|dna|tyrannosaurus rex|velociraptor|island</td>\n",
       "      <td>124</td>\n",
       "      <td>Action|Adventure|Science Fiction|Thriller</td>\n",
       "      <td>Universal Studios|Amblin Entertainment|Legenda...</td>\n",
       "      <td>5562</td>\n",
       "      <td>6.5</td>\n",
       "      <td>2015</td>\n",
       "      <td>1.379999e+08</td>\n",
       "      <td>1.392446e+09</td>\n",
       "    </tr>\n",
       "    <tr>\n",
       "      <th>1</th>\n",
       "      <td>tt1392190</td>\n",
       "      <td>28.419936</td>\n",
       "      <td>Mad Max: Fury Road</td>\n",
       "      <td>Tom Hardy|Charlize Theron|Hugh Keays-Byrne|Nic...</td>\n",
       "      <td>George Miller</td>\n",
       "      <td>future|chase|post-apocalyptic|dystopia|australia</td>\n",
       "      <td>120</td>\n",
       "      <td>Action|Adventure|Science Fiction|Thriller</td>\n",
       "      <td>Village Roadshow Pictures|Kennedy Miller Produ...</td>\n",
       "      <td>6185</td>\n",
       "      <td>7.1</td>\n",
       "      <td>2015</td>\n",
       "      <td>1.379999e+08</td>\n",
       "      <td>3.481613e+08</td>\n",
       "    </tr>\n",
       "    <tr>\n",
       "      <th>2</th>\n",
       "      <td>tt2908446</td>\n",
       "      <td>13.112507</td>\n",
       "      <td>Insurgent</td>\n",
       "      <td>Shailene Woodley|Theo James|Kate Winslet|Ansel...</td>\n",
       "      <td>Robert Schwentke</td>\n",
       "      <td>based on novel|revolution|dystopia|sequel|dyst...</td>\n",
       "      <td>119</td>\n",
       "      <td>Adventure|Science Fiction|Thriller</td>\n",
       "      <td>Summit Entertainment|Mandeville Films|Red Wago...</td>\n",
       "      <td>2480</td>\n",
       "      <td>6.3</td>\n",
       "      <td>2015</td>\n",
       "      <td>1.012000e+08</td>\n",
       "      <td>2.716190e+08</td>\n",
       "    </tr>\n",
       "    <tr>\n",
       "      <th>3</th>\n",
       "      <td>tt2488496</td>\n",
       "      <td>11.173104</td>\n",
       "      <td>Star Wars: The Force Awakens</td>\n",
       "      <td>Harrison Ford|Mark Hamill|Carrie Fisher|Adam D...</td>\n",
       "      <td>J.J. Abrams</td>\n",
       "      <td>android|spaceship|jedi|space opera|3d</td>\n",
       "      <td>136</td>\n",
       "      <td>Action|Adventure|Science Fiction|Fantasy</td>\n",
       "      <td>Lucasfilm|Truenorth Productions|Bad Robot</td>\n",
       "      <td>5292</td>\n",
       "      <td>7.5</td>\n",
       "      <td>2015</td>\n",
       "      <td>1.839999e+08</td>\n",
       "      <td>1.902723e+09</td>\n",
       "    </tr>\n",
       "    <tr>\n",
       "      <th>4</th>\n",
       "      <td>tt2820852</td>\n",
       "      <td>9.335014</td>\n",
       "      <td>Furious 7</td>\n",
       "      <td>Vin Diesel|Paul Walker|Jason Statham|Michelle ...</td>\n",
       "      <td>James Wan</td>\n",
       "      <td>car race|speed|revenge|suspense|car</td>\n",
       "      <td>137</td>\n",
       "      <td>Action|Crime|Thriller</td>\n",
       "      <td>Universal Pictures|Original Film|Media Rights ...</td>\n",
       "      <td>2947</td>\n",
       "      <td>7.3</td>\n",
       "      <td>2015</td>\n",
       "      <td>1.747999e+08</td>\n",
       "      <td>1.385749e+09</td>\n",
       "    </tr>\n",
       "  </tbody>\n",
       "</table>\n",
       "</div>"
      ],
      "text/plain": [
       "     imdb_id  popularity                original_title  \\\n",
       "0  tt0369610   32.985763                Jurassic World   \n",
       "1  tt1392190   28.419936            Mad Max: Fury Road   \n",
       "2  tt2908446   13.112507                     Insurgent   \n",
       "3  tt2488496   11.173104  Star Wars: The Force Awakens   \n",
       "4  tt2820852    9.335014                     Furious 7   \n",
       "\n",
       "                                                cast          director  \\\n",
       "0  Chris Pratt|Bryce Dallas Howard|Irrfan Khan|Vi...   Colin Trevorrow   \n",
       "1  Tom Hardy|Charlize Theron|Hugh Keays-Byrne|Nic...     George Miller   \n",
       "2  Shailene Woodley|Theo James|Kate Winslet|Ansel...  Robert Schwentke   \n",
       "3  Harrison Ford|Mark Hamill|Carrie Fisher|Adam D...       J.J. Abrams   \n",
       "4  Vin Diesel|Paul Walker|Jason Statham|Michelle ...         James Wan   \n",
       "\n",
       "                                            keywords  runtime  \\\n",
       "0  monster|dna|tyrannosaurus rex|velociraptor|island      124   \n",
       "1   future|chase|post-apocalyptic|dystopia|australia      120   \n",
       "2  based on novel|revolution|dystopia|sequel|dyst...      119   \n",
       "3              android|spaceship|jedi|space opera|3d      136   \n",
       "4                car race|speed|revenge|suspense|car      137   \n",
       "\n",
       "                                      genres  \\\n",
       "0  Action|Adventure|Science Fiction|Thriller   \n",
       "1  Action|Adventure|Science Fiction|Thriller   \n",
       "2         Adventure|Science Fiction|Thriller   \n",
       "3   Action|Adventure|Science Fiction|Fantasy   \n",
       "4                      Action|Crime|Thriller   \n",
       "\n",
       "                                production_companies  vote_count  \\\n",
       "0  Universal Studios|Amblin Entertainment|Legenda...        5562   \n",
       "1  Village Roadshow Pictures|Kennedy Miller Produ...        6185   \n",
       "2  Summit Entertainment|Mandeville Films|Red Wago...        2480   \n",
       "3          Lucasfilm|Truenorth Productions|Bad Robot        5292   \n",
       "4  Universal Pictures|Original Film|Media Rights ...        2947   \n",
       "\n",
       "   vote_average  release_year    budget_adj   revenue_adj  \n",
       "0           6.5          2015  1.379999e+08  1.392446e+09  \n",
       "1           7.1          2015  1.379999e+08  3.481613e+08  \n",
       "2           6.3          2015  1.012000e+08  2.716190e+08  \n",
       "3           7.5          2015  1.839999e+08  1.902723e+09  \n",
       "4           7.3          2015  1.747999e+08  1.385749e+09  "
      ]
     },
     "execution_count": 137,
     "metadata": {},
     "output_type": "execute_result"
    }
   ],
   "source": [
    "df.head()"
   ]
  },
  {
   "cell_type": "code",
   "execution_count": 138,
   "id": "62a52e84",
   "metadata": {
    "scrolled": true
   },
   "outputs": [
    {
     "data": {
      "application/com.datacamp.data-table.v1+json": {
       "is_truncated": false,
       "table": {
        "data": [
         {
          "budget_adj": 137999939.280026,
          "cast": "Chris Pratt|Bryce Dallas Howard|Irrfan Khan|Vincent D'Onofrio|Nick Robinson",
          "director": "Colin Trevorrow",
          "genres": "Action|Adventure|Science Fiction|Thriller",
          "imdb_id": "tt0369610",
          "index": 0,
          "keywords": "monster|dna|tyrannosaurus rex|velociraptor|island",
          "original_title": "Jurassic World",
          "popularity": 32.985763,
          "production_companies": "Universal Studios|Amblin Entertainment|Legendary Pictures|Fuji Television Network|Dentsu",
          "release_year": 2015,
          "revenue_adj": 1392445892.5238,
          "runtime": 124,
          "vote_average": 6.5,
          "vote_count": 5562
         },
         {
          "budget_adj": 137999939.280026,
          "cast": "Tom Hardy|Charlize Theron|Hugh Keays-Byrne|Nicholas Hoult|Josh Helman",
          "director": "George Miller",
          "genres": "Action|Adventure|Science Fiction|Thriller",
          "imdb_id": "tt1392190",
          "index": 1,
          "keywords": "future|chase|post-apocalyptic|dystopia|australia",
          "original_title": "Mad Max: Fury Road",
          "popularity": 28.419936,
          "production_companies": "Village Roadshow Pictures|Kennedy Miller Productions",
          "release_year": 2015,
          "revenue_adj": 348161292.489031,
          "runtime": 120,
          "vote_average": 7.1,
          "vote_count": 6185
         },
         {
          "budget_adj": 151980023.37729,
          "cast": "Matthew McConaughey|Jessica Chastain|Anne Hathaway|Michael Caine|Casey Affleck",
          "director": "Christopher Nolan",
          "genres": "Adventure|Drama|Science Fiction",
          "imdb_id": "tt0816692",
          "index": 629,
          "keywords": "saving the world|artificial intelligence|father-son relationship|single parent|nasa",
          "original_title": "Interstellar",
          "popularity": 24.949134,
          "production_companies": "Paramount Pictures|Legendary Pictures|Warner Bros.|Syncopy|Lynda Obst Productions",
          "release_year": 2014,
          "revenue_adj": 572690645.122961,
          "runtime": 169,
          "vote_average": 8,
          "vote_count": 6498
         },
         {
          "budget_adj": 156585478.631148,
          "cast": "Chris Pratt|Zoe Saldana|Dave Bautista|Vin Diesel|Bradley Cooper",
          "director": "James Gunn",
          "genres": "Action|Science Fiction|Adventure",
          "imdb_id": "tt2015381",
          "index": 630,
          "keywords": "marvel comic|spaceship|space|scene during end credits|outer space",
          "original_title": "Guardians of the Galaxy",
          "popularity": 14.311205,
          "production_companies": "Marvel Studios|Moving Picture Company (MPC)|Bulletproof Cupid|Revolution Sun Studios",
          "release_year": 2014,
          "revenue_adj": 712291130.169508,
          "runtime": 121,
          "vote_average": 7.9,
          "vote_count": 5612
         },
         {
          "budget_adj": 101199955.472019,
          "cast": "Shailene Woodley|Theo James|Kate Winslet|Ansel Elgort|Miles Teller",
          "director": "Robert Schwentke",
          "genres": "Adventure|Science Fiction|Thriller",
          "imdb_id": "tt2908446",
          "index": 2,
          "keywords": "based on novel|revolution|dystopia|sequel|dystopic future",
          "original_title": "Insurgent",
          "popularity": 13.112507,
          "production_companies": "Summit Entertainment|Mandeville Films|Red Wagon Entertainment|NeoReel",
          "release_year": 2015,
          "revenue_adj": 271619025.407628,
          "runtime": 119,
          "vote_average": 6.3,
          "vote_count": 2480
         }
        ],
        "schema": {
         "fields": [
          {
           "name": "index",
           "type": "integer"
          },
          {
           "name": "imdb_id",
           "type": "string"
          },
          {
           "name": "popularity",
           "type": "number"
          },
          {
           "name": "original_title",
           "type": "string"
          },
          {
           "name": "cast",
           "type": "string"
          },
          {
           "name": "director",
           "type": "string"
          },
          {
           "name": "keywords",
           "type": "string"
          },
          {
           "name": "runtime",
           "type": "integer"
          },
          {
           "name": "genres",
           "type": "string"
          },
          {
           "name": "production_companies",
           "type": "string"
          },
          {
           "name": "vote_count",
           "type": "integer"
          },
          {
           "name": "vote_average",
           "type": "number"
          },
          {
           "name": "release_year",
           "type": "integer"
          },
          {
           "name": "budget_adj",
           "type": "number"
          },
          {
           "name": "revenue_adj",
           "type": "number"
          }
         ],
         "pandas_version": "0.20.0",
         "primaryKey": [
          "index"
         ]
        }
       },
       "total_rows": 5
      },
      "text/html": [
       "<div>\n",
       "<style scoped>\n",
       "    .dataframe tbody tr th:only-of-type {\n",
       "        vertical-align: middle;\n",
       "    }\n",
       "\n",
       "    .dataframe tbody tr th {\n",
       "        vertical-align: top;\n",
       "    }\n",
       "\n",
       "    .dataframe thead th {\n",
       "        text-align: right;\n",
       "    }\n",
       "</style>\n",
       "<table border=\"1\" class=\"dataframe\">\n",
       "  <thead>\n",
       "    <tr style=\"text-align: right;\">\n",
       "      <th></th>\n",
       "      <th>imdb_id</th>\n",
       "      <th>popularity</th>\n",
       "      <th>original_title</th>\n",
       "      <th>cast</th>\n",
       "      <th>director</th>\n",
       "      <th>keywords</th>\n",
       "      <th>runtime</th>\n",
       "      <th>genres</th>\n",
       "      <th>production_companies</th>\n",
       "      <th>vote_count</th>\n",
       "      <th>vote_average</th>\n",
       "      <th>release_year</th>\n",
       "      <th>budget_adj</th>\n",
       "      <th>revenue_adj</th>\n",
       "    </tr>\n",
       "  </thead>\n",
       "  <tbody>\n",
       "    <tr>\n",
       "      <th>0</th>\n",
       "      <td>tt0369610</td>\n",
       "      <td>32.985763</td>\n",
       "      <td>Jurassic World</td>\n",
       "      <td>Chris Pratt|Bryce Dallas Howard|Irrfan Khan|Vi...</td>\n",
       "      <td>Colin Trevorrow</td>\n",
       "      <td>monster|dna|tyrannosaurus rex|velociraptor|island</td>\n",
       "      <td>124</td>\n",
       "      <td>Action|Adventure|Science Fiction|Thriller</td>\n",
       "      <td>Universal Studios|Amblin Entertainment|Legenda...</td>\n",
       "      <td>5562</td>\n",
       "      <td>6.5</td>\n",
       "      <td>2015</td>\n",
       "      <td>1.379999e+08</td>\n",
       "      <td>1.392446e+09</td>\n",
       "    </tr>\n",
       "    <tr>\n",
       "      <th>1</th>\n",
       "      <td>tt1392190</td>\n",
       "      <td>28.419936</td>\n",
       "      <td>Mad Max: Fury Road</td>\n",
       "      <td>Tom Hardy|Charlize Theron|Hugh Keays-Byrne|Nic...</td>\n",
       "      <td>George Miller</td>\n",
       "      <td>future|chase|post-apocalyptic|dystopia|australia</td>\n",
       "      <td>120</td>\n",
       "      <td>Action|Adventure|Science Fiction|Thriller</td>\n",
       "      <td>Village Roadshow Pictures|Kennedy Miller Produ...</td>\n",
       "      <td>6185</td>\n",
       "      <td>7.1</td>\n",
       "      <td>2015</td>\n",
       "      <td>1.379999e+08</td>\n",
       "      <td>3.481613e+08</td>\n",
       "    </tr>\n",
       "    <tr>\n",
       "      <th>629</th>\n",
       "      <td>tt0816692</td>\n",
       "      <td>24.949134</td>\n",
       "      <td>Interstellar</td>\n",
       "      <td>Matthew McConaughey|Jessica Chastain|Anne Hath...</td>\n",
       "      <td>Christopher Nolan</td>\n",
       "      <td>saving the world|artificial intelligence|fathe...</td>\n",
       "      <td>169</td>\n",
       "      <td>Adventure|Drama|Science Fiction</td>\n",
       "      <td>Paramount Pictures|Legendary Pictures|Warner B...</td>\n",
       "      <td>6498</td>\n",
       "      <td>8.0</td>\n",
       "      <td>2014</td>\n",
       "      <td>1.519800e+08</td>\n",
       "      <td>5.726906e+08</td>\n",
       "    </tr>\n",
       "    <tr>\n",
       "      <th>630</th>\n",
       "      <td>tt2015381</td>\n",
       "      <td>14.311205</td>\n",
       "      <td>Guardians of the Galaxy</td>\n",
       "      <td>Chris Pratt|Zoe Saldana|Dave Bautista|Vin Dies...</td>\n",
       "      <td>James Gunn</td>\n",
       "      <td>marvel comic|spaceship|space|scene during end ...</td>\n",
       "      <td>121</td>\n",
       "      <td>Action|Science Fiction|Adventure</td>\n",
       "      <td>Marvel Studios|Moving Picture Company (MPC)|Bu...</td>\n",
       "      <td>5612</td>\n",
       "      <td>7.9</td>\n",
       "      <td>2014</td>\n",
       "      <td>1.565855e+08</td>\n",
       "      <td>7.122911e+08</td>\n",
       "    </tr>\n",
       "    <tr>\n",
       "      <th>2</th>\n",
       "      <td>tt2908446</td>\n",
       "      <td>13.112507</td>\n",
       "      <td>Insurgent</td>\n",
       "      <td>Shailene Woodley|Theo James|Kate Winslet|Ansel...</td>\n",
       "      <td>Robert Schwentke</td>\n",
       "      <td>based on novel|revolution|dystopia|sequel|dyst...</td>\n",
       "      <td>119</td>\n",
       "      <td>Adventure|Science Fiction|Thriller</td>\n",
       "      <td>Summit Entertainment|Mandeville Films|Red Wago...</td>\n",
       "      <td>2480</td>\n",
       "      <td>6.3</td>\n",
       "      <td>2015</td>\n",
       "      <td>1.012000e+08</td>\n",
       "      <td>2.716190e+08</td>\n",
       "    </tr>\n",
       "  </tbody>\n",
       "</table>\n",
       "</div>"
      ],
      "text/plain": [
       "       imdb_id  popularity           original_title  \\\n",
       "0    tt0369610   32.985763           Jurassic World   \n",
       "1    tt1392190   28.419936       Mad Max: Fury Road   \n",
       "629  tt0816692   24.949134             Interstellar   \n",
       "630  tt2015381   14.311205  Guardians of the Galaxy   \n",
       "2    tt2908446   13.112507                Insurgent   \n",
       "\n",
       "                                                  cast           director  \\\n",
       "0    Chris Pratt|Bryce Dallas Howard|Irrfan Khan|Vi...    Colin Trevorrow   \n",
       "1    Tom Hardy|Charlize Theron|Hugh Keays-Byrne|Nic...      George Miller   \n",
       "629  Matthew McConaughey|Jessica Chastain|Anne Hath...  Christopher Nolan   \n",
       "630  Chris Pratt|Zoe Saldana|Dave Bautista|Vin Dies...         James Gunn   \n",
       "2    Shailene Woodley|Theo James|Kate Winslet|Ansel...   Robert Schwentke   \n",
       "\n",
       "                                              keywords  runtime  \\\n",
       "0    monster|dna|tyrannosaurus rex|velociraptor|island      124   \n",
       "1     future|chase|post-apocalyptic|dystopia|australia      120   \n",
       "629  saving the world|artificial intelligence|fathe...      169   \n",
       "630  marvel comic|spaceship|space|scene during end ...      121   \n",
       "2    based on novel|revolution|dystopia|sequel|dyst...      119   \n",
       "\n",
       "                                        genres  \\\n",
       "0    Action|Adventure|Science Fiction|Thriller   \n",
       "1    Action|Adventure|Science Fiction|Thriller   \n",
       "629            Adventure|Drama|Science Fiction   \n",
       "630           Action|Science Fiction|Adventure   \n",
       "2           Adventure|Science Fiction|Thriller   \n",
       "\n",
       "                                  production_companies  vote_count  \\\n",
       "0    Universal Studios|Amblin Entertainment|Legenda...        5562   \n",
       "1    Village Roadshow Pictures|Kennedy Miller Produ...        6185   \n",
       "629  Paramount Pictures|Legendary Pictures|Warner B...        6498   \n",
       "630  Marvel Studios|Moving Picture Company (MPC)|Bu...        5612   \n",
       "2    Summit Entertainment|Mandeville Films|Red Wago...        2480   \n",
       "\n",
       "     vote_average  release_year    budget_adj   revenue_adj  \n",
       "0             6.5          2015  1.379999e+08  1.392446e+09  \n",
       "1             7.1          2015  1.379999e+08  3.481613e+08  \n",
       "629           8.0          2014  1.519800e+08  5.726906e+08  \n",
       "630           7.9          2014  1.565855e+08  7.122911e+08  \n",
       "2             6.3          2015  1.012000e+08  2.716190e+08  "
      ]
     },
     "execution_count": 138,
     "metadata": {},
     "output_type": "execute_result"
    }
   ],
   "source": [
    "df_popularity=df.sort_values(by='popularity',ascending=False) #In here we got the top 5 movies based on their popularity. Now we will check their genres. \n",
    "df_popularity.head()"
   ]
  },
  {
   "cell_type": "code",
   "execution_count": 139,
   "id": "38698089",
   "metadata": {},
   "outputs": [
    {
     "data": {
      "text/plain": [
       "[('Adventure', 5), ('Science Fiction', 5), ('Action', 3)]"
      ]
     },
     "execution_count": 139,
     "metadata": {},
     "output_type": "execute_result"
    }
   ],
   "source": [
    "get_number(df_popularity.head(5)['genres'])[0:3] #We use our function we created above \"get_number\" and we can see in here the top 3 genres are Adventure, Science Fiction and Action. "
   ]
  },
  {
   "cell_type": "markdown",
   "id": "5419b55c",
   "metadata": {},
   "source": [
    "Question 3-What Is The Correlation Between Vote Average And Net Income Of The Movies ? Is It A Strong Relationship or Not ?"
   ]
  },
  {
   "cell_type": "code",
   "execution_count": 140,
   "id": "e510eabf",
   "metadata": {},
   "outputs": [],
   "source": [
    "df['net_income']=df['revenue_adj']-df['budget_adj'] #First we need to calculate the \"net_income\" in here."
   ]
  },
  {
   "cell_type": "code",
   "execution_count": 141,
   "id": "dfbfbd9d",
   "metadata": {},
   "outputs": [
    {
     "data": {
      "application/com.datacamp.data-table.v1+json": {
       "is_truncated": false,
       "table": {
        "data": [
         {
          "index": "net_income",
          "net_income": 1,
          "vote_average": 0.2031382223
         },
         {
          "index": "vote_average",
          "net_income": 0.2031382223,
          "vote_average": 1
         }
        ],
        "schema": {
         "fields": [
          {
           "name": "index",
           "type": "string"
          },
          {
           "name": "net_income",
           "type": "number"
          },
          {
           "name": "vote_average",
           "type": "number"
          }
         ],
         "pandas_version": "0.20.0",
         "primaryKey": [
          "index"
         ]
        }
       },
       "total_rows": 2
      },
      "text/html": [
       "<div>\n",
       "<style scoped>\n",
       "    .dataframe tbody tr th:only-of-type {\n",
       "        vertical-align: middle;\n",
       "    }\n",
       "\n",
       "    .dataframe tbody tr th {\n",
       "        vertical-align: top;\n",
       "    }\n",
       "\n",
       "    .dataframe thead th {\n",
       "        text-align: right;\n",
       "    }\n",
       "</style>\n",
       "<table border=\"1\" class=\"dataframe\">\n",
       "  <thead>\n",
       "    <tr style=\"text-align: right;\">\n",
       "      <th></th>\n",
       "      <th>net_income</th>\n",
       "      <th>vote_average</th>\n",
       "    </tr>\n",
       "  </thead>\n",
       "  <tbody>\n",
       "    <tr>\n",
       "      <th>net_income</th>\n",
       "      <td>1.000000</td>\n",
       "      <td>0.203138</td>\n",
       "    </tr>\n",
       "    <tr>\n",
       "      <th>vote_average</th>\n",
       "      <td>0.203138</td>\n",
       "      <td>1.000000</td>\n",
       "    </tr>\n",
       "  </tbody>\n",
       "</table>\n",
       "</div>"
      ],
      "text/plain": [
       "              net_income  vote_average\n",
       "net_income      1.000000      0.203138\n",
       "vote_average    0.203138      1.000000"
      ]
     },
     "execution_count": 141,
     "metadata": {},
     "output_type": "execute_result"
    }
   ],
   "source": [
    "df_corr=df[['net_income','vote_average']].corr(method='pearson')\n",
    "df_corr"
   ]
  },
  {
   "cell_type": "code",
   "execution_count": 142,
   "id": "9a8372bc",
   "metadata": {
    "scrolled": true
   },
   "outputs": [
    {
     "data": {
      "text/plain": [
       "<AxesSubplot:>"
      ]
     },
     "execution_count": 142,
     "metadata": {},
     "output_type": "execute_result"
    },
    {
     "data": {
      "image/png": "[encoded data removed]",
      "text/plain": [
       "<Figure size 432x288 with 2 Axes>"
      ]
     },
     "metadata": {
      "needs_background": "light"
     },
     "output_type": "display_data"
    }
   ],
   "source": [
    "#We can see the correlation between vote_average and net_income clearly in here\n",
    "sns.heatmap(df_corr,xticklabels=df_corr.columns,yticklabels=df_corr.columns,cmap='RdBu_r',annot=True, linewidth=0.63)"
   ]
  },
  {
   "cell_type": "markdown",
   "id": "d5860a5f",
   "metadata": {},
   "source": [
    "In this heatmap, we see that the correlation between the vote_average and net_income that they are not statistically significant. We can see that the linear relationship is not very strong too with the correlation coefficient value. (~0.2). Plus, if we would like to deep more we may check our p-value in here as well or maybe we may use a residual plot to see more insights about the relationship about the vote_average and net_income of this dataset."
   ]
  },
  {
   "cell_type": "markdown",
   "id": "f79ffd49",
   "metadata": {},
   "source": [
    "Question 4 -Which Director's Movie Are The Most Voted In This Dataset ? "
   ]
  },
  {
   "cell_type": "code",
   "execution_count": 143,
   "id": "f928ceff",
   "metadata": {},
   "outputs": [
    {
     "data": {
      "application/com.datacamp.data-table.v1+json": {
       "is_truncated": false,
       "table": {
        "data": [
         {
          "budget_adj": 137999939.280026,
          "cast": "Chris Pratt|Bryce Dallas Howard|Irrfan Khan|Vincent D'Onofrio|Nick Robinson",
          "director": "Colin Trevorrow",
          "genres": "Action|Adventure|Science Fiction|Thriller",
          "imdb_id": "tt0369610",
          "index": 0,
          "keywords": "monster|dna|tyrannosaurus rex|velociraptor|island",
          "net_income": 1254445953.243774,
          "original_title": "Jurassic World",
          "popularity": 32.985763,
          "production_companies": "Universal Studios|Amblin Entertainment|Legendary Pictures|Fuji Television Network|Dentsu",
          "release_year": 2015,
          "revenue_adj": 1392445892.5238,
          "runtime": 124,
          "vote_average": 6.5,
          "vote_count": 5562
         },
         {
          "budget_adj": 137999939.280026,
          "cast": "Tom Hardy|Charlize Theron|Hugh Keays-Byrne|Nicholas Hoult|Josh Helman",
          "director": "George Miller",
          "genres": "Action|Adventure|Science Fiction|Thriller",
          "imdb_id": "tt1392190",
          "index": 1,
          "keywords": "future|chase|post-apocalyptic|dystopia|australia",
          "net_income": 210161353.20900503,
          "original_title": "Mad Max: Fury Road",
          "popularity": 28.419936,
          "production_companies": "Village Roadshow Pictures|Kennedy Miller Productions",
          "release_year": 2015,
          "revenue_adj": 348161292.489031,
          "runtime": 120,
          "vote_average": 7.1,
          "vote_count": 6185
         },
         {
          "budget_adj": 101199955.472019,
          "cast": "Shailene Woodley|Theo James|Kate Winslet|Ansel Elgort|Miles Teller",
          "director": "Robert Schwentke",
          "genres": "Adventure|Science Fiction|Thriller",
          "imdb_id": "tt2908446",
          "index": 2,
          "keywords": "based on novel|revolution|dystopia|sequel|dystopic future",
          "net_income": 170419069.93560898,
          "original_title": "Insurgent",
          "popularity": 13.112507,
          "production_companies": "Summit Entertainment|Mandeville Films|Red Wagon Entertainment|NeoReel",
          "release_year": 2015,
          "revenue_adj": 271619025.407628,
          "runtime": 119,
          "vote_average": 6.3,
          "vote_count": 2480
         },
         {
          "budget_adj": 183999919.040035,
          "cast": "Harrison Ford|Mark Hamill|Carrie Fisher|Adam Driver|Daisy Ridley",
          "director": "J.J. Abrams",
          "genres": "Action|Adventure|Science Fiction|Fantasy",
          "imdb_id": "tt2488496",
          "index": 3,
          "keywords": "android|spaceship|jedi|space opera|3d",
          "net_income": 1718723210.761785,
          "original_title": "Star Wars: The Force Awakens",
          "popularity": 11.173104,
          "production_companies": "Lucasfilm|Truenorth Productions|Bad Robot",
          "release_year": 2015,
          "revenue_adj": 1902723129.80182,
          "runtime": 136,
          "vote_average": 7.5,
          "vote_count": 5292
         },
         {
          "budget_adj": 174799923.088033,
          "cast": "Vin Diesel|Paul Walker|Jason Statham|Michelle Rodriguez|Dwayne Johnson",
          "director": "James Wan",
          "genres": "Action|Crime|Thriller",
          "imdb_id": "tt2820852",
          "index": 4,
          "keywords": "car race|speed|revenge|suspense|car",
          "net_income": 1210948878.382487,
          "original_title": "Furious 7",
          "popularity": 9.335014,
          "production_companies": "Universal Pictures|Original Film|Media Rights Capital|Dentsu|One Race Films",
          "release_year": 2015,
          "revenue_adj": 1385748801.47052,
          "runtime": 137,
          "vote_average": 7.3,
          "vote_count": 2947
         }
        ],
        "schema": {
         "fields": [
          {
           "name": "index",
           "type": "integer"
          },
          {
           "name": "imdb_id",
           "type": "string"
          },
          {
           "name": "popularity",
           "type": "number"
          },
          {
           "name": "original_title",
           "type": "string"
          },
          {
           "name": "cast",
           "type": "string"
          },
          {
           "name": "director",
           "type": "string"
          },
          {
           "name": "keywords",
           "type": "string"
          },
          {
           "name": "runtime",
           "type": "integer"
          },
          {
           "name": "genres",
           "type": "string"
          },
          {
           "name": "production_companies",
           "type": "string"
          },
          {
           "name": "vote_count",
           "type": "integer"
          },
          {
           "name": "vote_average",
           "type": "number"
          },
          {
           "name": "release_year",
           "type": "integer"
          },
          {
           "name": "budget_adj",
           "type": "number"
          },
          {
           "name": "revenue_adj",
           "type": "number"
          },
          {
           "name": "net_income",
           "type": "number"
          }
         ],
         "pandas_version": "0.20.0",
         "primaryKey": [
          "index"
         ]
        }
       },
       "total_rows": 5
      },
      "text/html": [
       "<div>\n",
       "<style scoped>\n",
       "    .dataframe tbody tr th:only-of-type {\n",
       "        vertical-align: middle;\n",
       "    }\n",
       "\n",
       "    .dataframe tbody tr th {\n",
       "        vertical-align: top;\n",
       "    }\n",
       "\n",
       "    .dataframe thead th {\n",
       "        text-align: right;\n",
       "    }\n",
       "</style>\n",
       "<table border=\"1\" class=\"dataframe\">\n",
       "  <thead>\n",
       "    <tr style=\"text-align: right;\">\n",
       "      <th></th>\n",
       "      <th>imdb_id</th>\n",
       "      <th>popularity</th>\n",
       "      <th>original_title</th>\n",
       "      <th>cast</th>\n",
       "      <th>director</th>\n",
       "      <th>keywords</th>\n",
       "      <th>runtime</th>\n",
       "      <th>genres</th>\n",
       "      <th>production_companies</th>\n",
       "      <th>vote_count</th>\n",
       "      <th>vote_average</th>\n",
       "      <th>release_year</th>\n",
       "      <th>budget_adj</th>\n",
       "      <th>revenue_adj</th>\n",
       "      <th>net_income</th>\n",
       "    </tr>\n",
       "  </thead>\n",
       "  <tbody>\n",
       "    <tr>\n",
       "      <th>0</th>\n",
       "      <td>tt0369610</td>\n",
       "      <td>32.985763</td>\n",
       "      <td>Jurassic World</td>\n",
       "      <td>Chris Pratt|Bryce Dallas Howard|Irrfan Khan|Vi...</td>\n",
       "      <td>Colin Trevorrow</td>\n",
       "      <td>monster|dna|tyrannosaurus rex|velociraptor|island</td>\n",
       "      <td>124</td>\n",
       "      <td>Action|Adventure|Science Fiction|Thriller</td>\n",
       "      <td>Universal Studios|Amblin Entertainment|Legenda...</td>\n",
       "      <td>5562</td>\n",
       "      <td>6.5</td>\n",
       "      <td>2015</td>\n",
       "      <td>1.379999e+08</td>\n",
       "      <td>1.392446e+09</td>\n",
       "      <td>1.254446e+09</td>\n",
       "    </tr>\n",
       "    <tr>\n",
       "      <th>1</th>\n",
       "      <td>tt1392190</td>\n",
       "      <td>28.419936</td>\n",
       "      <td>Mad Max: Fury Road</td>\n",
       "      <td>Tom Hardy|Charlize Theron|Hugh Keays-Byrne|Nic...</td>\n",
       "      <td>George Miller</td>\n",
       "      <td>future|chase|post-apocalyptic|dystopia|australia</td>\n",
       "      <td>120</td>\n",
       "      <td>Action|Adventure|Science Fiction|Thriller</td>\n",
       "      <td>Village Roadshow Pictures|Kennedy Miller Produ...</td>\n",
       "      <td>6185</td>\n",
       "      <td>7.1</td>\n",
       "      <td>2015</td>\n",
       "      <td>1.379999e+08</td>\n",
       "      <td>3.481613e+08</td>\n",
       "      <td>2.101614e+08</td>\n",
       "    </tr>\n",
       "    <tr>\n",
       "      <th>2</th>\n",
       "      <td>tt2908446</td>\n",
       "      <td>13.112507</td>\n",
       "      <td>Insurgent</td>\n",
       "      <td>Shailene Woodley|Theo James|Kate Winslet|Ansel...</td>\n",
       "      <td>Robert Schwentke</td>\n",
       "      <td>based on novel|revolution|dystopia|sequel|dyst...</td>\n",
       "      <td>119</td>\n",
       "      <td>Adventure|Science Fiction|Thriller</td>\n",
       "      <td>Summit Entertainment|Mandeville Films|Red Wago...</td>\n",
       "      <td>2480</td>\n",
       "      <td>6.3</td>\n",
       "      <td>2015</td>\n",
       "      <td>1.012000e+08</td>\n",
       "      <td>2.716190e+08</td>\n",
       "      <td>1.704191e+08</td>\n",
       "    </tr>\n",
       "    <tr>\n",
       "      <th>3</th>\n",
       "      <td>tt2488496</td>\n",
       "      <td>11.173104</td>\n",
       "      <td>Star Wars: The Force Awakens</td>\n",
       "      <td>Harrison Ford|Mark Hamill|Carrie Fisher|Adam D...</td>\n",
       "      <td>J.J. Abrams</td>\n",
       "      <td>android|spaceship|jedi|space opera|3d</td>\n",
       "      <td>136</td>\n",
       "      <td>Action|Adventure|Science Fiction|Fantasy</td>\n",
       "      <td>Lucasfilm|Truenorth Productions|Bad Robot</td>\n",
       "      <td>5292</td>\n",
       "      <td>7.5</td>\n",
       "      <td>2015</td>\n",
       "      <td>1.839999e+08</td>\n",
       "      <td>1.902723e+09</td>\n",
       "      <td>1.718723e+09</td>\n",
       "    </tr>\n",
       "    <tr>\n",
       "      <th>4</th>\n",
       "      <td>tt2820852</td>\n",
       "      <td>9.335014</td>\n",
       "      <td>Furious 7</td>\n",
       "      <td>Vin Diesel|Paul Walker|Jason Statham|Michelle ...</td>\n",
       "      <td>James Wan</td>\n",
       "      <td>car race|speed|revenge|suspense|car</td>\n",
       "      <td>137</td>\n",
       "      <td>Action|Crime|Thriller</td>\n",
       "      <td>Universal Pictures|Original Film|Media Rights ...</td>\n",
       "      <td>2947</td>\n",
       "      <td>7.3</td>\n",
       "      <td>2015</td>\n",
       "      <td>1.747999e+08</td>\n",
       "      <td>1.385749e+09</td>\n",
       "      <td>1.210949e+09</td>\n",
       "    </tr>\n",
       "  </tbody>\n",
       "</table>\n",
       "</div>"
      ],
      "text/plain": [
       "     imdb_id  popularity                original_title  \\\n",
       "0  tt0369610   32.985763                Jurassic World   \n",
       "1  tt1392190   28.419936            Mad Max: Fury Road   \n",
       "2  tt2908446   13.112507                     Insurgent   \n",
       "3  tt2488496   11.173104  Star Wars: The Force Awakens   \n",
       "4  tt2820852    9.335014                     Furious 7   \n",
       "\n",
       "                                                cast          director  \\\n",
       "0  Chris Pratt|Bryce Dallas Howard|Irrfan Khan|Vi...   Colin Trevorrow   \n",
       "1  Tom Hardy|Charlize Theron|Hugh Keays-Byrne|Nic...     George Miller   \n",
       "2  Shailene Woodley|Theo James|Kate Winslet|Ansel...  Robert Schwentke   \n",
       "3  Harrison Ford|Mark Hamill|Carrie Fisher|Adam D...       J.J. Abrams   \n",
       "4  Vin Diesel|Paul Walker|Jason Statham|Michelle ...         James Wan   \n",
       "\n",
       "                                            keywords  runtime  \\\n",
       "0  monster|dna|tyrannosaurus rex|velociraptor|island      124   \n",
       "1   future|chase|post-apocalyptic|dystopia|australia      120   \n",
       "2  based on novel|revolution|dystopia|sequel|dyst...      119   \n",
       "3              android|spaceship|jedi|space opera|3d      136   \n",
       "4                car race|speed|revenge|suspense|car      137   \n",
       "\n",
       "                                      genres  \\\n",
       "0  Action|Adventure|Science Fiction|Thriller   \n",
       "1  Action|Adventure|Science Fiction|Thriller   \n",
       "2         Adventure|Science Fiction|Thriller   \n",
       "3   Action|Adventure|Science Fiction|Fantasy   \n",
       "4                      Action|Crime|Thriller   \n",
       "\n",
       "                                production_companies  vote_count  \\\n",
       "0  Universal Studios|Amblin Entertainment|Legenda...        5562   \n",
       "1  Village Roadshow Pictures|Kennedy Miller Produ...        6185   \n",
       "2  Summit Entertainment|Mandeville Films|Red Wago...        2480   \n",
       "3          Lucasfilm|Truenorth Productions|Bad Robot        5292   \n",
       "4  Universal Pictures|Original Film|Media Rights ...        2947   \n",
       "\n",
       "   vote_average  release_year    budget_adj   revenue_adj    net_income  \n",
       "0           6.5          2015  1.379999e+08  1.392446e+09  1.254446e+09  \n",
       "1           7.1          2015  1.379999e+08  3.481613e+08  2.101614e+08  \n",
       "2           6.3          2015  1.012000e+08  2.716190e+08  1.704191e+08  \n",
       "3           7.5          2015  1.839999e+08  1.902723e+09  1.718723e+09  \n",
       "4           7.3          2015  1.747999e+08  1.385749e+09  1.210949e+09  "
      ]
     },
     "execution_count": 143,
     "metadata": {},
     "output_type": "execute_result"
    }
   ],
   "source": [
    "df.head()"
   ]
  },
  {
   "cell_type": "code",
   "execution_count": 144,
   "id": "d1e0834d",
   "metadata": {},
   "outputs": [
    {
     "data": {
      "application/com.datacamp.data-table.v1+json": {
       "is_truncated": false,
       "table": {
        "data": [
         {
          "director": " FrÃ©dÃ©ric Jardin",
          "index": 0,
          "vote_count": 28
         },
         {
          "director": "A. Todd Smith",
          "index": 1,
          "vote_count": 11
         },
         {
          "director": "A.R. Murugadoss",
          "index": 2,
          "vote_count": 53
         },
         {
          "director": "Aaron Aites",
          "index": 3,
          "vote_count": 13
         },
         {
          "director": "Aaron Blaise|Robert Walker",
          "index": 4,
          "vote_count": 753
         }
        ],
        "schema": {
         "fields": [
          {
           "name": "index",
           "type": "integer"
          },
          {
           "name": "director",
           "type": "string"
          },
          {
           "name": "vote_count",
           "type": "integer"
          }
         ],
         "pandas_version": "0.20.0",
         "primaryKey": [
          "index"
         ]
        }
       },
       "total_rows": 5
      },
      "text/html": [
       "<div>\n",
       "<style scoped>\n",
       "    .dataframe tbody tr th:only-of-type {\n",
       "        vertical-align: middle;\n",
       "    }\n",
       "\n",
       "    .dataframe tbody tr th {\n",
       "        vertical-align: top;\n",
       "    }\n",
       "\n",
       "    .dataframe thead th {\n",
       "        text-align: right;\n",
       "    }\n",
       "</style>\n",
       "<table border=\"1\" class=\"dataframe\">\n",
       "  <thead>\n",
       "    <tr style=\"text-align: right;\">\n",
       "      <th></th>\n",
       "      <th>director</th>\n",
       "      <th>vote_count</th>\n",
       "    </tr>\n",
       "  </thead>\n",
       "  <tbody>\n",
       "    <tr>\n",
       "      <th>0</th>\n",
       "      <td>FrÃ©dÃ©ric Jardin</td>\n",
       "      <td>28</td>\n",
       "    </tr>\n",
       "    <tr>\n",
       "      <th>1</th>\n",
       "      <td>A. Todd Smith</td>\n",
       "      <td>11</td>\n",
       "    </tr>\n",
       "    <tr>\n",
       "      <th>2</th>\n",
       "      <td>A.R. Murugadoss</td>\n",
       "      <td>53</td>\n",
       "    </tr>\n",
       "    <tr>\n",
       "      <th>3</th>\n",
       "      <td>Aaron Aites</td>\n",
       "      <td>13</td>\n",
       "    </tr>\n",
       "    <tr>\n",
       "      <th>4</th>\n",
       "      <td>Aaron Blaise|Robert Walker</td>\n",
       "      <td>753</td>\n",
       "    </tr>\n",
       "  </tbody>\n",
       "</table>\n",
       "</div>"
      ],
      "text/plain": [
       "                     director  vote_count\n",
       "0           FrÃ©dÃ©ric Jardin          28\n",
       "1               A. Todd Smith          11\n",
       "2             A.R. Murugadoss          53\n",
       "3                 Aaron Aites          13\n",
       "4  Aaron Blaise|Robert Walker         753"
      ]
     },
     "execution_count": 144,
     "metadata": {},
     "output_type": "execute_result"
    }
   ],
   "source": [
    "df_directors=df.groupby('director',as_index=False)['vote_count'].sum()\n",
    "df_directors.head()"
   ]
  },
  {
   "cell_type": "code",
   "execution_count": 145,
   "id": "dc37f4b2-7c3f-4d6e-ba88-712105d1bfeb",
   "metadata": {},
   "outputs": [
    {
     "data": {
      "application/com.datacamp.data-table.v1+json": {
       "is_truncated": false,
       "table": {
        "data": [
         {
          "director": "Christopher Nolan",
          "index": 837,
          "vote_count": 41759
         },
         {
          "director": "Steven Spielberg",
          "index": 4557,
          "vote_count": 36735
         },
         {
          "director": "Peter Jackson",
          "index": 3762,
          "vote_count": 31796
         },
         {
          "director": "Quentin Tarantino",
          "index": 3860,
          "vote_count": 27894
         },
         {
          "director": "Ridley Scott",
          "index": 3995,
          "vote_count": 24801
         }
        ],
        "schema": {
         "fields": [
          {
           "name": "index",
           "type": "integer"
          },
          {
           "name": "director",
           "type": "string"
          },
          {
           "name": "vote_count",
           "type": "integer"
          }
         ],
         "pandas_version": "0.20.0",
         "primaryKey": [
          "index"
         ]
        }
       },
       "total_rows": 5
      },
      "text/html": [
       "<div>\n",
       "<style scoped>\n",
       "    .dataframe tbody tr th:only-of-type {\n",
       "        vertical-align: middle;\n",
       "    }\n",
       "\n",
       "    .dataframe tbody tr th {\n",
       "        vertical-align: top;\n",
       "    }\n",
       "\n",
       "    .dataframe thead th {\n",
       "        text-align: right;\n",
       "    }\n",
       "</style>\n",
       "<table border=\"1\" class=\"dataframe\">\n",
       "  <thead>\n",
       "    <tr style=\"text-align: right;\">\n",
       "      <th></th>\n",
       "      <th>director</th>\n",
       "      <th>vote_count</th>\n",
       "    </tr>\n",
       "  </thead>\n",
       "  <tbody>\n",
       "    <tr>\n",
       "      <th>837</th>\n",
       "      <td>Christopher Nolan</td>\n",
       "      <td>41759</td>\n",
       "    </tr>\n",
       "    <tr>\n",
       "      <th>4557</th>\n",
       "      <td>Steven Spielberg</td>\n",
       "      <td>36735</td>\n",
       "    </tr>\n",
       "    <tr>\n",
       "      <th>3762</th>\n",
       "      <td>Peter Jackson</td>\n",
       "      <td>31796</td>\n",
       "    </tr>\n",
       "    <tr>\n",
       "      <th>3860</th>\n",
       "      <td>Quentin Tarantino</td>\n",
       "      <td>27894</td>\n",
       "    </tr>\n",
       "    <tr>\n",
       "      <th>3995</th>\n",
       "      <td>Ridley Scott</td>\n",
       "      <td>24801</td>\n",
       "    </tr>\n",
       "  </tbody>\n",
       "</table>\n",
       "</div>"
      ],
      "text/plain": [
       "               director  vote_count\n",
       "837   Christopher Nolan       41759\n",
       "4557   Steven Spielberg       36735\n",
       "3762      Peter Jackson       31796\n",
       "3860  Quentin Tarantino       27894\n",
       "3995       Ridley Scott       24801"
      ]
     },
     "execution_count": 145,
     "metadata": {},
     "output_type": "execute_result"
    }
   ],
   "source": [
    "df_directors.sort_values(by='vote_count',ascending=False).head(5) #We see in here that Christopher Nolan's movie has 41759 votes. "
   ]
  },
  {
   "cell_type": "markdown",
   "id": "3979482a",
   "metadata": {},
   "source": [
    "Question 5-Are Most Popular Movies Have Big Incomes ? "
   ]
  },
  {
   "cell_type": "code",
   "execution_count": 146,
   "id": "b6c96114",
   "metadata": {
    "scrolled": true
   },
   "outputs": [
    {
     "data": {
      "application/com.datacamp.data-table.v1+json": {
       "is_truncated": false,
       "table": {
        "data": [
         {
          "budget_adj": 137999939.280026,
          "cast": "Chris Pratt|Bryce Dallas Howard|Irrfan Khan|Vincent D'Onofrio|Nick Robinson",
          "director": "Colin Trevorrow",
          "genres": "Action|Adventure|Science Fiction|Thriller",
          "imdb_id": "tt0369610",
          "index": 0,
          "keywords": "monster|dna|tyrannosaurus rex|velociraptor|island",
          "net_income": 1254445953.243774,
          "original_title": "Jurassic World",
          "popularity": 32.985763,
          "production_companies": "Universal Studios|Amblin Entertainment|Legendary Pictures|Fuji Television Network|Dentsu",
          "release_year": 2015,
          "revenue_adj": 1392445892.5238,
          "runtime": 124,
          "vote_average": 6.5,
          "vote_count": 5562
         },
         {
          "budget_adj": 137999939.280026,
          "cast": "Tom Hardy|Charlize Theron|Hugh Keays-Byrne|Nicholas Hoult|Josh Helman",
          "director": "George Miller",
          "genres": "Action|Adventure|Science Fiction|Thriller",
          "imdb_id": "tt1392190",
          "index": 1,
          "keywords": "future|chase|post-apocalyptic|dystopia|australia",
          "net_income": 210161353.20900503,
          "original_title": "Mad Max: Fury Road",
          "popularity": 28.419936,
          "production_companies": "Village Roadshow Pictures|Kennedy Miller Productions",
          "release_year": 2015,
          "revenue_adj": 348161292.489031,
          "runtime": 120,
          "vote_average": 7.1,
          "vote_count": 6185
         },
         {
          "budget_adj": 101199955.472019,
          "cast": "Shailene Woodley|Theo James|Kate Winslet|Ansel Elgort|Miles Teller",
          "director": "Robert Schwentke",
          "genres": "Adventure|Science Fiction|Thriller",
          "imdb_id": "tt2908446",
          "index": 2,
          "keywords": "based on novel|revolution|dystopia|sequel|dystopic future",
          "net_income": 170419069.93560898,
          "original_title": "Insurgent",
          "popularity": 13.112507,
          "production_companies": "Summit Entertainment|Mandeville Films|Red Wagon Entertainment|NeoReel",
          "release_year": 2015,
          "revenue_adj": 271619025.407628,
          "runtime": 119,
          "vote_average": 6.3,
          "vote_count": 2480
         },
         {
          "budget_adj": 183999919.040035,
          "cast": "Harrison Ford|Mark Hamill|Carrie Fisher|Adam Driver|Daisy Ridley",
          "director": "J.J. Abrams",
          "genres": "Action|Adventure|Science Fiction|Fantasy",
          "imdb_id": "tt2488496",
          "index": 3,
          "keywords": "android|spaceship|jedi|space opera|3d",
          "net_income": 1718723210.761785,
          "original_title": "Star Wars: The Force Awakens",
          "popularity": 11.173104,
          "production_companies": "Lucasfilm|Truenorth Productions|Bad Robot",
          "release_year": 2015,
          "revenue_adj": 1902723129.80182,
          "runtime": 136,
          "vote_average": 7.5,
          "vote_count": 5292
         },
         {
          "budget_adj": 174799923.088033,
          "cast": "Vin Diesel|Paul Walker|Jason Statham|Michelle Rodriguez|Dwayne Johnson",
          "director": "James Wan",
          "genres": "Action|Crime|Thriller",
          "imdb_id": "tt2820852",
          "index": 4,
          "keywords": "car race|speed|revenge|suspense|car",
          "net_income": 1210948878.382487,
          "original_title": "Furious 7",
          "popularity": 9.335014,
          "production_companies": "Universal Pictures|Original Film|Media Rights Capital|Dentsu|One Race Films",
          "release_year": 2015,
          "revenue_adj": 1385748801.47052,
          "runtime": 137,
          "vote_average": 7.3,
          "vote_count": 2947
         }
        ],
        "schema": {
         "fields": [
          {
           "name": "index",
           "type": "integer"
          },
          {
           "name": "imdb_id",
           "type": "string"
          },
          {
           "name": "popularity",
           "type": "number"
          },
          {
           "name": "original_title",
           "type": "string"
          },
          {
           "name": "cast",
           "type": "string"
          },
          {
           "name": "director",
           "type": "string"
          },
          {
           "name": "keywords",
           "type": "string"
          },
          {
           "name": "runtime",
           "type": "integer"
          },
          {
           "name": "genres",
           "type": "string"
          },
          {
           "name": "production_companies",
           "type": "string"
          },
          {
           "name": "vote_count",
           "type": "integer"
          },
          {
           "name": "vote_average",
           "type": "number"
          },
          {
           "name": "release_year",
           "type": "integer"
          },
          {
           "name": "budget_adj",
           "type": "number"
          },
          {
           "name": "revenue_adj",
           "type": "number"
          },
          {
           "name": "net_income",
           "type": "number"
          }
         ],
         "pandas_version": "0.20.0",
         "primaryKey": [
          "index"
         ]
        }
       },
       "total_rows": 5
      },
      "text/html": [
       "<div>\n",
       "<style scoped>\n",
       "    .dataframe tbody tr th:only-of-type {\n",
       "        vertical-align: middle;\n",
       "    }\n",
       "\n",
       "    .dataframe tbody tr th {\n",
       "        vertical-align: top;\n",
       "    }\n",
       "\n",
       "    .dataframe thead th {\n",
       "        text-align: right;\n",
       "    }\n",
       "</style>\n",
       "<table border=\"1\" class=\"dataframe\">\n",
       "  <thead>\n",
       "    <tr style=\"text-align: right;\">\n",
       "      <th></th>\n",
       "      <th>imdb_id</th>\n",
       "      <th>popularity</th>\n",
       "      <th>original_title</th>\n",
       "      <th>cast</th>\n",
       "      <th>director</th>\n",
       "      <th>keywords</th>\n",
       "      <th>runtime</th>\n",
       "      <th>genres</th>\n",
       "      <th>production_companies</th>\n",
       "      <th>vote_count</th>\n",
       "      <th>vote_average</th>\n",
       "      <th>release_year</th>\n",
       "      <th>budget_adj</th>\n",
       "      <th>revenue_adj</th>\n",
       "      <th>net_income</th>\n",
       "    </tr>\n",
       "  </thead>\n",
       "  <tbody>\n",
       "    <tr>\n",
       "      <th>0</th>\n",
       "      <td>tt0369610</td>\n",
       "      <td>32.985763</td>\n",
       "      <td>Jurassic World</td>\n",
       "      <td>Chris Pratt|Bryce Dallas Howard|Irrfan Khan|Vi...</td>\n",
       "      <td>Colin Trevorrow</td>\n",
       "      <td>monster|dna|tyrannosaurus rex|velociraptor|island</td>\n",
       "      <td>124</td>\n",
       "      <td>Action|Adventure|Science Fiction|Thriller</td>\n",
       "      <td>Universal Studios|Amblin Entertainment|Legenda...</td>\n",
       "      <td>5562</td>\n",
       "      <td>6.5</td>\n",
       "      <td>2015</td>\n",
       "      <td>1.379999e+08</td>\n",
       "      <td>1.392446e+09</td>\n",
       "      <td>1.254446e+09</td>\n",
       "    </tr>\n",
       "    <tr>\n",
       "      <th>1</th>\n",
       "      <td>tt1392190</td>\n",
       "      <td>28.419936</td>\n",
       "      <td>Mad Max: Fury Road</td>\n",
       "      <td>Tom Hardy|Charlize Theron|Hugh Keays-Byrne|Nic...</td>\n",
       "      <td>George Miller</td>\n",
       "      <td>future|chase|post-apocalyptic|dystopia|australia</td>\n",
       "      <td>120</td>\n",
       "      <td>Action|Adventure|Science Fiction|Thriller</td>\n",
       "      <td>Village Roadshow Pictures|Kennedy Miller Produ...</td>\n",
       "      <td>6185</td>\n",
       "      <td>7.1</td>\n",
       "      <td>2015</td>\n",
       "      <td>1.379999e+08</td>\n",
       "      <td>3.481613e+08</td>\n",
       "      <td>2.101614e+08</td>\n",
       "    </tr>\n",
       "    <tr>\n",
       "      <th>2</th>\n",
       "      <td>tt2908446</td>\n",
       "      <td>13.112507</td>\n",
       "      <td>Insurgent</td>\n",
       "      <td>Shailene Woodley|Theo James|Kate Winslet|Ansel...</td>\n",
       "      <td>Robert Schwentke</td>\n",
       "      <td>based on novel|revolution|dystopia|sequel|dyst...</td>\n",
       "      <td>119</td>\n",
       "      <td>Adventure|Science Fiction|Thriller</td>\n",
       "      <td>Summit Entertainment|Mandeville Films|Red Wago...</td>\n",
       "      <td>2480</td>\n",
       "      <td>6.3</td>\n",
       "      <td>2015</td>\n",
       "      <td>1.012000e+08</td>\n",
       "      <td>2.716190e+08</td>\n",
       "      <td>1.704191e+08</td>\n",
       "    </tr>\n",
       "    <tr>\n",
       "      <th>3</th>\n",
       "      <td>tt2488496</td>\n",
       "      <td>11.173104</td>\n",
       "      <td>Star Wars: The Force Awakens</td>\n",
       "      <td>Harrison Ford|Mark Hamill|Carrie Fisher|Adam D...</td>\n",
       "      <td>J.J. Abrams</td>\n",
       "      <td>android|spaceship|jedi|space opera|3d</td>\n",
       "      <td>136</td>\n",
       "      <td>Action|Adventure|Science Fiction|Fantasy</td>\n",
       "      <td>Lucasfilm|Truenorth Productions|Bad Robot</td>\n",
       "      <td>5292</td>\n",
       "      <td>7.5</td>\n",
       "      <td>2015</td>\n",
       "      <td>1.839999e+08</td>\n",
       "      <td>1.902723e+09</td>\n",
       "      <td>1.718723e+09</td>\n",
       "    </tr>\n",
       "    <tr>\n",
       "      <th>4</th>\n",
       "      <td>tt2820852</td>\n",
       "      <td>9.335014</td>\n",
       "      <td>Furious 7</td>\n",
       "      <td>Vin Diesel|Paul Walker|Jason Statham|Michelle ...</td>\n",
       "      <td>James Wan</td>\n",
       "      <td>car race|speed|revenge|suspense|car</td>\n",
       "      <td>137</td>\n",
       "      <td>Action|Crime|Thriller</td>\n",
       "      <td>Universal Pictures|Original Film|Media Rights ...</td>\n",
       "      <td>2947</td>\n",
       "      <td>7.3</td>\n",
       "      <td>2015</td>\n",
       "      <td>1.747999e+08</td>\n",
       "      <td>1.385749e+09</td>\n",
       "      <td>1.210949e+09</td>\n",
       "    </tr>\n",
       "  </tbody>\n",
       "</table>\n",
       "</div>"
      ],
      "text/plain": [
       "     imdb_id  popularity                original_title  \\\n",
       "0  tt0369610   32.985763                Jurassic World   \n",
       "1  tt1392190   28.419936            Mad Max: Fury Road   \n",
       "2  tt2908446   13.112507                     Insurgent   \n",
       "3  tt2488496   11.173104  Star Wars: The Force Awakens   \n",
       "4  tt2820852    9.335014                     Furious 7   \n",
       "\n",
       "                                                cast          director  \\\n",
       "0  Chris Pratt|Bryce Dallas Howard|Irrfan Khan|Vi...   Colin Trevorrow   \n",
       "1  Tom Hardy|Charlize Theron|Hugh Keays-Byrne|Nic...     George Miller   \n",
       "2  Shailene Woodley|Theo James|Kate Winslet|Ansel...  Robert Schwentke   \n",
       "3  Harrison Ford|Mark Hamill|Carrie Fisher|Adam D...       J.J. Abrams   \n",
       "4  Vin Diesel|Paul Walker|Jason Statham|Michelle ...         James Wan   \n",
       "\n",
       "                                            keywords  runtime  \\\n",
       "0  monster|dna|tyrannosaurus rex|velociraptor|island      124   \n",
       "1   future|chase|post-apocalyptic|dystopia|australia      120   \n",
       "2  based on novel|revolution|dystopia|sequel|dyst...      119   \n",
       "3              android|spaceship|jedi|space opera|3d      136   \n",
       "4                car race|speed|revenge|suspense|car      137   \n",
       "\n",
       "                                      genres  \\\n",
       "0  Action|Adventure|Science Fiction|Thriller   \n",
       "1  Action|Adventure|Science Fiction|Thriller   \n",
       "2         Adventure|Science Fiction|Thriller   \n",
       "3   Action|Adventure|Science Fiction|Fantasy   \n",
       "4                      Action|Crime|Thriller   \n",
       "\n",
       "                                production_companies  vote_count  \\\n",
       "0  Universal Studios|Amblin Entertainment|Legenda...        5562   \n",
       "1  Village Roadshow Pictures|Kennedy Miller Produ...        6185   \n",
       "2  Summit Entertainment|Mandeville Films|Red Wago...        2480   \n",
       "3          Lucasfilm|Truenorth Productions|Bad Robot        5292   \n",
       "4  Universal Pictures|Original Film|Media Rights ...        2947   \n",
       "\n",
       "   vote_average  release_year    budget_adj   revenue_adj    net_income  \n",
       "0           6.5          2015  1.379999e+08  1.392446e+09  1.254446e+09  \n",
       "1           7.1          2015  1.379999e+08  3.481613e+08  2.101614e+08  \n",
       "2           6.3          2015  1.012000e+08  2.716190e+08  1.704191e+08  \n",
       "3           7.5          2015  1.839999e+08  1.902723e+09  1.718723e+09  \n",
       "4           7.3          2015  1.747999e+08  1.385749e+09  1.210949e+09  "
      ]
     },
     "execution_count": 146,
     "metadata": {},
     "output_type": "execute_result"
    }
   ],
   "source": [
    "df.head()"
   ]
  },
  {
   "cell_type": "code",
   "execution_count": 147,
   "id": "b768f9be-9eb9-4641-8c36-32ec41fe923e",
   "metadata": {},
   "outputs": [
    {
     "data": {
      "image/png": "[encoded data removed]",
      "text/plain": [
       "<Figure size 432x288 with 1 Axes>"
      ]
     },
     "metadata": {
      "needs_background": "light"
     },
     "output_type": "display_data"
    }
   ],
   "source": [
    "sns.regplot(data=df,x='popularity',y='net_income');"
   ]
  },
  {
   "cell_type": "code",
   "execution_count": 148,
   "id": "3b6e9cbf",
   "metadata": {},
   "outputs": [
    {
     "data": {
      "text/plain": [
       "<seaborn.axisgrid.PairGrid at 0x7fdc53a4f7c0>"
      ]
     },
     "execution_count": 148,
     "metadata": {},
     "output_type": "execute_result"
    },
    {
     "data": {
      "image/png": "[encoded data removed]",
      "text/plain": [
       "<Figure size 720x720 with 6 Axes>"
      ]
     },
     "metadata": {
      "needs_background": "light"
     },
     "output_type": "display_data"
    }
   ],
   "source": [
    "sns.pairplot(data=df[['popularity','net_income']],kind='scatter',height=5)"
   ]
  },
  {
   "cell_type": "code",
   "execution_count": 149,
   "id": "2058657d-0d80-45ce-b1f0-dc3d81391efe",
   "metadata": {},
   "outputs": [
    {
     "data": {
      "application/com.datacamp.data-table.v1+json": {
       "is_truncated": false,
       "table": {
        "data": [
         {
          "index": "net_income",
          "net_income": 1,
          "popularity": 0.5623484251
         },
         {
          "index": "popularity",
          "net_income": 0.5623484251,
          "popularity": 1
         }
        ],
        "schema": {
         "fields": [
          {
           "name": "index",
           "type": "string"
          },
          {
           "name": "net_income",
           "type": "number"
          },
          {
           "name": "popularity",
           "type": "number"
          }
         ],
         "pandas_version": "0.20.0",
         "primaryKey": [
          "index"
         ]
        }
       },
       "total_rows": 2
      },
      "text/html": [
       "<div>\n",
       "<style scoped>\n",
       "    .dataframe tbody tr th:only-of-type {\n",
       "        vertical-align: middle;\n",
       "    }\n",
       "\n",
       "    .dataframe tbody tr th {\n",
       "        vertical-align: top;\n",
       "    }\n",
       "\n",
       "    .dataframe thead th {\n",
       "        text-align: right;\n",
       "    }\n",
       "</style>\n",
       "<table border=\"1\" class=\"dataframe\">\n",
       "  <thead>\n",
       "    <tr style=\"text-align: right;\">\n",
       "      <th></th>\n",
       "      <th>net_income</th>\n",
       "      <th>popularity</th>\n",
       "    </tr>\n",
       "  </thead>\n",
       "  <tbody>\n",
       "    <tr>\n",
       "      <th>net_income</th>\n",
       "      <td>1.000000</td>\n",
       "      <td>0.562348</td>\n",
       "    </tr>\n",
       "    <tr>\n",
       "      <th>popularity</th>\n",
       "      <td>0.562348</td>\n",
       "      <td>1.000000</td>\n",
       "    </tr>\n",
       "  </tbody>\n",
       "</table>\n",
       "</div>"
      ],
      "text/plain": [
       "            net_income  popularity\n",
       "net_income    1.000000    0.562348\n",
       "popularity    0.562348    1.000000"
      ]
     },
     "execution_count": 149,
     "metadata": {},
     "output_type": "execute_result"
    }
   ],
   "source": [
    "df_corr=df[['net_income','popularity']].corr(method='pearson')\n",
    "df_corr"
   ]
  },
  {
   "cell_type": "markdown",
   "id": "a9c8f299-81df-45ae-822b-b2582d2022e4",
   "metadata": {},
   "source": [
    "In these plots we can clearly see that some movies have popularity between 5 and 15 and they have most of the incomes. When we check the other data points we can say that they have somewhat significant positive correlation between popularity and net income. "
   ]
  },
  {
   "cell_type": "markdown",
   "id": "3c5d9325",
   "metadata": {},
   "source": [
    "Question 6-Which is The Most Popular Genre In 2013, 2014 and 2015 ? (Last 3 Years For This Dataset)"
   ]
  },
  {
   "cell_type": "code",
   "execution_count": 150,
   "id": "09ac3cc1-fe2e-49fa-85b6-3a16f6839d10",
   "metadata": {},
   "outputs": [
    {
     "data": {
      "application/com.datacamp.data-table.v1+json": {
       "is_truncated": false,
       "table": {
        "data": [
         {
          "budget_adj": 137999939.280026,
          "cast": "Chris Pratt|Bryce Dallas Howard|Irrfan Khan|Vincent D'Onofrio|Nick Robinson",
          "director": "Colin Trevorrow",
          "genres": "Action|Adventure|Science Fiction|Thriller",
          "imdb_id": "tt0369610",
          "index": 0,
          "keywords": "monster|dna|tyrannosaurus rex|velociraptor|island",
          "net_income": 1254445953.243774,
          "original_title": "Jurassic World",
          "popularity": 32.985763,
          "production_companies": "Universal Studios|Amblin Entertainment|Legendary Pictures|Fuji Television Network|Dentsu",
          "release_year": 2015,
          "revenue_adj": 1392445892.5238,
          "runtime": 124,
          "vote_average": 6.5,
          "vote_count": 5562
         },
         {
          "budget_adj": 137999939.280026,
          "cast": "Tom Hardy|Charlize Theron|Hugh Keays-Byrne|Nicholas Hoult|Josh Helman",
          "director": "George Miller",
          "genres": "Action|Adventure|Science Fiction|Thriller",
          "imdb_id": "tt1392190",
          "index": 1,
          "keywords": "future|chase|post-apocalyptic|dystopia|australia",
          "net_income": 210161353.20900503,
          "original_title": "Mad Max: Fury Road",
          "popularity": 28.419936,
          "production_companies": "Village Roadshow Pictures|Kennedy Miller Productions",
          "release_year": 2015,
          "revenue_adj": 348161292.489031,
          "runtime": 120,
          "vote_average": 7.1,
          "vote_count": 6185
         },
         {
          "budget_adj": 101199955.472019,
          "cast": "Shailene Woodley|Theo James|Kate Winslet|Ansel Elgort|Miles Teller",
          "director": "Robert Schwentke",
          "genres": "Adventure|Science Fiction|Thriller",
          "imdb_id": "tt2908446",
          "index": 2,
          "keywords": "based on novel|revolution|dystopia|sequel|dystopic future",
          "net_income": 170419069.93560898,
          "original_title": "Insurgent",
          "popularity": 13.112507,
          "production_companies": "Summit Entertainment|Mandeville Films|Red Wagon Entertainment|NeoReel",
          "release_year": 2015,
          "revenue_adj": 271619025.407628,
          "runtime": 119,
          "vote_average": 6.3,
          "vote_count": 2480
         },
         {
          "budget_adj": 183999919.040035,
          "cast": "Harrison Ford|Mark Hamill|Carrie Fisher|Adam Driver|Daisy Ridley",
          "director": "J.J. Abrams",
          "genres": "Action|Adventure|Science Fiction|Fantasy",
          "imdb_id": "tt2488496",
          "index": 3,
          "keywords": "android|spaceship|jedi|space opera|3d",
          "net_income": 1718723210.761785,
          "original_title": "Star Wars: The Force Awakens",
          "popularity": 11.173104,
          "production_companies": "Lucasfilm|Truenorth Productions|Bad Robot",
          "release_year": 2015,
          "revenue_adj": 1902723129.80182,
          "runtime": 136,
          "vote_average": 7.5,
          "vote_count": 5292
         },
         {
          "budget_adj": 174799923.088033,
          "cast": "Vin Diesel|Paul Walker|Jason Statham|Michelle Rodriguez|Dwayne Johnson",
          "director": "James Wan",
          "genres": "Action|Crime|Thriller",
          "imdb_id": "tt2820852",
          "index": 4,
          "keywords": "car race|speed|revenge|suspense|car",
          "net_income": 1210948878.382487,
          "original_title": "Furious 7",
          "popularity": 9.335014,
          "production_companies": "Universal Pictures|Original Film|Media Rights Capital|Dentsu|One Race Films",
          "release_year": 2015,
          "revenue_adj": 1385748801.47052,
          "runtime": 137,
          "vote_average": 7.3,
          "vote_count": 2947
         }
        ],
        "schema": {
         "fields": [
          {
           "name": "index",
           "type": "integer"
          },
          {
           "name": "imdb_id",
           "type": "string"
          },
          {
           "name": "popularity",
           "type": "number"
          },
          {
           "name": "original_title",
           "type": "string"
          },
          {
           "name": "cast",
           "type": "string"
          },
          {
           "name": "director",
           "type": "string"
          },
          {
           "name": "keywords",
           "type": "string"
          },
          {
           "name": "runtime",
           "type": "integer"
          },
          {
           "name": "genres",
           "type": "string"
          },
          {
           "name": "production_companies",
           "type": "string"
          },
          {
           "name": "vote_count",
           "type": "integer"
          },
          {
           "name": "vote_average",
           "type": "number"
          },
          {
           "name": "release_year",
           "type": "integer"
          },
          {
           "name": "budget_adj",
           "type": "number"
          },
          {
           "name": "revenue_adj",
           "type": "number"
          },
          {
           "name": "net_income",
           "type": "number"
          }
         ],
         "pandas_version": "0.20.0",
         "primaryKey": [
          "index"
         ]
        }
       },
       "total_rows": 5
      },
      "text/html": [
       "<div>\n",
       "<style scoped>\n",
       "    .dataframe tbody tr th:only-of-type {\n",
       "        vertical-align: middle;\n",
       "    }\n",
       "\n",
       "    .dataframe tbody tr th {\n",
       "        vertical-align: top;\n",
       "    }\n",
       "\n",
       "    .dataframe thead th {\n",
       "        text-align: right;\n",
       "    }\n",
       "</style>\n",
       "<table border=\"1\" class=\"dataframe\">\n",
       "  <thead>\n",
       "    <tr style=\"text-align: right;\">\n",
       "      <th></th>\n",
       "      <th>imdb_id</th>\n",
       "      <th>popularity</th>\n",
       "      <th>original_title</th>\n",
       "      <th>cast</th>\n",
       "      <th>director</th>\n",
       "      <th>keywords</th>\n",
       "      <th>runtime</th>\n",
       "      <th>genres</th>\n",
       "      <th>production_companies</th>\n",
       "      <th>vote_count</th>\n",
       "      <th>vote_average</th>\n",
       "      <th>release_year</th>\n",
       "      <th>budget_adj</th>\n",
       "      <th>revenue_adj</th>\n",
       "      <th>net_income</th>\n",
       "    </tr>\n",
       "  </thead>\n",
       "  <tbody>\n",
       "    <tr>\n",
       "      <th>0</th>\n",
       "      <td>tt0369610</td>\n",
       "      <td>32.985763</td>\n",
       "      <td>Jurassic World</td>\n",
       "      <td>Chris Pratt|Bryce Dallas Howard|Irrfan Khan|Vi...</td>\n",
       "      <td>Colin Trevorrow</td>\n",
       "      <td>monster|dna|tyrannosaurus rex|velociraptor|island</td>\n",
       "      <td>124</td>\n",
       "      <td>Action|Adventure|Science Fiction|Thriller</td>\n",
       "      <td>Universal Studios|Amblin Entertainment|Legenda...</td>\n",
       "      <td>5562</td>\n",
       "      <td>6.5</td>\n",
       "      <td>2015</td>\n",
       "      <td>1.379999e+08</td>\n",
       "      <td>1.392446e+09</td>\n",
       "      <td>1.254446e+09</td>\n",
       "    </tr>\n",
       "    <tr>\n",
       "      <th>1</th>\n",
       "      <td>tt1392190</td>\n",
       "      <td>28.419936</td>\n",
       "      <td>Mad Max: Fury Road</td>\n",
       "      <td>Tom Hardy|Charlize Theron|Hugh Keays-Byrne|Nic...</td>\n",
       "      <td>George Miller</td>\n",
       "      <td>future|chase|post-apocalyptic|dystopia|australia</td>\n",
       "      <td>120</td>\n",
       "      <td>Action|Adventure|Science Fiction|Thriller</td>\n",
       "      <td>Village Roadshow Pictures|Kennedy Miller Produ...</td>\n",
       "      <td>6185</td>\n",
       "      <td>7.1</td>\n",
       "      <td>2015</td>\n",
       "      <td>1.379999e+08</td>\n",
       "      <td>3.481613e+08</td>\n",
       "      <td>2.101614e+08</td>\n",
       "    </tr>\n",
       "    <tr>\n",
       "      <th>2</th>\n",
       "      <td>tt2908446</td>\n",
       "      <td>13.112507</td>\n",
       "      <td>Insurgent</td>\n",
       "      <td>Shailene Woodley|Theo James|Kate Winslet|Ansel...</td>\n",
       "      <td>Robert Schwentke</td>\n",
       "      <td>based on novel|revolution|dystopia|sequel|dyst...</td>\n",
       "      <td>119</td>\n",
       "      <td>Adventure|Science Fiction|Thriller</td>\n",
       "      <td>Summit Entertainment|Mandeville Films|Red Wago...</td>\n",
       "      <td>2480</td>\n",
       "      <td>6.3</td>\n",
       "      <td>2015</td>\n",
       "      <td>1.012000e+08</td>\n",
       "      <td>2.716190e+08</td>\n",
       "      <td>1.704191e+08</td>\n",
       "    </tr>\n",
       "    <tr>\n",
       "      <th>3</th>\n",
       "      <td>tt2488496</td>\n",
       "      <td>11.173104</td>\n",
       "      <td>Star Wars: The Force Awakens</td>\n",
       "      <td>Harrison Ford|Mark Hamill|Carrie Fisher|Adam D...</td>\n",
       "      <td>J.J. Abrams</td>\n",
       "      <td>android|spaceship|jedi|space opera|3d</td>\n",
       "      <td>136</td>\n",
       "      <td>Action|Adventure|Science Fiction|Fantasy</td>\n",
       "      <td>Lucasfilm|Truenorth Productions|Bad Robot</td>\n",
       "      <td>5292</td>\n",
       "      <td>7.5</td>\n",
       "      <td>2015</td>\n",
       "      <td>1.839999e+08</td>\n",
       "      <td>1.902723e+09</td>\n",
       "      <td>1.718723e+09</td>\n",
       "    </tr>\n",
       "    <tr>\n",
       "      <th>4</th>\n",
       "      <td>tt2820852</td>\n",
       "      <td>9.335014</td>\n",
       "      <td>Furious 7</td>\n",
       "      <td>Vin Diesel|Paul Walker|Jason Statham|Michelle ...</td>\n",
       "      <td>James Wan</td>\n",
       "      <td>car race|speed|revenge|suspense|car</td>\n",
       "      <td>137</td>\n",
       "      <td>Action|Crime|Thriller</td>\n",
       "      <td>Universal Pictures|Original Film|Media Rights ...</td>\n",
       "      <td>2947</td>\n",
       "      <td>7.3</td>\n",
       "      <td>2015</td>\n",
       "      <td>1.747999e+08</td>\n",
       "      <td>1.385749e+09</td>\n",
       "      <td>1.210949e+09</td>\n",
       "    </tr>\n",
       "  </tbody>\n",
       "</table>\n",
       "</div>"
      ],
      "text/plain": [
       "     imdb_id  popularity                original_title  \\\n",
       "0  tt0369610   32.985763                Jurassic World   \n",
       "1  tt1392190   28.419936            Mad Max: Fury Road   \n",
       "2  tt2908446   13.112507                     Insurgent   \n",
       "3  tt2488496   11.173104  Star Wars: The Force Awakens   \n",
       "4  tt2820852    9.335014                     Furious 7   \n",
       "\n",
       "                                                cast          director  \\\n",
       "0  Chris Pratt|Bryce Dallas Howard|Irrfan Khan|Vi...   Colin Trevorrow   \n",
       "1  Tom Hardy|Charlize Theron|Hugh Keays-Byrne|Nic...     George Miller   \n",
       "2  Shailene Woodley|Theo James|Kate Winslet|Ansel...  Robert Schwentke   \n",
       "3  Harrison Ford|Mark Hamill|Carrie Fisher|Adam D...       J.J. Abrams   \n",
       "4  Vin Diesel|Paul Walker|Jason Statham|Michelle ...         James Wan   \n",
       "\n",
       "                                            keywords  runtime  \\\n",
       "0  monster|dna|tyrannosaurus rex|velociraptor|island      124   \n",
       "1   future|chase|post-apocalyptic|dystopia|australia      120   \n",
       "2  based on novel|revolution|dystopia|sequel|dyst...      119   \n",
       "3              android|spaceship|jedi|space opera|3d      136   \n",
       "4                car race|speed|revenge|suspense|car      137   \n",
       "\n",
       "                                      genres  \\\n",
       "0  Action|Adventure|Science Fiction|Thriller   \n",
       "1  Action|Adventure|Science Fiction|Thriller   \n",
       "2         Adventure|Science Fiction|Thriller   \n",
       "3   Action|Adventure|Science Fiction|Fantasy   \n",
       "4                      Action|Crime|Thriller   \n",
       "\n",
       "                                production_companies  vote_count  \\\n",
       "0  Universal Studios|Amblin Entertainment|Legenda...        5562   \n",
       "1  Village Roadshow Pictures|Kennedy Miller Produ...        6185   \n",
       "2  Summit Entertainment|Mandeville Films|Red Wago...        2480   \n",
       "3          Lucasfilm|Truenorth Productions|Bad Robot        5292   \n",
       "4  Universal Pictures|Original Film|Media Rights ...        2947   \n",
       "\n",
       "   vote_average  release_year    budget_adj   revenue_adj    net_income  \n",
       "0           6.5          2015  1.379999e+08  1.392446e+09  1.254446e+09  \n",
       "1           7.1          2015  1.379999e+08  3.481613e+08  2.101614e+08  \n",
       "2           6.3          2015  1.012000e+08  2.716190e+08  1.704191e+08  \n",
       "3           7.5          2015  1.839999e+08  1.902723e+09  1.718723e+09  \n",
       "4           7.3          2015  1.747999e+08  1.385749e+09  1.210949e+09  "
      ]
     },
     "execution_count": 150,
     "metadata": {},
     "output_type": "execute_result"
    }
   ],
   "source": [
    "df.head()"
   ]
  },
  {
   "cell_type": "code",
   "execution_count": 151,
   "id": "b010d766",
   "metadata": {},
   "outputs": [
    {
     "data": {
      "application/com.datacamp.data-table.v1+json": {
       "is_truncated": false,
       "table": {
        "data": [
         {
          "genres": "Action|Adventure|Science Fiction|Thriller",
          "index": 0,
          "release_year": 2015
         },
         {
          "genres": "Action|Adventure|Science Fiction|Thriller",
          "index": 1,
          "release_year": 2015
         },
         {
          "genres": "Adventure|Science Fiction|Thriller",
          "index": 2,
          "release_year": 2015
         },
         {
          "genres": "Action|Adventure|Science Fiction|Fantasy",
          "index": 3,
          "release_year": 2015
         },
         {
          "genres": "Action|Crime|Thriller",
          "index": 4,
          "release_year": 2015
         }
        ],
        "schema": {
         "fields": [
          {
           "name": "index",
           "type": "integer"
          },
          {
           "name": "genres",
           "type": "string"
          },
          {
           "name": "release_year",
           "type": "integer"
          }
         ],
         "pandas_version": "0.20.0",
         "primaryKey": [
          "index"
         ]
        }
       },
       "total_rows": 5
      },
      "text/html": [
       "<div>\n",
       "<style scoped>\n",
       "    .dataframe tbody tr th:only-of-type {\n",
       "        vertical-align: middle;\n",
       "    }\n",
       "\n",
       "    .dataframe tbody tr th {\n",
       "        vertical-align: top;\n",
       "    }\n",
       "\n",
       "    .dataframe thead th {\n",
       "        text-align: right;\n",
       "    }\n",
       "</style>\n",
       "<table border=\"1\" class=\"dataframe\">\n",
       "  <thead>\n",
       "    <tr style=\"text-align: right;\">\n",
       "      <th></th>\n",
       "      <th>genres</th>\n",
       "      <th>release_year</th>\n",
       "    </tr>\n",
       "  </thead>\n",
       "  <tbody>\n",
       "    <tr>\n",
       "      <th>0</th>\n",
       "      <td>Action|Adventure|Science Fiction|Thriller</td>\n",
       "      <td>2015</td>\n",
       "    </tr>\n",
       "    <tr>\n",
       "      <th>1</th>\n",
       "      <td>Action|Adventure|Science Fiction|Thriller</td>\n",
       "      <td>2015</td>\n",
       "    </tr>\n",
       "    <tr>\n",
       "      <th>2</th>\n",
       "      <td>Adventure|Science Fiction|Thriller</td>\n",
       "      <td>2015</td>\n",
       "    </tr>\n",
       "    <tr>\n",
       "      <th>3</th>\n",
       "      <td>Action|Adventure|Science Fiction|Fantasy</td>\n",
       "      <td>2015</td>\n",
       "    </tr>\n",
       "    <tr>\n",
       "      <th>4</th>\n",
       "      <td>Action|Crime|Thriller</td>\n",
       "      <td>2015</td>\n",
       "    </tr>\n",
       "  </tbody>\n",
       "</table>\n",
       "</div>"
      ],
      "text/plain": [
       "                                      genres  release_year\n",
       "0  Action|Adventure|Science Fiction|Thriller          2015\n",
       "1  Action|Adventure|Science Fiction|Thriller          2015\n",
       "2         Adventure|Science Fiction|Thriller          2015\n",
       "3   Action|Adventure|Science Fiction|Fantasy          2015\n",
       "4                      Action|Crime|Thriller          2015"
      ]
     },
     "execution_count": 151,
     "metadata": {},
     "output_type": "execute_result"
    }
   ],
   "source": [
    "gr_data=df[['genres','release_year']]\n",
    "gr_data.head()"
   ]
  },
  {
   "cell_type": "code",
   "execution_count": 152,
   "id": "5f4c5cb1",
   "metadata": {
    "scrolled": true
   },
   "outputs": [
    {
     "name": "stdout",
     "output_type": "stream",
     "text": [
      "{1960, 1961, 1962, 1963, 1964, 1965, 1966, 1967, 1968, 1969, 1970, 1971, 1972, 1973, 1974, 1975, 1976, 1977, 1978, 1979, 1980, 1981, 1982, 1983, 1984, 1985, 1986, 1987, 1988, 1989, 1990, 1991, 1992, 1993, 1994, 1995, 1996, 1997, 1998, 1999, 2000, 2001, 2002, 2003, 2004, 2005, 2006, 2007, 2008, 2009, 2010, 2011, 2012, 2013, 2014, 2015} 56\n"
     ]
    }
   ],
   "source": [
    "years_set=set() #This will be our index later in the dataframe.\n",
    "years=gr_data['release_year'].drop_duplicates()\n",
    "for year in years:\n",
    "    if year not in years_set:\n",
    "        years_set.add(year) #We can not use append here, because this is a \"set\".       \n",
    "print(years_set,len(years_set))\n",
    "#years_set=df['release_year'].unique() We can use unique method also in here. \n",
    "#years_set"
   ]
  },
  {
   "cell_type": "code",
   "execution_count": 153,
   "id": "8892a331",
   "metadata": {},
   "outputs": [
    {
     "name": "stdout",
     "output_type": "stream",
     "text": [
      "{'Music', 'Documentary', 'Foreign', 'Romance', 'Mystery', 'Adventure', 'Western', 'Animation', 'Action', 'Science Fiction', 'TV Movie', 'Comedy', 'Fantasy', 'Family', 'Crime', 'Horror', 'History', 'War', 'Thriller', 'Drama'} 20\n"
     ]
    }
   ],
   "source": [
    "genres=set() #This will be our columns later in the dataframe. \n",
    "for year in years_set:\n",
    "    genre_data=gr_data[gr_data['release_year']==year]['genres']\n",
    "    for i in genre_data:\n",
    "        for genre in i.split('|'):\n",
    "            if genre not in genres:\n",
    "                genres.add(genre)\n",
    "print(genres,len(genres))"
   ]
  },
  {
   "cell_type": "code",
   "execution_count": 154,
   "id": "67cf2721",
   "metadata": {},
   "outputs": [
    {
     "data": {
      "application/com.datacamp.data-table.v1+json": {
       "is_truncated": false,
       "table": {
        "data": [
         {
          "Action": 0,
          "Adventure": 0,
          "Animation": 0,
          "Comedy": 0,
          "Crime": 0,
          "Documentary": 0,
          "Drama": 0,
          "Family": 0,
          "Fantasy": 0,
          "Foreign": 0,
          "History": 0,
          "Horror": 0,
          "Music": 0,
          "Mystery": 0,
          "Romance": 0,
          "Science Fiction": 0,
          "TV Movie": 0,
          "Thriller": 0,
          "War": 0,
          "Western": 0,
          "index": 1960
         },
         {
          "Action": 0,
          "Adventure": 0,
          "Animation": 0,
          "Comedy": 0,
          "Crime": 0,
          "Documentary": 0,
          "Drama": 0,
          "Family": 0,
          "Fantasy": 0,
          "Foreign": 0,
          "History": 0,
          "Horror": 0,
          "Music": 0,
          "Mystery": 0,
          "Romance": 0,
          "Science Fiction": 0,
          "TV Movie": 0,
          "Thriller": 0,
          "War": 0,
          "Western": 0,
          "index": 1961
         },
         {
          "Action": 0,
          "Adventure": 0,
          "Animation": 0,
          "Comedy": 0,
          "Crime": 0,
          "Documentary": 0,
          "Drama": 0,
          "Family": 0,
          "Fantasy": 0,
          "Foreign": 0,
          "History": 0,
          "Horror": 0,
          "Music": 0,
          "Mystery": 0,
          "Romance": 0,
          "Science Fiction": 0,
          "TV Movie": 0,
          "Thriller": 0,
          "War": 0,
          "Western": 0,
          "index": 1962
         },
         {
          "Action": 0,
          "Adventure": 0,
          "Animation": 0,
          "Comedy": 0,
          "Crime": 0,
          "Documentary": 0,
          "Drama": 0,
          "Family": 0,
          "Fantasy": 0,
          "Foreign": 0,
          "History": 0,
          "Horror": 0,
          "Music": 0,
          "Mystery": 0,
          "Romance": 0,
          "Science Fiction": 0,
          "TV Movie": 0,
          "Thriller": 0,
          "War": 0,
          "Western": 0,
          "index": 1963
         },
         {
          "Action": 0,
          "Adventure": 0,
          "Animation": 0,
          "Comedy": 0,
          "Crime": 0,
          "Documentary": 0,
          "Drama": 0,
          "Family": 0,
          "Fantasy": 0,
          "Foreign": 0,
          "History": 0,
          "Horror": 0,
          "Music": 0,
          "Mystery": 0,
          "Romance": 0,
          "Science Fiction": 0,
          "TV Movie": 0,
          "Thriller": 0,
          "War": 0,
          "Western": 0,
          "index": 1964
         }
        ],
        "schema": {
         "fields": [
          {
           "name": "index",
           "type": "integer"
          },
          {
           "name": "Music",
           "type": "string"
          },
          {
           "name": "Documentary",
           "type": "string"
          },
          {
           "name": "Foreign",
           "type": "string"
          },
          {
           "name": "Romance",
           "type": "string"
          },
          {
           "name": "Mystery",
           "type": "string"
          },
          {
           "name": "Adventure",
           "type": "string"
          },
          {
           "name": "Western",
           "type": "string"
          },
          {
           "name": "Animation",
           "type": "string"
          },
          {
           "name": "Action",
           "type": "string"
          },
          {
           "name": "Science Fiction",
           "type": "string"
          },
          {
           "name": "TV Movie",
           "type": "string"
          },
          {
           "name": "Comedy",
           "type": "string"
          },
          {
           "name": "Fantasy",
           "type": "string"
          },
          {
           "name": "Family",
           "type": "string"
          },
          {
           "name": "Crime",
           "type": "string"
          },
          {
           "name": "Horror",
           "type": "string"
          },
          {
           "name": "History",
           "type": "string"
          },
          {
           "name": "War",
           "type": "string"
          },
          {
           "name": "Thriller",
           "type": "string"
          },
          {
           "name": "Drama",
           "type": "string"
          }
         ],
         "pandas_version": "0.20.0",
         "primaryKey": [
          "index"
         ]
        }
       },
       "total_rows": 5
      },
      "text/html": [
       "<div>\n",
       "<style scoped>\n",
       "    .dataframe tbody tr th:only-of-type {\n",
       "        vertical-align: middle;\n",
       "    }\n",
       "\n",
       "    .dataframe tbody tr th {\n",
       "        vertical-align: top;\n",
       "    }\n",
       "\n",
       "    .dataframe thead th {\n",
       "        text-align: right;\n",
       "    }\n",
       "</style>\n",
       "<table border=\"1\" class=\"dataframe\">\n",
       "  <thead>\n",
       "    <tr style=\"text-align: right;\">\n",
       "      <th></th>\n",
       "      <th>Music</th>\n",
       "      <th>Documentary</th>\n",
       "      <th>Foreign</th>\n",
       "      <th>Romance</th>\n",
       "      <th>Mystery</th>\n",
       "      <th>Adventure</th>\n",
       "      <th>Western</th>\n",
       "      <th>Animation</th>\n",
       "      <th>Action</th>\n",
       "      <th>Science Fiction</th>\n",
       "      <th>TV Movie</th>\n",
       "      <th>Comedy</th>\n",
       "      <th>Fantasy</th>\n",
       "      <th>Family</th>\n",
       "      <th>Crime</th>\n",
       "      <th>Horror</th>\n",
       "      <th>History</th>\n",
       "      <th>War</th>\n",
       "      <th>Thriller</th>\n",
       "      <th>Drama</th>\n",
       "    </tr>\n",
       "  </thead>\n",
       "  <tbody>\n",
       "    <tr>\n",
       "      <th>1960</th>\n",
       "      <td>0</td>\n",
       "      <td>0</td>\n",
       "      <td>0</td>\n",
       "      <td>0</td>\n",
       "      <td>0</td>\n",
       "      <td>0</td>\n",
       "      <td>0</td>\n",
       "      <td>0</td>\n",
       "      <td>0</td>\n",
       "      <td>0</td>\n",
       "      <td>0</td>\n",
       "      <td>0</td>\n",
       "      <td>0</td>\n",
       "      <td>0</td>\n",
       "      <td>0</td>\n",
       "      <td>0</td>\n",
       "      <td>0</td>\n",
       "      <td>0</td>\n",
       "      <td>0</td>\n",
       "      <td>0</td>\n",
       "    </tr>\n",
       "    <tr>\n",
       "      <th>1961</th>\n",
       "      <td>0</td>\n",
       "      <td>0</td>\n",
       "      <td>0</td>\n",
       "      <td>0</td>\n",
       "      <td>0</td>\n",
       "      <td>0</td>\n",
       "      <td>0</td>\n",
       "      <td>0</td>\n",
       "      <td>0</td>\n",
       "      <td>0</td>\n",
       "      <td>0</td>\n",
       "      <td>0</td>\n",
       "      <td>0</td>\n",
       "      <td>0</td>\n",
       "      <td>0</td>\n",
       "      <td>0</td>\n",
       "      <td>0</td>\n",
       "      <td>0</td>\n",
       "      <td>0</td>\n",
       "      <td>0</td>\n",
       "    </tr>\n",
       "    <tr>\n",
       "      <th>1962</th>\n",
       "      <td>0</td>\n",
       "      <td>0</td>\n",
       "      <td>0</td>\n",
       "      <td>0</td>\n",
       "      <td>0</td>\n",
       "      <td>0</td>\n",
       "      <td>0</td>\n",
       "      <td>0</td>\n",
       "      <td>0</td>\n",
       "      <td>0</td>\n",
       "      <td>0</td>\n",
       "      <td>0</td>\n",
       "      <td>0</td>\n",
       "      <td>0</td>\n",
       "      <td>0</td>\n",
       "      <td>0</td>\n",
       "      <td>0</td>\n",
       "      <td>0</td>\n",
       "      <td>0</td>\n",
       "      <td>0</td>\n",
       "    </tr>\n",
       "    <tr>\n",
       "      <th>1963</th>\n",
       "      <td>0</td>\n",
       "      <td>0</td>\n",
       "      <td>0</td>\n",
       "      <td>0</td>\n",
       "      <td>0</td>\n",
       "      <td>0</td>\n",
       "      <td>0</td>\n",
       "      <td>0</td>\n",
       "      <td>0</td>\n",
       "      <td>0</td>\n",
       "      <td>0</td>\n",
       "      <td>0</td>\n",
       "      <td>0</td>\n",
       "      <td>0</td>\n",
       "      <td>0</td>\n",
       "      <td>0</td>\n",
       "      <td>0</td>\n",
       "      <td>0</td>\n",
       "      <td>0</td>\n",
       "      <td>0</td>\n",
       "    </tr>\n",
       "    <tr>\n",
       "      <th>1964</th>\n",
       "      <td>0</td>\n",
       "      <td>0</td>\n",
       "      <td>0</td>\n",
       "      <td>0</td>\n",
       "      <td>0</td>\n",
       "      <td>0</td>\n",
       "      <td>0</td>\n",
       "      <td>0</td>\n",
       "      <td>0</td>\n",
       "      <td>0</td>\n",
       "      <td>0</td>\n",
       "      <td>0</td>\n",
       "      <td>0</td>\n",
       "      <td>0</td>\n",
       "      <td>0</td>\n",
       "      <td>0</td>\n",
       "      <td>0</td>\n",
       "      <td>0</td>\n",
       "      <td>0</td>\n",
       "      <td>0</td>\n",
       "    </tr>\n",
       "  </tbody>\n",
       "</table>\n",
       "</div>"
      ],
      "text/plain": [
       "     Music Documentary Foreign Romance Mystery Adventure Western Animation  \\\n",
       "1960     0           0       0       0       0         0       0         0   \n",
       "1961     0           0       0       0       0         0       0         0   \n",
       "1962     0           0       0       0       0         0       0         0   \n",
       "1963     0           0       0       0       0         0       0         0   \n",
       "1964     0           0       0       0       0         0       0         0   \n",
       "\n",
       "     Action Science Fiction TV Movie Comedy Fantasy Family Crime Horror  \\\n",
       "1960      0               0        0      0       0      0     0      0   \n",
       "1961      0               0        0      0       0      0     0      0   \n",
       "1962      0               0        0      0       0      0     0      0   \n",
       "1963      0               0        0      0       0      0     0      0   \n",
       "1964      0               0        0      0       0      0     0      0   \n",
       "\n",
       "     History War Thriller Drama  \n",
       "1960       0   0        0     0  \n",
       "1961       0   0        0     0  \n",
       "1962       0   0        0     0  \n",
       "1963       0   0        0     0  \n",
       "1964       0   0        0     0  "
      ]
     },
     "execution_count": 154,
     "metadata": {},
     "output_type": "execute_result"
    }
   ],
   "source": [
    "genre_df=pd.DataFrame(index=years_set,columns=genres) #We have defined our dataframe in here. \n",
    "genre_df[:]=0 #We have added value 0 to make calculation.\n",
    "genre_df.head()"
   ]
  },
  {
   "cell_type": "code",
   "execution_count": 155,
   "id": "317818a6",
   "metadata": {},
   "outputs": [],
   "source": [
    "for year in years_set: #years_set \n",
    "    dict_genres={}\n",
    "    genre_data=gr_data[gr_data['release_year']==year]['genres']\n",
    "    for i in genre_data:\n",
    "        for genre in i.split('|'):\n",
    "            if genre in dict_genres:\n",
    "                dict_genres[genre]+=1\n",
    "            else:\n",
    "                dict_genres[genre]=1\n",
    "                \n",
    "    df_dict_genres=pd.DataFrame(dict_genres, index=[year]) #We have created our dict_genres dataframe in here. \n",
    "    genre_df.loc[year,df_dict_genres.columns]= genre_df.loc[year,df_dict_genres.columns] + df_dict_genres.loc[year,df_dict_genres.columns] #We have filled our genre_df dataframe in here."
   ]
  },
  {
   "cell_type": "code",
   "execution_count": 156,
   "id": "0c119ffb",
   "metadata": {
    "scrolled": true
   },
   "outputs": [
    {
     "data": {
      "application/com.datacamp.data-table.v1+json": {
       "is_truncated": false,
       "table": {
        "data": [
         {
          "Action": 8,
          "Adventure": 5,
          "Animation": 0,
          "Comedy": 8,
          "Crime": 2,
          "Documentary": 0,
          "Drama": 13,
          "Family": 3,
          "Fantasy": 2,
          "Foreign": 1,
          "History": 5,
          "Horror": 7,
          "Music": 1,
          "Mystery": 0,
          "Romance": 6,
          "Science Fiction": 3,
          "TV Movie": 0,
          "Thriller": 6,
          "War": 2,
          "Western": 6,
          "index": 1960
         },
         {
          "Action": 7,
          "Adventure": 6,
          "Animation": 1,
          "Comedy": 10,
          "Crime": 2,
          "Documentary": 0,
          "Drama": 16,
          "Family": 5,
          "Fantasy": 2,
          "Foreign": 1,
          "History": 3,
          "Horror": 3,
          "Music": 2,
          "Mystery": 1,
          "Romance": 7,
          "Science Fiction": 4,
          "TV Movie": 0,
          "Thriller": 0,
          "War": 2,
          "Western": 3,
          "index": 1961
         },
         {
          "Action": 8,
          "Adventure": 7,
          "Animation": 0,
          "Comedy": 5,
          "Crime": 3,
          "Documentary": 0,
          "Drama": 21,
          "Family": 2,
          "Fantasy": 1,
          "Foreign": 1,
          "History": 4,
          "Horror": 5,
          "Music": 1,
          "Mystery": 4,
          "Romance": 5,
          "Science Fiction": 2,
          "TV Movie": 0,
          "Thriller": 7,
          "War": 3,
          "Western": 3,
          "index": 1962
         },
         {
          "Action": 4,
          "Adventure": 7,
          "Animation": 1,
          "Comedy": 13,
          "Crime": 4,
          "Documentary": 0,
          "Drama": 13,
          "Family": 3,
          "Fantasy": 2,
          "Foreign": 2,
          "History": 4,
          "Horror": 9,
          "Music": 0,
          "Mystery": 6,
          "Romance": 8,
          "Science Fiction": 2,
          "TV Movie": 0,
          "Thriller": 10,
          "War": 1,
          "Western": 2,
          "index": 1963
         },
         {
          "Action": 5,
          "Adventure": 5,
          "Animation": 2,
          "Comedy": 16,
          "Crime": 10,
          "Documentary": 0,
          "Drama": 20,
          "Family": 4,
          "Fantasy": 4,
          "Foreign": 1,
          "History": 3,
          "Horror": 6,
          "Music": 5,
          "Mystery": 4,
          "Romance": 9,
          "Science Fiction": 4,
          "TV Movie": 0,
          "Thriller": 9,
          "War": 3,
          "Western": 1,
          "index": 1964
         }
        ],
        "schema": {
         "fields": [
          {
           "name": "index",
           "type": "integer"
          },
          {
           "name": "Music",
           "type": "string"
          },
          {
           "name": "Documentary",
           "type": "string"
          },
          {
           "name": "Foreign",
           "type": "string"
          },
          {
           "name": "Romance",
           "type": "string"
          },
          {
           "name": "Mystery",
           "type": "string"
          },
          {
           "name": "Adventure",
           "type": "string"
          },
          {
           "name": "Western",
           "type": "string"
          },
          {
           "name": "Animation",
           "type": "string"
          },
          {
           "name": "Action",
           "type": "string"
          },
          {
           "name": "Science Fiction",
           "type": "string"
          },
          {
           "name": "TV Movie",
           "type": "string"
          },
          {
           "name": "Comedy",
           "type": "string"
          },
          {
           "name": "Fantasy",
           "type": "string"
          },
          {
           "name": "Family",
           "type": "string"
          },
          {
           "name": "Crime",
           "type": "string"
          },
          {
           "name": "Horror",
           "type": "string"
          },
          {
           "name": "History",
           "type": "string"
          },
          {
           "name": "War",
           "type": "string"
          },
          {
           "name": "Thriller",
           "type": "string"
          },
          {
           "name": "Drama",
           "type": "string"
          }
         ],
         "pandas_version": "0.20.0",
         "primaryKey": [
          "index"
         ]
        }
       },
       "total_rows": 5
      },
      "text/html": [
       "<div>\n",
       "<style scoped>\n",
       "    .dataframe tbody tr th:only-of-type {\n",
       "        vertical-align: middle;\n",
       "    }\n",
       "\n",
       "    .dataframe tbody tr th {\n",
       "        vertical-align: top;\n",
       "    }\n",
       "\n",
       "    .dataframe thead th {\n",
       "        text-align: right;\n",
       "    }\n",
       "</style>\n",
       "<table border=\"1\" class=\"dataframe\">\n",
       "  <thead>\n",
       "    <tr style=\"text-align: right;\">\n",
       "      <th></th>\n",
       "      <th>Music</th>\n",
       "      <th>Documentary</th>\n",
       "      <th>Foreign</th>\n",
       "      <th>Romance</th>\n",
       "      <th>Mystery</th>\n",
       "      <th>Adventure</th>\n",
       "      <th>Western</th>\n",
       "      <th>Animation</th>\n",
       "      <th>Action</th>\n",
       "      <th>Science Fiction</th>\n",
       "      <th>TV Movie</th>\n",
       "      <th>Comedy</th>\n",
       "      <th>Fantasy</th>\n",
       "      <th>Family</th>\n",
       "      <th>Crime</th>\n",
       "      <th>Horror</th>\n",
       "      <th>History</th>\n",
       "      <th>War</th>\n",
       "      <th>Thriller</th>\n",
       "      <th>Drama</th>\n",
       "    </tr>\n",
       "  </thead>\n",
       "  <tbody>\n",
       "    <tr>\n",
       "      <th>1960</th>\n",
       "      <td>1</td>\n",
       "      <td>0</td>\n",
       "      <td>1</td>\n",
       "      <td>6</td>\n",
       "      <td>0</td>\n",
       "      <td>5</td>\n",
       "      <td>6</td>\n",
       "      <td>0</td>\n",
       "      <td>8</td>\n",
       "      <td>3</td>\n",
       "      <td>0</td>\n",
       "      <td>8</td>\n",
       "      <td>2</td>\n",
       "      <td>3</td>\n",
       "      <td>2</td>\n",
       "      <td>7</td>\n",
       "      <td>5</td>\n",
       "      <td>2</td>\n",
       "      <td>6</td>\n",
       "      <td>13</td>\n",
       "    </tr>\n",
       "    <tr>\n",
       "      <th>1961</th>\n",
       "      <td>2</td>\n",
       "      <td>0</td>\n",
       "      <td>1</td>\n",
       "      <td>7</td>\n",
       "      <td>1</td>\n",
       "      <td>6</td>\n",
       "      <td>3</td>\n",
       "      <td>1</td>\n",
       "      <td>7</td>\n",
       "      <td>4</td>\n",
       "      <td>0</td>\n",
       "      <td>10</td>\n",
       "      <td>2</td>\n",
       "      <td>5</td>\n",
       "      <td>2</td>\n",
       "      <td>3</td>\n",
       "      <td>3</td>\n",
       "      <td>2</td>\n",
       "      <td>0</td>\n",
       "      <td>16</td>\n",
       "    </tr>\n",
       "    <tr>\n",
       "      <th>1962</th>\n",
       "      <td>1</td>\n",
       "      <td>0</td>\n",
       "      <td>1</td>\n",
       "      <td>5</td>\n",
       "      <td>4</td>\n",
       "      <td>7</td>\n",
       "      <td>3</td>\n",
       "      <td>0</td>\n",
       "      <td>8</td>\n",
       "      <td>2</td>\n",
       "      <td>0</td>\n",
       "      <td>5</td>\n",
       "      <td>1</td>\n",
       "      <td>2</td>\n",
       "      <td>3</td>\n",
       "      <td>5</td>\n",
       "      <td>4</td>\n",
       "      <td>3</td>\n",
       "      <td>7</td>\n",
       "      <td>21</td>\n",
       "    </tr>\n",
       "    <tr>\n",
       "      <th>1963</th>\n",
       "      <td>0</td>\n",
       "      <td>0</td>\n",
       "      <td>2</td>\n",
       "      <td>8</td>\n",
       "      <td>6</td>\n",
       "      <td>7</td>\n",
       "      <td>2</td>\n",
       "      <td>1</td>\n",
       "      <td>4</td>\n",
       "      <td>2</td>\n",
       "      <td>0</td>\n",
       "      <td>13</td>\n",
       "      <td>2</td>\n",
       "      <td>3</td>\n",
       "      <td>4</td>\n",
       "      <td>9</td>\n",
       "      <td>4</td>\n",
       "      <td>1</td>\n",
       "      <td>10</td>\n",
       "      <td>13</td>\n",
       "    </tr>\n",
       "    <tr>\n",
       "      <th>1964</th>\n",
       "      <td>5</td>\n",
       "      <td>0</td>\n",
       "      <td>1</td>\n",
       "      <td>9</td>\n",
       "      <td>4</td>\n",
       "      <td>5</td>\n",
       "      <td>1</td>\n",
       "      <td>2</td>\n",
       "      <td>5</td>\n",
       "      <td>4</td>\n",
       "      <td>0</td>\n",
       "      <td>16</td>\n",
       "      <td>4</td>\n",
       "      <td>4</td>\n",
       "      <td>10</td>\n",
       "      <td>6</td>\n",
       "      <td>3</td>\n",
       "      <td>3</td>\n",
       "      <td>9</td>\n",
       "      <td>20</td>\n",
       "    </tr>\n",
       "  </tbody>\n",
       "</table>\n",
       "</div>"
      ],
      "text/plain": [
       "     Music Documentary Foreign Romance Mystery Adventure Western Animation  \\\n",
       "1960     1           0       1       6       0         5       6         0   \n",
       "1961     2           0       1       7       1         6       3         1   \n",
       "1962     1           0       1       5       4         7       3         0   \n",
       "1963     0           0       2       8       6         7       2         1   \n",
       "1964     5           0       1       9       4         5       1         2   \n",
       "\n",
       "     Action Science Fiction TV Movie Comedy Fantasy Family Crime Horror  \\\n",
       "1960      8               3        0      8       2      3     2      7   \n",
       "1961      7               4        0     10       2      5     2      3   \n",
       "1962      8               2        0      5       1      2     3      5   \n",
       "1963      4               2        0     13       2      3     4      9   \n",
       "1964      5               4        0     16       4      4    10      6   \n",
       "\n",
       "     History War Thriller Drama  \n",
       "1960       5   2        6    13  \n",
       "1961       3   2        0    16  \n",
       "1962       4   3        7    21  \n",
       "1963       4   1       10    13  \n",
       "1964       3   3        9    20  "
      ]
     },
     "execution_count": 156,
     "metadata": {},
     "output_type": "execute_result"
    }
   ],
   "source": [
    "genre_df.head(5) #When we quickly check we see that drama has a domination on this dataset. We will check this now."
   ]
  },
  {
   "cell_type": "code",
   "execution_count": 159,
   "id": "465b26a5",
   "metadata": {},
   "outputs": [],
   "source": [
    "list(genre_df)\n",
    "genre_df[list]=genre_df[list].astype(int) #We changed our columns type to int. "
   ]
  },
  {
   "cell_type": "code",
   "execution_count": 160,
   "id": "73d5183c-d715-4ed8-aff2-171967fffbd5",
   "metadata": {},
   "outputs": [
    {
     "data": {
      "text/plain": [
       "array(['Drama', 'Drama', 'Drama', 'Comedy', 'Drama', 'Drama', 'Comedy',\n",
       "       'Comedy', 'Drama', 'Drama', 'Drama', 'Drama', 'Drama', 'Drama',\n",
       "       'Drama', 'Drama', 'Drama', 'Drama', 'Drama', 'Drama', 'Drama',\n",
       "       'Drama', 'Drama', 'Drama', 'Drama', 'Comedy', 'Drama', 'Comedy',\n",
       "       'Comedy', 'Comedy', 'Drama', 'Drama', 'Drama', 'Drama', 'Comedy',\n",
       "       'Drama', 'Drama', 'Drama', 'Drama', 'Drama', 'Drama', 'Comedy',\n",
       "       'Drama', 'Comedy', 'Drama', 'Drama', 'Drama', 'Drama', 'Drama',\n",
       "       'Drama', 'Drama', 'Drama', 'Drama', 'Drama', 'Drama', 'Drama'],\n",
       "      dtype=object)"
      ]
     },
     "execution_count": 160,
     "metadata": {},
     "output_type": "execute_result"
    }
   ],
   "source": [
    "genre_df.idxmax(axis=1).values"
   ]
  },
  {
   "cell_type": "code",
   "execution_count": 161,
   "id": "c7494655-99c4-4938-ab38-09871657f0f7",
   "metadata": {},
   "outputs": [
    {
     "data": {
      "text/plain": [
       "array([ 13,  16,  21,  13,  20,  20,  16,  17,  19,  13,  19,  30,  16,\n",
       "        31,  21,  17,  22,  23,  29,  30,  32,  32,  33,  35,  40,  51,\n",
       "        51,  57,  69,  63,  60,  63,  65,  90,  88,  93, 104,  83, 108,\n",
       "       113, 100, 101, 129, 111, 141, 182, 196, 195, 232, 222, 208, 213,\n",
       "       231, 253, 284, 260])"
      ]
     },
     "execution_count": 161,
     "metadata": {},
     "output_type": "execute_result"
    }
   ],
   "source": [
    "genre_df.apply(max,axis=1).values #genre_df.max(axis=1).values"
   ]
  },
  {
   "cell_type": "code",
   "execution_count": 162,
   "id": "6c517c1d",
   "metadata": {},
   "outputs": [
    {
     "data": {
      "text/plain": [
       "[array(['Drama', 'Drama', 'Drama', 'Comedy', 'Drama', 'Drama', 'Comedy',\n",
       "        'Comedy', 'Drama', 'Drama', 'Drama', 'Drama', 'Drama', 'Drama',\n",
       "        'Drama', 'Drama', 'Drama', 'Drama', 'Drama', 'Drama', 'Drama',\n",
       "        'Drama', 'Drama', 'Drama', 'Drama', 'Comedy', 'Drama', 'Comedy',\n",
       "        'Comedy', 'Comedy', 'Drama', 'Drama', 'Drama', 'Drama', 'Comedy',\n",
       "        'Drama', 'Drama', 'Drama', 'Drama', 'Drama', 'Drama', 'Comedy',\n",
       "        'Drama', 'Comedy', 'Drama', 'Drama', 'Drama', 'Drama', 'Drama',\n",
       "        'Drama', 'Drama', 'Drama', 'Drama', 'Drama', 'Drama', 'Drama'],\n",
       "       dtype=object),\n",
       " array([ 13,  16,  21,  13,  20,  20,  16,  17,  19,  13,  19,  30,  16,\n",
       "         31,  21,  17,  22,  23,  29,  30,  32,  32,  33,  35,  40,  51,\n",
       "         51,  57,  69,  63,  60,  63,  65,  90,  88,  93, 104,  83, 108,\n",
       "        113, 100, 101, 129, 111, 141, 182, 196, 195, 232, 222, 208, 213,\n",
       "        231, 253, 284, 260])]"
      ]
     },
     "execution_count": 162,
     "metadata": {},
     "output_type": "execute_result"
    }
   ],
   "source": [
    "genre_max_data=[genre_df.idxmax(axis=1).values, genre_df.apply(max,axis=1).values]\n",
    "genre_max_data"
   ]
  },
  {
   "cell_type": "code",
   "execution_count": 163,
   "id": "7f7c97c9",
   "metadata": {
    "scrolled": true
   },
   "outputs": [
    {
     "data": {
      "application/com.datacamp.data-table.v1+json": {
       "is_truncated": false,
       "table": {
        "data": [
         {
          "1960": "Drama",
          "1961": "Drama",
          "1962": "Drama",
          "1963": "Comedy",
          "1964": "Drama",
          "1965": "Drama",
          "1966": "Comedy",
          "1967": "Comedy",
          "1968": "Drama",
          "1969": "Drama",
          "1970": "Drama",
          "1971": "Drama",
          "1972": "Drama",
          "1973": "Drama",
          "1974": "Drama",
          "1975": "Drama",
          "1976": "Drama",
          "1977": "Drama",
          "1978": "Drama",
          "1979": "Drama",
          "1980": "Drama",
          "1981": "Drama",
          "1982": "Drama",
          "1983": "Drama",
          "1984": "Drama",
          "1985": "Comedy",
          "1986": "Drama",
          "1987": "Comedy",
          "1988": "Comedy",
          "1989": "Comedy",
          "1990": "Drama",
          "1991": "Drama",
          "1992": "Drama",
          "1993": "Drama",
          "1994": "Comedy",
          "1995": "Drama",
          "1996": "Drama",
          "1997": "Drama",
          "1998": "Drama",
          "1999": "Drama",
          "2000": "Drama",
          "2001": "Comedy",
          "2002": "Drama",
          "2003": "Comedy",
          "2004": "Drama",
          "2005": "Drama",
          "2006": "Drama",
          "2007": "Drama",
          "2008": "Drama",
          "2009": "Drama",
          "2010": "Drama",
          "2011": "Drama",
          "2012": "Drama",
          "2013": "Drama",
          "2014": "Drama",
          "2015": "Drama",
          "index": "Genre Type"
         },
         {
          "1960": 13,
          "1961": 16,
          "1962": 21,
          "1963": 13,
          "1964": 20,
          "1965": 20,
          "1966": 16,
          "1967": 17,
          "1968": 19,
          "1969": 13,
          "1970": 19,
          "1971": 30,
          "1972": 16,
          "1973": 31,
          "1974": 21,
          "1975": 17,
          "1976": 22,
          "1977": 23,
          "1978": 29,
          "1979": 30,
          "1980": 32,
          "1981": 32,
          "1982": 33,
          "1983": 35,
          "1984": 40,
          "1985": 51,
          "1986": 51,
          "1987": 57,
          "1988": 69,
          "1989": 63,
          "1990": 60,
          "1991": 63,
          "1992": 65,
          "1993": 90,
          "1994": 88,
          "1995": 93,
          "1996": 104,
          "1997": 83,
          "1998": 108,
          "1999": 113,
          "2000": 100,
          "2001": 101,
          "2002": 129,
          "2003": 111,
          "2004": 141,
          "2005": 182,
          "2006": 196,
          "2007": 195,
          "2008": 232,
          "2009": 222,
          "2010": 208,
          "2011": 213,
          "2012": 231,
          "2013": 253,
          "2014": 284,
          "2015": 260,
          "index": "Counts Of Genre Type"
         }
        ],
        "schema": {
         "fields": [
          {
           "name": "index",
           "type": "string"
          },
          {
           "name": 1960,
           "type": "string"
          },
          {
           "name": 1961,
           "type": "string"
          },
          {
           "name": 1962,
           "type": "string"
          },
          {
           "name": 1963,
           "type": "string"
          },
          {
           "name": 1964,
           "type": "string"
          },
          {
           "name": 1965,
           "type": "string"
          },
          {
           "name": 1966,
           "type": "string"
          },
          {
           "name": 1967,
           "type": "string"
          },
          {
           "name": 1968,
           "type": "string"
          },
          {
           "name": 1969,
           "type": "string"
          },
          {
           "name": 1970,
           "type": "string"
          },
          {
           "name": 1971,
           "type": "string"
          },
          {
           "name": 1972,
           "type": "string"
          },
          {
           "name": 1973,
           "type": "string"
          },
          {
           "name": 1974,
           "type": "string"
          },
          {
           "name": 1975,
           "type": "string"
          },
          {
           "name": 1976,
           "type": "string"
          },
          {
           "name": 1977,
           "type": "string"
          },
          {
           "name": 1978,
           "type": "string"
          },
          {
           "name": 1979,
           "type": "string"
          },
          {
           "name": 1980,
           "type": "string"
          },
          {
           "name": 1981,
           "type": "string"
          },
          {
           "name": 1982,
           "type": "string"
          },
          {
           "name": 1983,
           "type": "string"
          },
          {
           "name": 1984,
           "type": "string"
          },
          {
           "name": 1985,
           "type": "string"
          },
          {
           "name": 1986,
           "type": "string"
          },
          {
           "name": 1987,
           "type": "string"
          },
          {
           "name": 1988,
           "type": "string"
          },
          {
           "name": 1989,
           "type": "string"
          },
          {
           "name": 1990,
           "type": "string"
          },
          {
           "name": 1991,
           "type": "string"
          },
          {
           "name": 1992,
           "type": "string"
          },
          {
           "name": 1993,
           "type": "string"
          },
          {
           "name": 1994,
           "type": "string"
          },
          {
           "name": 1995,
           "type": "string"
          },
          {
           "name": 1996,
           "type": "string"
          },
          {
           "name": 1997,
           "type": "string"
          },
          {
           "name": 1998,
           "type": "string"
          },
          {
           "name": 1999,
           "type": "string"
          },
          {
           "name": 2000,
           "type": "string"
          },
          {
           "name": 2001,
           "type": "string"
          },
          {
           "name": 2002,
           "type": "string"
          },
          {
           "name": 2003,
           "type": "string"
          },
          {
           "name": 2004,
           "type": "string"
          },
          {
           "name": 2005,
           "type": "string"
          },
          {
           "name": 2006,
           "type": "string"
          },
          {
           "name": 2007,
           "type": "string"
          },
          {
           "name": 2008,
           "type": "string"
          },
          {
           "name": 2009,
           "type": "string"
          },
          {
           "name": 2010,
           "type": "string"
          },
          {
           "name": 2011,
           "type": "string"
          },
          {
           "name": 2012,
           "type": "string"
          },
          {
           "name": 2013,
           "type": "string"
          },
          {
           "name": 2014,
           "type": "string"
          },
          {
           "name": 2015,
           "type": "string"
          }
         ],
         "pandas_version": "0.20.0",
         "primaryKey": [
          "index"
         ]
        }
       },
       "total_rows": 2
      },
      "text/html": [
       "<div>\n",
       "<style scoped>\n",
       "    .dataframe tbody tr th:only-of-type {\n",
       "        vertical-align: middle;\n",
       "    }\n",
       "\n",
       "    .dataframe tbody tr th {\n",
       "        vertical-align: top;\n",
       "    }\n",
       "\n",
       "    .dataframe thead th {\n",
       "        text-align: right;\n",
       "    }\n",
       "</style>\n",
       "<table border=\"1\" class=\"dataframe\">\n",
       "  <thead>\n",
       "    <tr style=\"text-align: right;\">\n",
       "      <th></th>\n",
       "      <th>1960</th>\n",
       "      <th>1961</th>\n",
       "      <th>1962</th>\n",
       "      <th>1963</th>\n",
       "      <th>1964</th>\n",
       "      <th>1965</th>\n",
       "      <th>1966</th>\n",
       "      <th>1967</th>\n",
       "      <th>1968</th>\n",
       "      <th>1969</th>\n",
       "      <th>...</th>\n",
       "      <th>2006</th>\n",
       "      <th>2007</th>\n",
       "      <th>2008</th>\n",
       "      <th>2009</th>\n",
       "      <th>2010</th>\n",
       "      <th>2011</th>\n",
       "      <th>2012</th>\n",
       "      <th>2013</th>\n",
       "      <th>2014</th>\n",
       "      <th>2015</th>\n",
       "    </tr>\n",
       "  </thead>\n",
       "  <tbody>\n",
       "    <tr>\n",
       "      <th>Genre Type</th>\n",
       "      <td>Drama</td>\n",
       "      <td>Drama</td>\n",
       "      <td>Drama</td>\n",
       "      <td>Comedy</td>\n",
       "      <td>Drama</td>\n",
       "      <td>Drama</td>\n",
       "      <td>Comedy</td>\n",
       "      <td>Comedy</td>\n",
       "      <td>Drama</td>\n",
       "      <td>Drama</td>\n",
       "      <td>...</td>\n",
       "      <td>Drama</td>\n",
       "      <td>Drama</td>\n",
       "      <td>Drama</td>\n",
       "      <td>Drama</td>\n",
       "      <td>Drama</td>\n",
       "      <td>Drama</td>\n",
       "      <td>Drama</td>\n",
       "      <td>Drama</td>\n",
       "      <td>Drama</td>\n",
       "      <td>Drama</td>\n",
       "    </tr>\n",
       "    <tr>\n",
       "      <th>Counts Of Genre Type</th>\n",
       "      <td>13</td>\n",
       "      <td>16</td>\n",
       "      <td>21</td>\n",
       "      <td>13</td>\n",
       "      <td>20</td>\n",
       "      <td>20</td>\n",
       "      <td>16</td>\n",
       "      <td>17</td>\n",
       "      <td>19</td>\n",
       "      <td>13</td>\n",
       "      <td>...</td>\n",
       "      <td>196</td>\n",
       "      <td>195</td>\n",
       "      <td>232</td>\n",
       "      <td>222</td>\n",
       "      <td>208</td>\n",
       "      <td>213</td>\n",
       "      <td>231</td>\n",
       "      <td>253</td>\n",
       "      <td>284</td>\n",
       "      <td>260</td>\n",
       "    </tr>\n",
       "  </tbody>\n",
       "</table>\n",
       "<p>2 rows × 56 columns</p>\n",
       "</div>"
      ],
      "text/plain": [
       "                       1960   1961   1962    1963   1964   1965    1966  \\\n",
       "Genre Type            Drama  Drama  Drama  Comedy  Drama  Drama  Comedy   \n",
       "Counts Of Genre Type     13     16     21      13     20     20      16   \n",
       "\n",
       "                        1967   1968   1969  ...   2006   2007   2008   2009  \\\n",
       "Genre Type            Comedy  Drama  Drama  ...  Drama  Drama  Drama  Drama   \n",
       "Counts Of Genre Type      17     19     13  ...    196    195    232    222   \n",
       "\n",
       "                       2010   2011   2012   2013   2014   2015  \n",
       "Genre Type            Drama  Drama  Drama  Drama  Drama  Drama  \n",
       "Counts Of Genre Type    208    213    231    253    284    260  \n",
       "\n",
       "[2 rows x 56 columns]"
      ]
     },
     "execution_count": 163,
     "metadata": {},
     "output_type": "execute_result"
    }
   ],
   "source": [
    "most_genres_df=pd.DataFrame(data=genre_max_data, columns=genre_df.index,index=['Genre Type','Counts Of Genre Type'])\n",
    "most_genres_df.head()"
   ]
  },
  {
   "cell_type": "code",
   "execution_count": 67,
   "id": "d32517a3-47ba-4d6b-8b73-019242c0e80c",
   "metadata": {},
   "outputs": [
    {
     "data": {
      "application/com.datacamp.data-table.v1+json": {
       "is_truncated": false,
       "table": {
        "data": [
         {
          "2011": "Drama",
          "2012": "Drama",
          "2013": "Drama",
          "2014": "Drama",
          "2015": "Drama",
          "index": "Genre Type"
         },
         {
          "2011": 213,
          "2012": 231,
          "2013": 253,
          "2014": 284,
          "2015": 260,
          "index": "Counts Of Genre Type"
         }
        ],
        "schema": {
         "fields": [
          {
           "name": "index",
           "type": "string"
          },
          {
           "name": 2011,
           "type": "string"
          },
          {
           "name": 2012,
           "type": "string"
          },
          {
           "name": 2013,
           "type": "string"
          },
          {
           "name": 2014,
           "type": "string"
          },
          {
           "name": 2015,
           "type": "string"
          }
         ],
         "pandas_version": "0.20.0",
         "primaryKey": [
          "index"
         ]
        }
       },
       "total_rows": 2
      },
      "text/html": [
       "<div>\n",
       "<style scoped>\n",
       "    .dataframe tbody tr th:only-of-type {\n",
       "        vertical-align: middle;\n",
       "    }\n",
       "\n",
       "    .dataframe tbody tr th {\n",
       "        vertical-align: top;\n",
       "    }\n",
       "\n",
       "    .dataframe thead th {\n",
       "        text-align: right;\n",
       "    }\n",
       "</style>\n",
       "<table border=\"1\" class=\"dataframe\">\n",
       "  <thead>\n",
       "    <tr style=\"text-align: right;\">\n",
       "      <th></th>\n",
       "      <th>2011</th>\n",
       "      <th>2012</th>\n",
       "      <th>2013</th>\n",
       "      <th>2014</th>\n",
       "      <th>2015</th>\n",
       "    </tr>\n",
       "  </thead>\n",
       "  <tbody>\n",
       "    <tr>\n",
       "      <th>Genre Type</th>\n",
       "      <td>Drama</td>\n",
       "      <td>Drama</td>\n",
       "      <td>Drama</td>\n",
       "      <td>Drama</td>\n",
       "      <td>Drama</td>\n",
       "    </tr>\n",
       "    <tr>\n",
       "      <th>Counts Of Genre Type</th>\n",
       "      <td>213</td>\n",
       "      <td>231</td>\n",
       "      <td>253</td>\n",
       "      <td>284</td>\n",
       "      <td>260</td>\n",
       "    </tr>\n",
       "  </tbody>\n",
       "</table>\n",
       "</div>"
      ],
      "text/plain": [
       "                       2011   2012   2013   2014   2015\n",
       "Genre Type            Drama  Drama  Drama  Drama  Drama\n",
       "Counts Of Genre Type    213    231    253    284    260"
      ]
     },
     "execution_count": 67,
     "metadata": {},
     "output_type": "execute_result"
    }
   ],
   "source": [
    "most_genres_df.loc[['Genre Type','Counts Of Genre Type'],[2011,2012,2013,2014,2015]] #Last 5 years"
   ]
  },
  {
   "cell_type": "code",
   "execution_count": 68,
   "id": "0d924fc1",
   "metadata": {
    "scrolled": true
   },
   "outputs": [
    {
     "data": {
      "application/com.datacamp.data-table.v1+json": {
       "is_truncated": false,
       "table": {
        "data": [
         {
          "Counts Of Genre Type": 284,
          "Genre Type": "Drama",
          "index": 2014
         },
         {
          "Counts Of Genre Type": 260,
          "Genre Type": "Drama",
          "index": 2015
         },
         {
          "Counts Of Genre Type": 253,
          "Genre Type": "Drama",
          "index": 2013
         },
         {
          "Counts Of Genre Type": 232,
          "Genre Type": "Drama",
          "index": 2008
         },
         {
          "Counts Of Genre Type": 231,
          "Genre Type": "Drama",
          "index": 2012
         }
        ],
        "schema": {
         "fields": [
          {
           "name": "index",
           "type": "integer"
          },
          {
           "name": "Genre Type",
           "type": "string"
          },
          {
           "name": "Counts Of Genre Type",
           "type": "string"
          }
         ],
         "pandas_version": "0.20.0",
         "primaryKey": [
          "index"
         ]
        }
       },
       "total_rows": 5
      },
      "text/html": [
       "<div>\n",
       "<style scoped>\n",
       "    .dataframe tbody tr th:only-of-type {\n",
       "        vertical-align: middle;\n",
       "    }\n",
       "\n",
       "    .dataframe tbody tr th {\n",
       "        vertical-align: top;\n",
       "    }\n",
       "\n",
       "    .dataframe thead th {\n",
       "        text-align: right;\n",
       "    }\n",
       "</style>\n",
       "<table border=\"1\" class=\"dataframe\">\n",
       "  <thead>\n",
       "    <tr style=\"text-align: right;\">\n",
       "      <th></th>\n",
       "      <th>Genre Type</th>\n",
       "      <th>Counts Of Genre Type</th>\n",
       "    </tr>\n",
       "  </thead>\n",
       "  <tbody>\n",
       "    <tr>\n",
       "      <th>2014</th>\n",
       "      <td>Drama</td>\n",
       "      <td>284</td>\n",
       "    </tr>\n",
       "    <tr>\n",
       "      <th>2015</th>\n",
       "      <td>Drama</td>\n",
       "      <td>260</td>\n",
       "    </tr>\n",
       "    <tr>\n",
       "      <th>2013</th>\n",
       "      <td>Drama</td>\n",
       "      <td>253</td>\n",
       "    </tr>\n",
       "    <tr>\n",
       "      <th>2008</th>\n",
       "      <td>Drama</td>\n",
       "      <td>232</td>\n",
       "    </tr>\n",
       "    <tr>\n",
       "      <th>2012</th>\n",
       "      <td>Drama</td>\n",
       "      <td>231</td>\n",
       "    </tr>\n",
       "  </tbody>\n",
       "</table>\n",
       "</div>"
      ],
      "text/plain": [
       "     Genre Type Counts Of Genre Type\n",
       "2014      Drama                  284\n",
       "2015      Drama                  260\n",
       "2013      Drama                  253\n",
       "2008      Drama                  232\n",
       "2012      Drama                  231"
      ]
     },
     "execution_count": 68,
     "metadata": {},
     "output_type": "execute_result"
    }
   ],
   "source": [
    "mgenres_df_sorted=most_genres_df.transpose().sort_values(by='Counts Of Genre Type',ascending=False)\n",
    "mgenres_df_sorted.head(5) "
   ]
  },
  {
   "cell_type": "markdown",
   "id": "f1ca3a73-24fb-40eb-b552-e97ed6748cd0",
   "metadata": {},
   "source": [
    "According to our dataframe we see that \" Drama \" movies are on the top and it is the most popular genre type. When we check the years we see that 2014, 2015 and 2013 are on the top 3 years also."
   ]
  },
  {
   "cell_type": "markdown",
   "id": "b4ca3b7b",
   "metadata": {},
   "source": [
    "<a id='conclusions'></a>\n",
    "## Conclusions"
   ]
  },
  {
   "cell_type": "markdown",
   "id": "e25c5afb",
   "metadata": {},
   "source": [
    "You can infer so many information from this \"Tmdb Movies Dataset\". It has so many interesting parts when you check the overall dataset. So many questions can be answered with this movie dataset because it has so many detailed info parts in it. \n",
    "\n",
    "In our analysis we saw that top three actors were \"Robert De Niro\",\"Samuel L. Jackson\" and \"Bruce Willis\" performed in the movies. Plus, we see that \"Adventure\", \"Science Fiction\" and \"Action\" genres are very common according to the movie's top 5 popularity info in this dataset and \"Christopher Nolan\"' s movies are the most voted movies. \n",
    "\n",
    "I have encountered some interesting conclusions in this dataset also. For example when I first quickly checked the dataset at the beginning I thought that if a movie had an above average popularity its income would be very high too. But it does not look like equal to this conclusion in this dataset regarding our analysis. Oppositely, the net income of popular movies is not as high as their popularity. Another interesting conclusion is \"Drama\" genre type has a really very dominance in this dataset. And directors might think that if they would plan to shoot a film in the future they could think to add more \"Drama\" scenes or more \"Drama\" included stages in their scenario as the dominance of \"Drama\" genre type seen in this dataset."
   ]
  },
  {
   "cell_type": "markdown",
   "id": "ac517363",
   "metadata": {},
   "source": [
    "### Limitations"
   ]
  },
  {
   "cell_type": "markdown",
   "id": "3692763d",
   "metadata": {},
   "source": [
    "In this dataset you may encounter some null values. In my opinion you have to really carefully handle these null values because it may affect your analysis if you handle them in the wrong way. Because your analysis may skew and may cause some unintentionally biased results too.\n",
    "\n",
    "When I first look at the dataset I see the \"cast\" column a little bit complicated. It would be nice if we might see the performers whether or not they are male/female. Because with regards to their gender, we may get some good conclusions in our analysis of different categories in this dataset. Additionaly, it could be good if we might see the the location of the movies' shot. Hereby, our analysis could reach around the location info also. We might see the distribution of the movies based on the city/country etc.\n",
    "\n",
    "Finally, in this dataset I would like to see the info of a movie whether or not it had series. Because with this info I would like to try to guess maybe net-income or rating score regarding to the movies' series. Then I would like to compare these conclusions of the movies which has/has not series or any following movie series too."
   ]
  },
  {
   "cell_type": "code",
   "execution_count": null,
   "id": "80bc5ade",
   "metadata": {},
   "outputs": [],
   "source": []
  }
 ],
 "metadata": {
  "kernelspec": {
   "display_name": "Python 3 (ipykernel)",
   "language": "python",
   "name": "python3"
  },
  "language_info": {
   "codemirror_mode": {
    "name": "ipython",
    "version": 3
   },
   "file_extension": ".py",
   "mimetype": "text/x-python",
   "name": "python",
   "nbconvert_exporter": "python",
   "pygments_lexer": "ipython3",
   "version": "3.8.10"
  }
 },
 "nbformat": 4,
 "nbformat_minor": 5
}
